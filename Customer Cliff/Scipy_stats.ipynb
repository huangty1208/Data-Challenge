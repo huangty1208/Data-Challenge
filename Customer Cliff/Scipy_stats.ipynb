{
 "cells": [
  {
   "cell_type": "code",
   "execution_count": 1,
   "metadata": {},
   "outputs": [
    {
     "name": "stdout",
     "output_type": "stream",
     "text": [
      "done\n"
     ]
    }
   ],
   "source": [
    "# dependencies\n",
    "\n",
    "import numpy as np\n",
    "import pandas as pd\n",
    "%matplotlib inline\n",
    "import re\n",
    "\n",
    "print(\"done\")"
   ]
  },
  {
   "cell_type": "code",
   "execution_count": 5,
   "metadata": {},
   "outputs": [
    {
     "data": {
      "text/plain": [
       "0.26805606678589233"
      ]
     },
     "execution_count": 5,
     "metadata": {},
     "output_type": "execute_result"
    }
   ],
   "source": [
    "np.random.random()"
   ]
  },
  {
   "cell_type": "code",
   "execution_count": 7,
   "metadata": {},
   "outputs": [],
   "source": [
    "# Repeat flipping 30 coins 10k times\n",
    "b_dist = np.random.binomial(n=30, p=0.45, size=10000)"
   ]
  },
  {
   "cell_type": "code",
   "execution_count": 9,
   "metadata": {},
   "outputs": [
    {
     "data": {
      "image/png": "[encoded data removed]",
      "text/plain": [
       "<Figure size 432x288 with 1 Axes>"
      ]
     },
     "metadata": {
      "needs_background": "light"
     },
     "output_type": "display_data"
    }
   ],
   "source": [
    "import matplotlib.pyplot as plt\n",
    "\n",
    "_ = plt.hist(b_dist, bins='auto')  # arguments are passed to np.histogram\n",
    "plt.title(\"Histogram with 'auto' bins\")\n",
    "plt.show()"
   ]
  },
  {
   "cell_type": "code",
   "execution_count": 12,
   "metadata": {},
   "outputs": [
    {
     "data": {
      "text/plain": [
       "2.7248853186877424"
      ]
     },
     "execution_count": 12,
     "metadata": {},
     "output_type": "execute_result"
    }
   ],
   "source": [
    "(0.45*0.55*30)**0.5"
   ]
  },
  {
   "cell_type": "code",
   "execution_count": 13,
   "metadata": {},
   "outputs": [
    {
     "data": {
      "text/plain": [
       "13.5"
      ]
     },
     "execution_count": 13,
     "metadata": {},
     "output_type": "execute_result"
    }
   ],
   "source": [
    "0.45*30"
   ]
  },
  {
   "cell_type": "code",
   "execution_count": 14,
   "metadata": {},
   "outputs": [
    {
     "data": {
      "text/plain": [
       "7.46875775"
      ]
     },
     "execution_count": 14,
     "metadata": {},
     "output_type": "execute_result"
    }
   ],
   "source": [
    "np.var(b_dist)"
   ]
  },
  {
   "cell_type": "code",
   "execution_count": 15,
   "metadata": {},
   "outputs": [
    {
     "data": {
      "text/plain": [
       "2.7329028065410594"
      ]
     },
     "execution_count": 15,
     "metadata": {},
     "output_type": "execute_result"
    }
   ],
   "source": [
    "np.std(b_dist)"
   ]
  },
  {
   "cell_type": "code",
   "execution_count": 16,
   "metadata": {},
   "outputs": [
    {
     "data": {
      "text/plain": [
       "0.4502166666666667"
      ]
     },
     "execution_count": 16,
     "metadata": {},
     "output_type": "execute_result"
    }
   ],
   "source": [
    "np.mean(b_dist/30)"
   ]
  },
  {
   "cell_type": "code",
   "execution_count": 17,
   "metadata": {},
   "outputs": [
    {
     "data": {
      "text/plain": [
       "0.008298619722222223"
      ]
     },
     "execution_count": 17,
     "metadata": {},
     "output_type": "execute_result"
    }
   ],
   "source": [
    "np.var(b_dist/30)"
   ]
  },
  {
   "cell_type": "code",
   "execution_count": 19,
   "metadata": {},
   "outputs": [
    {
     "data": {
      "text/plain": [
       "0.00825"
      ]
     },
     "execution_count": 19,
     "metadata": {},
     "output_type": "execute_result"
    }
   ],
   "source": [
    "((0.45*0.55)/30)"
   ]
  },
  {
   "cell_type": "code",
   "execution_count": 20,
   "metadata": {},
   "outputs": [],
   "source": [
    "# Repeat flipping 30 coins 10k times\n",
    "beta = np.random.beta(a=1, b=1, size=10000)"
   ]
  },
  {
   "cell_type": "code",
   "execution_count": 21,
   "metadata": {},
   "outputs": [
    {
     "data": {
      "image/png": "[encoded data removed]",
      "text/plain": [
       "<Figure size 432x288 with 1 Axes>"
      ]
     },
     "metadata": {
      "needs_background": "light"
     },
     "output_type": "display_data"
    }
   ],
   "source": [
    "_ = plt.hist(beta, bins='auto')  # arguments are passed to np.histogram\n",
    "plt.title(\"Histogram with 'auto' bins\")\n",
    "plt.show()"
   ]
  },
  {
   "cell_type": "code",
   "execution_count": 22,
   "metadata": {},
   "outputs": [
    {
     "data": {
      "text/plain": [
       "0.49885769903077715"
      ]
     },
     "execution_count": 22,
     "metadata": {},
     "output_type": "execute_result"
    }
   ],
   "source": [
    "np.mean(beta)"
   ]
  },
  {
   "cell_type": "code",
   "execution_count": 23,
   "metadata": {},
   "outputs": [
    {
     "data": {
      "text/plain": [
       "0.08232566325288745"
      ]
     },
     "execution_count": 23,
     "metadata": {},
     "output_type": "execute_result"
    }
   ],
   "source": [
    "np.var(beta)"
   ]
  },
  {
   "cell_type": "code",
   "execution_count": 24,
   "metadata": {},
   "outputs": [
    {
     "data": {
      "text/plain": [
       "0.08333333333333333"
      ]
     },
     "execution_count": 24,
     "metadata": {},
     "output_type": "execute_result"
    }
   ],
   "source": [
    "1/12"
   ]
  },
  {
   "cell_type": "code",
   "execution_count": 25,
   "metadata": {},
   "outputs": [
    {
     "data": {
      "text/plain": [
       "30"
      ]
     },
     "execution_count": 25,
     "metadata": {},
     "output_type": "execute_result"
    }
   ],
   "source": [
    "est = []\n",
    "\n",
    "for i in range(30):\n",
    "    \n",
    "    b = np.random.beta(a=1, b=1, size=30)\n",
    "    b = np.mean(b)\n",
    "    est.append(b)\n",
    "    \n",
    "len(est)\n",
    "    \n",
    "    "
   ]
  },
  {
   "cell_type": "code",
   "execution_count": 26,
   "metadata": {},
   "outputs": [
    {
     "data": {
      "text/plain": [
       "0.5001455951437332"
      ]
     },
     "execution_count": 26,
     "metadata": {},
     "output_type": "execute_result"
    }
   ],
   "source": [
    "np.mean(np.asarray(est))"
   ]
  },
  {
   "cell_type": "code",
   "execution_count": 28,
   "metadata": {},
   "outputs": [
    {
     "data": {
      "text/plain": [
       "0.001706408148041404"
      ]
     },
     "execution_count": 28,
     "metadata": {},
     "output_type": "execute_result"
    }
   ],
   "source": [
    "np.var(np.asarray(est))"
   ]
  },
  {
   "cell_type": "code",
   "execution_count": 29,
   "metadata": {},
   "outputs": [
    {
     "data": {
      "text/plain": [
       "0.0027441887750962483"
      ]
     },
     "execution_count": 29,
     "metadata": {},
     "output_type": "execute_result"
    }
   ],
   "source": [
    "np.var(beta)/30"
   ]
  },
  {
   "cell_type": "code",
   "execution_count": 27,
   "metadata": {},
   "outputs": [
    {
     "data": {
      "image/png": "[encoded data removed]",
      "text/plain": [
       "<Figure size 432x288 with 1 Axes>"
      ]
     },
     "metadata": {
      "needs_background": "light"
     },
     "output_type": "display_data"
    }
   ],
   "source": [
    "_ = plt.hist(est, bins='auto')  # arguments are passed to np.histogram\n",
    "plt.title(\"Histogram with 'auto' bins\")\n",
    "plt.show()"
   ]
  },
  {
   "cell_type": "code",
   "execution_count": 30,
   "metadata": {},
   "outputs": [
    {
     "data": {
      "text/plain": [
       "100"
      ]
     },
     "execution_count": 30,
     "metadata": {},
     "output_type": "execute_result"
    }
   ],
   "source": [
    "est = []\n",
    "\n",
    "for i in range(100):\n",
    "    \n",
    "    b = np.random.beta(a=1, b=1, size=30)\n",
    "    b = np.mean(b)\n",
    "    est.append(b)\n",
    "    \n",
    "len(est)\n",
    "    \n",
    "    "
   ]
  },
  {
   "cell_type": "code",
   "execution_count": 31,
   "metadata": {},
   "outputs": [
    {
     "data": {
      "image/png": "[encoded data removed]",
      "text/plain": [
       "<Figure size 432x288 with 1 Axes>"
      ]
     },
     "metadata": {
      "needs_background": "light"
     },
     "output_type": "display_data"
    }
   ],
   "source": [
    "_ = plt.hist(est, bins='auto')  # arguments are passed to np.histogram\n",
    "plt.title(\"Histogram with 'auto' bins\")\n",
    "plt.show()"
   ]
  },
  {
   "cell_type": "code",
   "execution_count": 32,
   "metadata": {},
   "outputs": [
    {
     "data": {
      "text/plain": [
       "0.49250673041354404"
      ]
     },
     "execution_count": 32,
     "metadata": {},
     "output_type": "execute_result"
    }
   ],
   "source": [
    "np.mean(np.asarray(est))"
   ]
  },
  {
   "cell_type": "code",
   "execution_count": 33,
   "metadata": {},
   "outputs": [
    {
     "data": {
      "text/plain": [
       "0.003205053766807097"
      ]
     },
     "execution_count": 33,
     "metadata": {},
     "output_type": "execute_result"
    }
   ],
   "source": [
    "np.var(np.asarray(est))"
   ]
  },
  {
   "cell_type": "code",
   "execution_count": 34,
   "metadata": {},
   "outputs": [
    {
     "data": {
      "text/plain": [
       "500"
      ]
     },
     "execution_count": 34,
     "metadata": {},
     "output_type": "execute_result"
    }
   ],
   "source": [
    "est = []\n",
    "\n",
    "for i in range(500):\n",
    "    \n",
    "    b = np.random.beta(a=1, b=1, size=30)\n",
    "    b = np.mean(b)\n",
    "    est.append(b)\n",
    "    \n",
    "len(est)"
   ]
  },
  {
   "cell_type": "code",
   "execution_count": 35,
   "metadata": {},
   "outputs": [
    {
     "data": {
      "image/png": "[encoded data removed]",
      "text/plain": [
       "<Figure size 432x288 with 1 Axes>"
      ]
     },
     "metadata": {
      "needs_background": "light"
     },
     "output_type": "display_data"
    }
   ],
   "source": [
    "_ = plt.hist(est, bins='auto')  # arguments are passed to np.histogram\n",
    "plt.title(\"Histogram with 'auto' bins\")\n",
    "plt.show()"
   ]
  },
  {
   "cell_type": "code",
   "execution_count": 36,
   "metadata": {},
   "outputs": [
    {
     "data": {
      "text/plain": [
       "0.002692546037915777"
      ]
     },
     "execution_count": 36,
     "metadata": {},
     "output_type": "execute_result"
    }
   ],
   "source": [
    "np.var(np.asarray(est))"
   ]
  },
  {
   "cell_type": "code",
   "execution_count": 37,
   "metadata": {},
   "outputs": [
    {
     "data": {
      "text/plain": [
       "1000"
      ]
     },
     "execution_count": 37,
     "metadata": {},
     "output_type": "execute_result"
    }
   ],
   "source": [
    "est = []\n",
    "\n",
    "for i in range(1000):\n",
    "    \n",
    "    b = np.random.beta(a=1, b=1, size=30)\n",
    "    b = np.mean(b)\n",
    "    est.append(b)\n",
    "    \n",
    "len(est)"
   ]
  },
  {
   "cell_type": "code",
   "execution_count": 38,
   "metadata": {},
   "outputs": [
    {
     "data": {
      "image/png": "[encoded data removed]",
      "text/plain": [
       "<Figure size 432x288 with 1 Axes>"
      ]
     },
     "metadata": {
      "needs_background": "light"
     },
     "output_type": "display_data"
    }
   ],
   "source": [
    "_ = plt.hist(est, bins='auto')  # arguments are passed to np.histogram\n",
    "plt.title(\"Histogram with 'auto' bins\")\n",
    "plt.show()"
   ]
  },
  {
   "cell_type": "code",
   "execution_count": 39,
   "metadata": {},
   "outputs": [
    {
     "data": {
      "text/plain": [
       "0.002556780687069634"
      ]
     },
     "execution_count": 39,
     "metadata": {},
     "output_type": "execute_result"
    }
   ],
   "source": [
    "np.var(np.asarray(est))"
   ]
  },
  {
   "cell_type": "code",
   "execution_count": 40,
   "metadata": {},
   "outputs": [
    {
     "name": "stdout",
     "output_type": "stream",
     "text": [
      "100.0\n",
      "109.85411419875584\n",
      "120.67926406393289\n",
      "132.57113655901094\n",
      "145.63484775012444\n",
      "159.98587196060572\n",
      "175.7510624854791\n",
      "193.06977288832496\n",
      "212.09508879201903\n",
      "232.99518105153717\n",
      "255.95479226995357\n",
      "281.1768697974231\n",
      "308.88435964774817\n",
      "339.32217718953297\n",
      "372.7593720314938\n",
      "409.49150623804235\n",
      "449.8432668969444\n",
      "494.1713361323833\n",
      "542.867543932386\n",
      "596.3623316594643\n",
      "655.1285568595509\n",
      "719.6856730011522\n",
      "790.6043210907702\n",
      "868.511373751352\n",
      "954.0954763499944\n",
      "1048.1131341546852\n",
      "1151.395399326447\n",
      "1264.8552168552958\n",
      "1389.4954943731375\n",
      "1526.4179671752333\n",
      "1676.8329368110067\n",
      "1842.0699693267163\n",
      "2023.5896477251556\n",
      "2222.9964825261955\n",
      "2442.05309454865\n",
      "2682.6957952797247\n",
      "2947.0517025518097\n",
      "3237.457542817643\n",
      "3556.4803062231285\n",
      "3906.939937054613\n",
      "4291.934260128778\n",
      "4714.8663634573895\n",
      "5179.474679231213\n",
      "5689.866029018293\n",
      "6250.55192527397\n",
      "6866.488450042998\n",
      "7543.120063354615\n",
      "8286.427728546843\n",
      "9102.981779915217\n",
      "10000.0\n"
     ]
    }
   ],
   "source": [
    "for size in np.logspace(2,4):\n",
    "    print(size)"
   ]
  },
  {
   "cell_type": "code",
   "execution_count": 41,
   "metadata": {},
   "outputs": [
    {
     "data": {
      "text/plain": [
       "array([[5, 6, 1]])"
      ]
     },
     "execution_count": 41,
     "metadata": {},
     "output_type": "execute_result"
    }
   ],
   "source": [
    "#%% Multinoulli example\n",
    "\n",
    "n = 12                      # number of trials (games in one tourment)\n",
    "pvals = [0.4, 0.35, 0.25]   # probabilities on a single trial\n",
    " \n",
    "\n",
    "sizes =[] # number of tournments played\n",
    "p = []    # a list to hold ratios (converge to prob) that player 1 wins 7 times, player 2 wins 2 times and 3 ties\n",
    "\n",
    "np.random.multinomial(n, pvals, size=1)"
   ]
  },
  {
   "cell_type": "code",
   "execution_count": 45,
   "metadata": {},
   "outputs": [
    {
     "name": "stderr",
     "output_type": "stream",
     "text": [
      "C:\\Users\\huang\\Anaconda3\\lib\\site-packages\\matplotlib\\axes\\_base.py:3215: MatplotlibDeprecationWarning: \n",
      "The `xmin` argument was deprecated in Matplotlib 3.0 and will be removed in 3.2. Use `left` instead.\n",
      "  alternative='`left`', obj_type='argument')\n"
     ]
    },
    {
     "data": {
      "text/plain": [
       "Text(0.5, 1.0, 'Theoretical p(X=K) = 0.0248')"
      ]
     },
     "execution_count": 45,
     "metadata": {},
     "output_type": "execute_result"
    },
    {
     "data": {
      "image/png": "[encoded data removed]",
      "text/plain": [
       "<Figure size 432x288 with 1 Axes>"
      ]
     },
     "metadata": {
      "needs_background": "light"
     },
     "output_type": "display_data"
    }
   ],
   "source": [
    "for size in np.logspace(2,4):\n",
    "    # the line below is where we actually generate discrete random variables according the multinomial distribution\n",
    "    outcomes = np.random.multinomial(n, pvals, size=int(size))\n",
    "    \n",
    "    # let's count the ratio of the expected outcome over all the outcomes - this will lastly converge to the probability\n",
    "    prob = sum((outcomes[:,0]==7)&(outcomes[:,1]==2)&(outcomes[:,2]==3))/len(outcomes)\n",
    "    \n",
    "    p.append(prob)\n",
    "    sizes.append(int(size))\n",
    "\n",
    "# Plotting\n",
    "fig1 = plt.figure()\n",
    "plt.plot(sizes,p,'o-')\n",
    "plt.plot(sizes,[0.0248]*len(sizes),'--r')\n",
    "plt.grid()\n",
    "plt.xlim(xmin=0)\n",
    "plt.xlabel('Number of Drawings')\n",
    "plt.ylabel('p(X=K)')\n",
    "plt.title('Theoretical p(X=K) = 0.0248')\n"
   ]
  },
  {
   "cell_type": "code",
   "execution_count": 55,
   "metadata": {},
   "outputs": [
    {
     "data": {
      "text/plain": [
       "array([3, 6, 5, 4, 5, 3, 2, 4, 3, 4])"
      ]
     },
     "execution_count": 55,
     "metadata": {},
     "output_type": "execute_result"
    }
   ],
   "source": [
    "outcomes[:10,0]"
   ]
  },
  {
   "cell_type": "code",
   "execution_count": 58,
   "metadata": {},
   "outputs": [
    {
     "data": {
      "text/plain": [
       "Text(0.5, 1.0, 'Theoretical p(X=K) = 0.0248')"
      ]
     },
     "execution_count": 58,
     "metadata": {},
     "output_type": "execute_result"
    },
    {
     "data": {
      "image/png": "[encoded data removed]",
      "text/plain": [
       "<Figure size 432x288 with 1 Axes>"
      ]
     },
     "metadata": {
      "needs_background": "light"
     },
     "output_type": "display_data"
    }
   ],
   "source": [
    "# Plotting\n",
    "fig1 = plt.figure()\n",
    "plt.plot(sizes,p,'go-')\n",
    "plt.plot(sizes,[0.0248]*len(sizes),'--r')\n",
    "plt.grid()\n",
    "plt.xlim(xmin=0)\n",
    "plt.xlabel('Number of Drawings')\n",
    "plt.ylabel('p(X=K)')\n",
    "plt.title('Theoretical p(X=K) = 0.0248')"
   ]
  },
  {
   "cell_type": "code",
   "execution_count": 59,
   "metadata": {},
   "outputs": [
    {
     "data": {
      "text/plain": [
       "Text(0.5, 1.0, 'Theoretical p(X=2) = 0.167')"
      ]
     },
     "execution_count": 59,
     "metadata": {},
     "output_type": "execute_result"
    },
    {
     "data": {
      "image/png": "[encoded data removed]",
      "text/plain": [
       "<Figure size 432x288 with 1 Axes>"
      ]
     },
     "metadata": {
      "needs_background": "light"
     },
     "output_type": "display_data"
    }
   ],
   "source": [
    "\n",
    "# uniform\n",
    "\n",
    "# Empty list to hold the ratio of 2s in each set of drawings\n",
    "p = []\n",
    "\n",
    "nr_trials = np.logspace(1,3,100)\n",
    "for i in nr_trials:\n",
    "    N = int(i) # number of drawings\n",
    "    # generate N uniform random number between 1 and 6 (7 is exclusive)\n",
    "    uniform_samples = np.random.randint(1, 7, size = N)\n",
    "    # count the number of 2s we got\n",
    "    count = np.sum(uniform_samples == 2)\n",
    "    pval = count/N # ratio (tends to probability)\n",
    "    p.append(pval)\n",
    "    \n",
    "    \n",
    "fig1 = plt.figure()\n",
    "plt.plot(nr_trials,p,'o-')\n",
    "plt.plot(nr_trials,[1/6]*len(nr_trials),'--r')\n",
    "plt.grid()\n",
    "plt.xlim(nr_trials[0],nr_trials[-1])\n",
    "plt.xlabel('Number of drawings')\n",
    "plt.ylabel('p(X=2)')\n",
    "plt.title(f'Theoretical p(X=2) = {1/6:.3f}')\n"
   ]
  },
  {
   "cell_type": "code",
   "execution_count": 60,
   "metadata": {},
   "outputs": [
    {
     "data": {
      "text/plain": [
       "array([5.21307065, 8.23654835, 4.27995401, 2.4861221 , 9.11556032,\n",
       "       9.66105165, 6.29433375, 2.1152807 , 4.62441683, 6.16733439])"
      ]
     },
     "execution_count": 60,
     "metadata": {},
     "output_type": "execute_result"
    }
   ],
   "source": [
    "\n",
    "uni = np.random.uniform(low=1, high=10, size=10)\n",
    "uni"
   ]
  },
  {
   "cell_type": "code",
   "execution_count": 61,
   "metadata": {},
   "outputs": [
    {
     "name": "stdout",
     "output_type": "stream",
     "text": [
      "Theoretical probability = 0.333\n"
     ]
    },
    {
     "data": {
      "text/plain": [
       "Text(0.5, 1.0, 'Theoretical p(X=sucess) = 0.333')"
      ]
     },
     "execution_count": 61,
     "metadata": {},
     "output_type": "execute_result"
    },
    {
     "data": {
      "image/png": "[encoded data removed]",
      "text/plain": [
       "<Figure size 432x288 with 1 Axes>"
      ]
     },
     "metadata": {
      "needs_background": "light"
     },
     "output_type": "display_data"
    }
   ],
   "source": [
    "# Bernoulli\n",
    "\n",
    "'''\n",
    "Consider getting either a 1 or a 2 in a die roll as sucess, while any\n",
    "other number as a failure. This can be modeled as Bernoulli distribution\n",
    "with $theta$ as p(X=success) and $1-\\theta$ as p(X=fail)\n",
    "'''\n",
    "\n",
    "# Theoreticallly we know that each number in the roll of a die comes\n",
    "# from the uniform distribution so getting either 1 or 2 should be\n",
    "# p(X=sucess) =p(X=1) + p(X=2), where $X \\in {1,2,3,4,5,6}$\n",
    "\n",
    "theoryBernoulli = 1/6 + 1/6\n",
    "print(f'Theoretical probability = {theoryBernoulli :.3f}')\n",
    "\n",
    "# create a list to hold the probabilities\n",
    "p = []\n",
    "\n",
    "nr_trials = np.logspace(1,3,100)\n",
    "# Perform an experiment drawing uniform numbers and counting the amount of\n",
    "# 1 or 2 and dividing the count by the number of drawings\n",
    "for i in nr_trials :\n",
    "    N = int(i)\n",
    "    uniform_samples = np.random.randint(1, 7, size = N)\n",
    "    count = np.isin(uniform_samples,[1,2])\n",
    "    pval = sum(count)/N\n",
    "    p.append(pval)\n",
    "    \n",
    "\n",
    "fig2 = plt.figure()\n",
    "plt.plot(nr_trials,p,'o-')\n",
    "plt.plot(nr_trials,[theoryBernoulli]*len(nr_trials),'--r')\n",
    "plt.grid()\n",
    "plt.xlim(nr_trials[0],nr_trials[-1])\n",
    "plt.xlabel('Number of drawings')\n",
    "plt.ylabel('p(X=success)')\n",
    "plt.title(f'Theoretical p(X=sucess) = {theoryBernoulli:.3f}')"
   ]
  },
  {
   "cell_type": "code",
   "execution_count": 63,
   "metadata": {},
   "outputs": [
    {
     "data": {
      "text/plain": [
       "array([-6.        , -4.90909091, -3.81818182, -2.72727273, -1.63636364,\n",
       "       -0.54545455,  0.54545455,  1.63636364,  2.72727273,  3.81818182,\n",
       "        4.90909091,  6.        ])"
      ]
     },
     "execution_count": 63,
     "metadata": {},
     "output_type": "execute_result"
    }
   ],
   "source": [
    "t = np.linspace(-6, 6, 12)\n",
    "t"
   ]
  },
  {
   "cell_type": "code",
   "execution_count": 64,
   "metadata": {},
   "outputs": [
    {
     "data": {
      "text/plain": [
       "array([ 0.2794155 ,  0.98071647,  0.6261372 , -0.40256749, -0.99785123,\n",
       "       -0.51880673,  0.51880673,  0.99785123,  0.40256749, -0.6261372 ,\n",
       "       -0.98071647, -0.2794155 ])"
      ]
     },
     "execution_count": 64,
     "metadata": {},
     "output_type": "execute_result"
    }
   ],
   "source": [
    "np.sin(t)"
   ]
  },
  {
   "cell_type": "code",
   "execution_count": null,
   "metadata": {},
   "outputs": [],
   "source": [
    "### hypothesis"
   ]
  },
  {
   "cell_type": "code",
   "execution_count": 65,
   "metadata": {},
   "outputs": [],
   "source": [
    "from scipy import stats"
   ]
  },
  {
   "cell_type": "code",
   "execution_count": 66,
   "metadata": {},
   "outputs": [
    {
     "data": {
      "text/plain": [
       "1000"
      ]
     },
     "execution_count": 66,
     "metadata": {},
     "output_type": "execute_result"
    }
   ],
   "source": [
    "len(est)"
   ]
  },
  {
   "cell_type": "code",
   "execution_count": 67,
   "metadata": {},
   "outputs": [
    {
     "data": {
      "text/plain": [
       "Ttest_1sampResult(statistic=-1.2446050949403775, pvalue=0.21356884822510308)"
      ]
     },
     "execution_count": 67,
     "metadata": {},
     "output_type": "execute_result"
    }
   ],
   "source": [
    "stats.ttest_1samp(est, 0.5)"
   ]
  },
  {
   "cell_type": "code",
   "execution_count": 68,
   "metadata": {},
   "outputs": [
    {
     "data": {
      "text/plain": [
       "0.49800888855390313"
      ]
     },
     "execution_count": 68,
     "metadata": {},
     "output_type": "execute_result"
    }
   ],
   "source": [
    "np.mean(est)"
   ]
  },
  {
   "cell_type": "code",
   "execution_count": 69,
   "metadata": {},
   "outputs": [
    {
     "data": {
      "text/plain": [
       "0.050564618925387286"
      ]
     },
     "execution_count": 69,
     "metadata": {},
     "output_type": "execute_result"
    }
   ],
   "source": [
    "np.std(est)"
   ]
  },
  {
   "cell_type": "code",
   "execution_count": 72,
   "metadata": {},
   "outputs": [
    {
     "data": {
      "text/plain": [
       "-1.2452278646040378"
      ]
     },
     "execution_count": 72,
     "metadata": {},
     "output_type": "execute_result"
    }
   ],
   "source": [
    "(np.mean(est) - 0.5)/ (np.std(est)/(1000)**0.5)"
   ]
  },
  {
   "cell_type": "code",
   "execution_count": 73,
   "metadata": {},
   "outputs": [
    {
     "data": {
      "text/plain": [
       "Ttest_indResult(statistic=-0.3877997795168604, pvalue=0.700328089449918)"
      ]
     },
     "execution_count": 73,
     "metadata": {},
     "output_type": "execute_result"
    }
   ],
   "source": [
    "u1 = np.random.uniform(low=1, high=10, size=20)\n",
    "u2 = np.random.uniform(low=1, high=10, size=20)\n",
    "stats.ttest_ind(u1,u2)"
   ]
  },
  {
   "cell_type": "code",
   "execution_count": 74,
   "metadata": {},
   "outputs": [
    {
     "data": {
      "text/plain": [
       "Ttest_indResult(statistic=-4.3920629305708685, pvalue=8.681521912060807e-05)"
      ]
     },
     "execution_count": 74,
     "metadata": {},
     "output_type": "execute_result"
    }
   ],
   "source": [
    "u1 = np.random.uniform(low=1, high=10, size=20)\n",
    "u2 = np.random.uniform(low=5, high=15, size=20)\n",
    "stats.ttest_ind(u1,u2)"
   ]
  },
  {
   "cell_type": "code",
   "execution_count": 75,
   "metadata": {},
   "outputs": [
    {
     "data": {
      "text/plain": [
       "Ttest_indResult(statistic=-4.875577977409186, pvalue=1.960772113429266e-05)"
      ]
     },
     "execution_count": 75,
     "metadata": {},
     "output_type": "execute_result"
    }
   ],
   "source": [
    "#  Welch's t-test, or unequal variances t-test,\n",
    "\n",
    "u1 = np.random.uniform(low=1, high=10, size=20)\n",
    "u2 = np.random.uniform(low=5, high=15, size=20)\n",
    "stats.ttest_ind(u1,u2, equal_var=False)"
   ]
  },
  {
   "cell_type": "code",
   "execution_count": 77,
   "metadata": {},
   "outputs": [
    {
     "data": {
      "text/plain": [
       "Ttest_relResult(statistic=-6.120812399618013, pvalue=6.954448404959435e-06)"
      ]
     },
     "execution_count": 77,
     "metadata": {},
     "output_type": "execute_result"
    }
   ],
   "source": [
    "#  paired test\n",
    "\n",
    "u1 = np.random.uniform(low=1, high=10, size=20)\n",
    "u2 = np.random.uniform(low=5, high=15, size=20)\n",
    "stats.ttest_rel(u1,u2)"
   ]
  },
  {
   "cell_type": "code",
   "execution_count": 78,
   "metadata": {},
   "outputs": [
    {
     "data": {
      "text/plain": [
       "WilcoxonResult(statistic=18.0, pvalue=0.0011624285733496413)"
      ]
     },
     "execution_count": 78,
     "metadata": {},
     "output_type": "execute_result"
    }
   ],
   "source": [
    "# Wilcoxon signed-rank test\n",
    "\n",
    "u1 = np.random.uniform(low=1, high=10, size=20)\n",
    "u2 = np.random.uniform(low=5, high=15, size=20)\n",
    "\n",
    "stats.wilcoxon(u1,u2)"
   ]
  },
  {
   "cell_type": "code",
   "execution_count": 79,
   "metadata": {},
   "outputs": [
    {
     "data": {
      "text/plain": [
       "\"When you analyse your own data, it is extremely unlikely that your two distributions will be identical, \\nbut they may have the same (or a 'similar') shape. If they do have the same shape, you can use SPSS \\nStatistics to carry out a Mann-Whitney U test to compare the medians of your dependent variable\\n(e.g., engagement score) for the two groups (e.g., males and females) of the independent variable\\n(e.g., gender) you are interested in. However, if your two distribution have a different shape, \\nyou can only use the Mann-Whitney U test to compare mean ranks.\""
      ]
     },
     "execution_count": 79,
     "metadata": {},
     "output_type": "execute_result"
    }
   ],
   "source": [
    "\"\"\"When you analyse your own data, it is extremely unlikely that your two distributions will be identical, \n",
    "but they may have the same (or a 'similar') shape. If they do have the same shape, you can use SPSS \n",
    "Statistics to carry out a Mann-Whitney U test to compare the medians of your dependent variable\n",
    "(e.g., engagement score) for the two groups (e.g., males and females) of the independent variable\n",
    "(e.g., gender) you are interested in. However, if your two distribution have a different shape, \n",
    "you can only use the Mann-Whitney U test to compare mean ranks.\"\"\"\n"
   ]
  },
  {
   "cell_type": "code",
   "execution_count": null,
   "metadata": {},
   "outputs": [],
   "source": [
    "\"\"\"For any Mann-Whitney U test, the theoretical range of U is from 0 (complete separation between groups, \n",
    "H0 most likely false and H1 most likely true) to n1*n2 (little evidence in support of H1).\"\"\""
   ]
  },
  {
   "cell_type": "code",
   "execution_count": 80,
   "metadata": {},
   "outputs": [
    {
     "data": {
      "text/plain": [
       "MannwhitneyuResult(statistic=49.0, pvalue=2.3402016193169243e-05)"
      ]
     },
     "execution_count": 80,
     "metadata": {},
     "output_type": "execute_result"
    }
   ],
   "source": [
    "# Wilcoxon signed-rank test\n",
    "\n",
    "u1 = np.random.uniform(low=1, high=10, size=20)\n",
    "u2 = np.random.uniform(low=5, high=15, size=20)\n",
    "\n",
    "stats.mannwhitneyu(u1,u2)"
   ]
  },
  {
   "cell_type": "code",
   "execution_count": 81,
   "metadata": {},
   "outputs": [
    {
     "data": {
      "text/plain": [
       "(0.4948695469584869, 0.5011482301493193)"
      ]
     },
     "execution_count": 81,
     "metadata": {},
     "output_type": "execute_result"
    }
   ],
   "source": [
    "### confidence interval\n",
    "\n",
    "stats.t.interval(alpha=0.95, df=len(est)-1, loc=np.mean(est), scale=stats.sem(est))"
   ]
  },
  {
   "cell_type": "code",
   "execution_count": 82,
   "metadata": {},
   "outputs": [
    {
     "data": {
      "text/plain": [
       "0.49800888855390313"
      ]
     },
     "execution_count": 82,
     "metadata": {},
     "output_type": "execute_result"
    }
   ],
   "source": [
    "np.mean(est)"
   ]
  },
  {
   "cell_type": "code",
   "execution_count": 84,
   "metadata": {},
   "outputs": [
    {
     "data": {
      "text/plain": [
       "0.0015989936482267947"
      ]
     },
     "execution_count": 84,
     "metadata": {},
     "output_type": "execute_result"
    }
   ],
   "source": [
    "np.std(est)/(1000**0.5)"
   ]
  },
  {
   "cell_type": "code",
   "execution_count": 85,
   "metadata": {},
   "outputs": [
    {
     "data": {
      "text/plain": [
       "1.9633233683558464"
      ]
     },
     "execution_count": 85,
     "metadata": {},
     "output_type": "execute_result"
    }
   ],
   "source": [
    "(np.mean(est) - 0.4948695469584869 ) / (np.std(est)/(1000**0.5))"
   ]
  },
  {
   "cell_type": "code",
   "execution_count": 86,
   "metadata": {},
   "outputs": [
    {
     "data": {
      "text/plain": [
       "0.001599793745173649"
      ]
     },
     "execution_count": 86,
     "metadata": {},
     "output_type": "execute_result"
    }
   ],
   "source": [
    "stats.sem(est)"
   ]
  },
  {
   "cell_type": "code",
   "execution_count": 92,
   "metadata": {},
   "outputs": [
    {
     "name": "stdout",
     "output_type": "stream",
     "text": [
      "Help on built-in function random_sample:\n",
      "\n",
      "random_sample(...) method of mtrand.RandomState instance\n",
      "    random_sample(size=None)\n",
      "    \n",
      "    Return random floats in the half-open interval [0.0, 1.0).\n",
      "    \n",
      "    Results are from the \"continuous uniform\" distribution over the\n",
      "    stated interval.  To sample :math:`Unif[a, b), b > a` multiply\n",
      "    the output of `random_sample` by `(b-a)` and add `a`::\n",
      "    \n",
      "      (b - a) * random_sample() + a\n",
      "    \n",
      "    Parameters\n",
      "    ----------\n",
      "    size : int or tuple of ints, optional\n",
      "        Output shape.  If the given shape is, e.g., ``(m, n, k)``, then\n",
      "        ``m * n * k`` samples are drawn.  Default is None, in which case a\n",
      "        single value is returned.\n",
      "    \n",
      "    Returns\n",
      "    -------\n",
      "    out : float or ndarray of floats\n",
      "        Array of random floats of shape `size` (unless ``size=None``, in which\n",
      "        case a single float is returned).\n",
      "    \n",
      "    Examples\n",
      "    --------\n",
      "    >>> np.random.random_sample()\n",
      "    0.47108547995356098\n",
      "    >>> type(np.random.random_sample())\n",
      "    <type 'float'>\n",
      "    >>> np.random.random_sample((5,))\n",
      "    array([ 0.30220482,  0.86820401,  0.1654503 ,  0.11659149,  0.54323428])\n",
      "    \n",
      "    Three-by-two array of random numbers from [-5, 0):\n",
      "    \n",
      "    >>> 5 * np.random.random_sample((3, 2)) - 5\n",
      "    array([[-3.99149989, -0.52338984],\n",
      "           [-2.99091858, -0.79479508],\n",
      "           [-1.23204345, -1.75224494]])\n",
      "\n"
     ]
    }
   ],
   "source": [
    "help(np.random.random)"
   ]
  },
  {
   "cell_type": "code",
   "execution_count": 97,
   "metadata": {},
   "outputs": [
    {
     "data": {
      "text/plain": [
       "(array(0.), array(1.02040816), array(0.), array(0.0625))"
      ]
     },
     "execution_count": 97,
     "metadata": {},
     "output_type": "execute_result"
    }
   ],
   "source": [
    "stats.t.stats(df = 100, moments='mvsk')"
   ]
  },
  {
   "cell_type": "code",
   "execution_count": 98,
   "metadata": {},
   "outputs": [
    {
     "data": {
      "text/plain": [
       "0.5"
      ]
     },
     "execution_count": 98,
     "metadata": {},
     "output_type": "execute_result"
    }
   ],
   "source": [
    "stats.t.sf(abs(0), df = 10)"
   ]
  },
  {
   "cell_type": "code",
   "execution_count": 99,
   "metadata": {},
   "outputs": [
    {
     "data": {
      "text/plain": [
       "0.03921812012384987"
      ]
     },
     "execution_count": 99,
     "metadata": {},
     "output_type": "execute_result"
    }
   ],
   "source": [
    "stats.t.sf(1.96, df = 10)"
   ]
  },
  {
   "cell_type": "code",
   "execution_count": 100,
   "metadata": {},
   "outputs": [
    {
     "data": {
      "text/plain": [
       "0.9607818798761502"
      ]
     },
     "execution_count": 100,
     "metadata": {},
     "output_type": "execute_result"
    }
   ],
   "source": [
    "stats.t.sf(-1.96, df = 10)"
   ]
  },
  {
   "cell_type": "code",
   "execution_count": 101,
   "metadata": {},
   "outputs": [
    {
     "data": {
      "text/plain": [
       "0.6860531971285135"
      ]
     },
     "execution_count": 101,
     "metadata": {},
     "output_type": "execute_result"
    }
   ],
   "source": [
    "stats.t.cdf(0.5, df = 10)"
   ]
  },
  {
   "cell_type": "code",
   "execution_count": 102,
   "metadata": {},
   "outputs": [
    {
     "data": {
      "text/plain": [
       "0.5"
      ]
     },
     "execution_count": 102,
     "metadata": {},
     "output_type": "execute_result"
    }
   ],
   "source": [
    "stats.t.cdf(0, df = 10)"
   ]
  },
  {
   "cell_type": "code",
   "execution_count": 103,
   "metadata": {},
   "outputs": [
    {
     "data": {
      "text/plain": [
       "0.9607818798761502"
      ]
     },
     "execution_count": 103,
     "metadata": {},
     "output_type": "execute_result"
    }
   ],
   "source": [
    "stats.t.cdf(1.96, df = 10)"
   ]
  },
  {
   "cell_type": "code",
   "execution_count": 104,
   "metadata": {},
   "outputs": [
    {
     "data": {
      "text/plain": [
       "0.03921812012384987"
      ]
     },
     "execution_count": 104,
     "metadata": {},
     "output_type": "execute_result"
    }
   ],
   "source": [
    "stats.t.cdf(-1.96, df = 10)"
   ]
  },
  {
   "cell_type": "code",
   "execution_count": 105,
   "metadata": {},
   "outputs": [
    {
     "data": {
      "text/plain": [
       "0.029671156448025263"
      ]
     },
     "execution_count": 105,
     "metadata": {},
     "output_type": "execute_result"
    }
   ],
   "source": [
    "stats.t.cdf(-1.96, df = 30)"
   ]
  },
  {
   "cell_type": "code",
   "execution_count": 108,
   "metadata": {},
   "outputs": [
    {
     "data": {
      "text/plain": [
       "0.39563218489409696"
      ]
     },
     "execution_count": 108,
     "metadata": {},
     "output_type": "execute_result"
    }
   ],
   "source": [
    "stats.t.pdf(0,  df = 30)"
   ]
  },
  {
   "cell_type": "code",
   "execution_count": 109,
   "metadata": {},
   "outputs": [
    {
     "data": {
      "text/plain": [
       "0.23799334232287897"
      ]
     },
     "execution_count": 109,
     "metadata": {},
     "output_type": "execute_result"
    }
   ],
   "source": [
    "stats.t.pdf(1,  df = 30)"
   ]
  },
  {
   "cell_type": "code",
   "execution_count": 110,
   "metadata": {},
   "outputs": [
    {
     "data": {
      "text/plain": [
       "0.23799334232287897"
      ]
     },
     "execution_count": 110,
     "metadata": {},
     "output_type": "execute_result"
    }
   ],
   "source": [
    "stats.t.pdf(-1,  df = 30)"
   ]
  },
  {
   "cell_type": "code",
   "execution_count": 111,
   "metadata": {},
   "outputs": [
    {
     "data": {
      "text/plain": [
       "1.6972608943617378"
      ]
     },
     "execution_count": 111,
     "metadata": {},
     "output_type": "execute_result"
    }
   ],
   "source": [
    "stats.t.ppf(0.95,  df = 30)"
   ]
  },
  {
   "cell_type": "code",
   "execution_count": 112,
   "metadata": {},
   "outputs": [
    {
     "data": {
      "text/plain": [
       "-1.6972608943617384"
      ]
     },
     "execution_count": 112,
     "metadata": {},
     "output_type": "execute_result"
    }
   ],
   "source": [
    "stats.t.ppf(0.05,  df = 30)"
   ]
  },
  {
   "cell_type": "code",
   "execution_count": 113,
   "metadata": {},
   "outputs": [
    {
     "data": {
      "text/plain": [
       "0.9499750753969193"
      ]
     },
     "execution_count": 113,
     "metadata": {},
     "output_type": "execute_result"
    }
   ],
   "source": [
    "stats.t.cdf(1.697, df = 30)"
   ]
  },
  {
   "cell_type": "code",
   "execution_count": 114,
   "metadata": {},
   "outputs": [
    {
     "data": {
      "text/plain": [
       "(139.5558732936803, 0.4979775402349724, 0.05020101981189428)"
      ]
     },
     "execution_count": 114,
     "metadata": {},
     "output_type": "execute_result"
    }
   ],
   "source": [
    "stats.t.fit(est)"
   ]
  },
  {
   "cell_type": "code",
   "execution_count": 115,
   "metadata": {},
   "outputs": [
    {
     "data": {
      "text/plain": [
       "(1.3125004944442162,\n",
       " 1.306929705789575,\n",
       " -0.01787977432005635,\n",
       " 1.017859082117314)"
      ]
     },
     "execution_count": 115,
     "metadata": {},
     "output_type": "execute_result"
    }
   ],
   "source": [
    "stats.beta.fit(beta)"
   ]
  },
  {
   "cell_type": "code",
   "execution_count": 116,
   "metadata": {},
   "outputs": [
    {
     "data": {
      "text/plain": [
       "0.49885769903077715"
      ]
     },
     "execution_count": 116,
     "metadata": {},
     "output_type": "execute_result"
    }
   ],
   "source": [
    "np.mean(beta)"
   ]
  },
  {
   "cell_type": "code",
   "execution_count": 118,
   "metadata": {},
   "outputs": [
    {
     "data": {
      "text/plain": [
       "<scipy.stats._multivariate.multinomial_frozen at 0x25ba76c2668>"
      ]
     },
     "execution_count": 118,
     "metadata": {},
     "output_type": "execute_result"
    }
   ],
   "source": [
    "stats.multinomial(8, [0.3, 0.2, 0.5])"
   ]
  },
  {
   "cell_type": "code",
   "execution_count": 120,
   "metadata": {},
   "outputs": [
    {
     "data": {
      "text/plain": [
       "array([2, 1, 5])"
      ]
     },
     "execution_count": 120,
     "metadata": {},
     "output_type": "execute_result"
    }
   ],
   "source": [
    "stats.multinomial.rvs(8, [0.3, 0.2, 0.5])"
   ]
  },
  {
   "cell_type": "code",
   "execution_count": 122,
   "metadata": {},
   "outputs": [
    {
     "name": "stdout",
     "output_type": "stream",
     "text": [
      "d by the 1st method = -0.5596621094715237\n",
      "The first method is incorrect because nx is not equal to ny.\n",
      "d by the more general 2nd method = -0.5720156046660209\n"
     ]
    }
   ],
   "source": [
    "\n",
    "## cohen's d\n",
    "\n",
    "from numpy import std, mean, sqrt\n",
    "\n",
    "#correct if the population S.D. is expected to be equal for the two groups.\n",
    "def cohen_d(x,y):\n",
    "    nx = len(x)\n",
    "    ny = len(y)\n",
    "    dof = nx + ny - 2\n",
    "    return (mean(x) - mean(y)) / sqrt(((nx-1)*std(x, ddof=1) ** 2 + (ny-1)*std(y, ddof=1) ** 2) / dof)\n",
    "\n",
    "#dummy data\n",
    "x = [2,4,7,3,7,35,8,9]\n",
    "y = [i*2 for i in x]\n",
    "# extra element so that two group sizes are not equal.\n",
    "x.append(10)\n",
    "\n",
    "#correct only if nx=ny\n",
    "d = (mean(x) - mean(y)) / sqrt((std(x, ddof=1) ** 2 + std(y, ddof=1) ** 2) / 2.0)\n",
    "print (\"d by the 1st method = \" + str(d))\n",
    "if (len(x) != len(y)):\n",
    "    print(\"The first method is incorrect because nx is not equal to ny.\")\n",
    "\n",
    "#correct for more general case including nx !=ny\n",
    "print (\"d by the more general 2nd method = \" + str(cohen_d(x,y)))"
   ]
  },
  {
   "cell_type": "code",
   "execution_count": 4,
   "metadata": {},
   "outputs": [],
   "source": [
    "### t test sample size calculation \n",
    "from statsmodels.stats.power import TTestIndPower"
   ]
  },
  {
   "cell_type": "code",
   "execution_count": 5,
   "metadata": {},
   "outputs": [
    {
     "name": "stdout",
     "output_type": "stream",
     "text": [
      "Required sample size: 25.52\n"
     ]
    }
   ],
   "source": [
    "\n",
    "# parameters for the analysis \n",
    "effect_size = 0.8\n",
    "alpha = 0.05 # significance level\n",
    "power = 0.8\n",
    "\n",
    "power_analysis = TTestIndPower()\n",
    "sample_size = power_analysis.solve_power(effect_size = effect_size, \n",
    "                                         power = power, \n",
    "                                         alpha = alpha)\n",
    "\n",
    "print('Required sample size: {0:.2f}'.format(sample_size))"
   ]
  },
  {
   "cell_type": "code",
   "execution_count": 9,
   "metadata": {},
   "outputs": [
    {
     "data": {
      "image/png": "[encoded data removed]",
      "text/plain": [
       "<Figure size 432x288 with 2 Axes>"
      ]
     },
     "metadata": {
      "needs_background": "light"
     },
     "output_type": "display_data"
    }
   ],
   "source": [
    "\n",
    "import seaborn as sns\n",
    "import matplotlib.pyplot as plt\n",
    "\n",
    "fig = plt.figure()\n",
    "ax = fig.add_subplot(2,1,1)\n",
    "fig = TTestIndPower().plot_power(dep_var='nobs',\n",
    "                                 nobs= np.arange(2, 200),\n",
    "                                 effect_size=np.array([0.2, 0.5, 0.8]),\n",
    "                                 alpha=0.01,\n",
    "                                 ax=ax, title='Power of t-Test' + '\\n' + r'$\\alpha = 0.01$')\n",
    "ax.get_legend().remove()\n",
    "ax = fig.add_subplot(2,1,2)\n",
    "fig = TTestIndPower().plot_power(dep_var='nobs',\n",
    "                                 nobs= np.arange(2, 200),\n",
    "                                 effect_size=np.array([0.2, 0.5, 0.8]),\n",
    "                                 alpha=0.05,\n",
    "                                 ax=ax, title=r'$\\alpha = 0.05$') \n",
    "fig.subplots_adjust(top = 1.4)"
   ]
  },
  {
   "cell_type": "code",
   "execution_count": 14,
   "metadata": {},
   "outputs": [
    {
     "data": {
      "image/png": "[encoded data removed]",
      "text/plain": [
       "<Figure size 432x288 with 1 Axes>"
      ]
     },
     "metadata": {
      "needs_background": "light"
     },
     "output_type": "display_data"
    }
   ],
   "source": [
    "fig = plt.figure()\n",
    "ax = fig.add_subplot(2,1,1)\n",
    "fig = TTestIndPower().plot_power(dep_var='effect_size',\n",
    "                                 nobs= np.array([10,20,50,100,200]),\n",
    "                                 effect_size=np.arange(0.0, 1.0, 0.01 ),\n",
    "                                 alpha=0.01,\n",
    "                                 ax=ax, title='Power of t-Test' + '\\n' + r'$\\alpha = 0.01$')"
   ]
  },
  {
   "cell_type": "code",
   "execution_count": null,
   "metadata": {},
   "outputs": [],
   "source": [
    "# parameters for the analysis \n",
    "effect_size = 0.8\n",
    "alpha = 0.05 # significance level\n",
    "power = 0.8\n",
    "\n",
    "sample_size = power_analysis.solve_power(effect_size = effect_size, \n",
    "                                         power = power, \n",
    "                                         alpha = alpha)\n",
    "\n",
    "print('Required sample size: {0:.2f}'.format(sample_size))"
   ]
  },
  {
   "cell_type": "code",
   "execution_count": 15,
   "metadata": {},
   "outputs": [],
   "source": [
    "# AB testing\n",
    "import statsmodels.stats.api as sms"
   ]
  },
  {
   "cell_type": "code",
   "execution_count": 16,
   "metadata": {},
   "outputs": [
    {
     "data": {
      "text/plain": [
       "-0.0576728617308947"
      ]
     },
     "execution_count": 16,
     "metadata": {},
     "output_type": "execute_result"
    }
   ],
   "source": [
    "# Calculating effect size based on our expected rates\n",
    "\n",
    "effect_size = sms.proportion_effectsize(0.13, 0.15)\n",
    "effect_size"
   ]
  },
  {
   "cell_type": "code",
   "execution_count": 17,
   "metadata": {},
   "outputs": [
    {
     "data": {
      "text/plain": [
       "0.34678355468680044"
      ]
     },
     "execution_count": 17,
     "metadata": {},
     "output_type": "execute_result"
    }
   ],
   "source": [
    "-0.02 / effect_size"
   ]
  },
  {
   "cell_type": "code",
   "execution_count": 18,
   "metadata": {},
   "outputs": [
    {
     "data": {
      "text/plain": [
       "4719.4740575998185"
      ]
     },
     "execution_count": 18,
     "metadata": {},
     "output_type": "execute_result"
    }
   ],
   "source": [
    "required_n = sms.NormalIndPower().solve_power(\n",
    "    effect_size, \n",
    "    power=0.8, \n",
    "    alpha=0.05, \n",
    "    ratio=1\n",
    "    )    \n",
    "\n",
    "required_n"
   ]
  },
  {
   "cell_type": "code",
   "execution_count": 20,
   "metadata": {},
   "outputs": [
    {
     "data": {
      "text/plain": [
       "62.79088416571135"
      ]
     },
     "execution_count": 20,
     "metadata": {},
     "output_type": "execute_result"
    }
   ],
   "source": [
    "required_n = sms.NormalIndPower().solve_power(\n",
    "    effect_size = 0.5, \n",
    "    power=0.8, \n",
    "    alpha=0.05, \n",
    "    ratio=1\n",
    "    )    \n",
    "\n",
    "required_n"
   ]
  },
  {
   "cell_type": "code",
   "execution_count": 21,
   "metadata": {},
   "outputs": [
    {
     "name": "stdout",
     "output_type": "stream",
     "text": [
      "[[10, 20, 30], [6, 9, 17]]\n",
      "dof=2\n",
      "[[10.43478261 18.91304348 30.65217391]\n",
      " [ 5.56521739 10.08695652 16.34782609]]\n",
      "probability=0.950, critical=5.991, stat=0.272\n",
      "Independent (fail to reject H0)\n",
      "significance=0.050, p=0.873\n",
      "Independent (fail to reject H0)\n"
     ]
    }
   ],
   "source": [
    "from scipy.stats import chi2_contingency\n",
    "from scipy.stats import chi2\n",
    "\n",
    "# contingency table\n",
    "table = [[10, 20, 30],[6,  9,  17]]\n",
    "print(table)\n",
    "\n",
    "stat, p, dof, expected = chi2_contingency(table)\n",
    "print('dof=%d' % dof)\n",
    "print(expected)\n",
    "# interpret test-statistic\n",
    "prob = 0.95\n",
    "critical = chi2.ppf(prob, dof)\n",
    "print('probability=%.3f, critical=%.3f, stat=%.3f' % (prob, critical, stat))\n",
    "\n",
    "if abs(stat) >= critical:\n",
    " print('Dependent (reject H0)')\n",
    "else:\n",
    " print('Independent (fail to reject H0)')\n",
    "\n",
    "# interpret p-value\n",
    "alpha = 1.0 - prob\n",
    "print('significance=%.3f, p=%.3f' % (alpha, p))\n",
    "if p <= alpha:\n",
    " print('Dependent (reject H0)')\n",
    "else:\n",
    " print('Independent (fail to reject H0)')"
   ]
  },
  {
   "cell_type": "code",
   "execution_count": 22,
   "metadata": {},
   "outputs": [
    {
     "data": {
      "text/plain": [
       "Text(0, 0.5, 'P(X)')"
      ]
     },
     "execution_count": 22,
     "metadata": {},
     "output_type": "execute_result"
    },
    {
     "data": {
      "image/png": "[encoded data removed]",
      "text/plain": [
       "<Figure size 432x288 with 1 Axes>"
      ]
     },
     "metadata": {
      "needs_background": "light"
     },
     "output_type": "display_data"
    }
   ],
   "source": [
    "# Bayes simulation\n",
    "\n",
    "ontime = 0\n",
    "\n",
    "prob = []\n",
    "nr_points = []\n",
    "for i in range(1, int(1e6)):\n",
    "    car_problem = np.random.random() \n",
    "\n",
    "    # Will he have a car problem?\n",
    "    if car_problem < 0.2:\n",
    "        # if he has  a car problem, will he still arrive on time?\n",
    "        train = np.random.choice(np.arange(1,11))\n",
    "        if train <= 2:\n",
    "            ontime += 1\n",
    "    else: # no car problem\n",
    "        ontime_noproblem = np.random.random()\n",
    "        if ontime_noproblem < 0.3:\n",
    "            ontime += 1\n",
    "    \n",
    "    if i%10 == 0:\n",
    "        nr_points.append(i)\n",
    "        prob.append(ontime/(i))\n",
    "    \n",
    "#plt.plot(prob)\n",
    "plt.semilogx(nr_points, prob)\n",
    "plt.ylim([0,0.3])\n",
    "plt.grid(True, which='both')\n",
    "plt.xlabel('# of Drawings')\n",
    "plt.ylabel('P(X)')\n"
   ]
  },
  {
   "cell_type": "code",
   "execution_count": null,
   "metadata": {},
   "outputs": [],
   "source": [
    "# RLS"
   ]
  },
  {
   "cell_type": "code",
   "execution_count": 23,
   "metadata": {},
   "outputs": [
    {
     "data": {
      "text/html": [
       "<div>\n",
       "<style scoped>\n",
       "    .dataframe tbody tr th:only-of-type {\n",
       "        vertical-align: middle;\n",
       "    }\n",
       "\n",
       "    .dataframe tbody tr th {\n",
       "        vertical-align: top;\n",
       "    }\n",
       "\n",
       "    .dataframe thead th {\n",
       "        text-align: right;\n",
       "    }\n",
       "</style>\n",
       "<table border=\"1\" class=\"dataframe\">\n",
       "  <thead>\n",
       "    <tr style=\"text-align: right;\">\n",
       "      <th></th>\n",
       "      <th>X</th>\n",
       "      <th>y</th>\n",
       "    </tr>\n",
       "  </thead>\n",
       "  <tbody>\n",
       "    <tr>\n",
       "      <th>0</th>\n",
       "      <td>5.910131</td>\n",
       "      <td>4.714615</td>\n",
       "    </tr>\n",
       "    <tr>\n",
       "      <th>1</th>\n",
       "      <td>2.500393</td>\n",
       "      <td>2.076238</td>\n",
       "    </tr>\n",
       "    <tr>\n",
       "      <th>2</th>\n",
       "      <td>3.946845</td>\n",
       "      <td>2.548811</td>\n",
       "    </tr>\n",
       "    <tr>\n",
       "      <th>3</th>\n",
       "      <td>7.102233</td>\n",
       "      <td>4.615368</td>\n",
       "    </tr>\n",
       "    <tr>\n",
       "      <th>4</th>\n",
       "      <td>6.168895</td>\n",
       "      <td>3.264107</td>\n",
       "    </tr>\n",
       "  </tbody>\n",
       "</table>\n",
       "</div>"
      ],
      "text/plain": [
       "          X         y\n",
       "0  5.910131  4.714615\n",
       "1  2.500393  2.076238\n",
       "2  3.946845  2.548811\n",
       "3  7.102233  4.615368\n",
       "4  6.168895  3.264107"
      ]
     },
     "execution_count": 23,
     "metadata": {},
     "output_type": "execute_result"
    }
   ],
   "source": [
    "# Generate 'random' data\n",
    "np.random.seed(0)\n",
    "X = 2.5 * np.random.randn(100) + 1.5   # Array of 100 values with mean = 1.5, stddev = 2.5\n",
    "res = 0.5 * np.random.randn(100)       # Generate 100 residual terms\n",
    "y = 2 + 0.3 * X + res                  # Actual values of Y\n",
    "\n",
    "# Create pandas dataframe to store our X and y values\n",
    "df = pd.DataFrame(\n",
    "    {'X': X,\n",
    "     'y': y}\n",
    ")\n",
    "\n",
    "# Show the first five rows of our dataframe\n",
    "df.head()"
   ]
  },
  {
   "cell_type": "code",
   "execution_count": 39,
   "metadata": {},
   "outputs": [
    {
     "data": {
      "text/plain": [
       "(array([ 1., 16., 18., 17., 16., 18.,  5.,  9.]),\n",
       " array([-1.11170158, -0.82379233, -0.53588309, -0.24797384,  0.03993541,\n",
       "         0.32784465,  0.6157539 ,  0.90366314,  1.19157239]),\n",
       " <a list of 8 Patch objects>)"
      ]
     },
     "execution_count": 39,
     "metadata": {},
     "output_type": "execute_result"
    },
    {
     "data": {
      "image/png": "[encoded data removed]",
      "text/plain": [
       "<Figure size 432x288 with 1 Axes>"
      ]
     },
     "metadata": {
      "needs_background": "light"
     },
     "output_type": "display_data"
    }
   ],
   "source": [
    "plt.hist(res, bins='auto') "
   ]
  },
  {
   "cell_type": "code",
   "execution_count": 37,
   "metadata": {},
   "outputs": [
    {
     "data": {
      "text/plain": [
       "(array([ 3.,  7., 10., 19., 17., 23., 11.,  5.,  4.,  1.]),\n",
       " array([-2.1229507 , -1.65056771, -1.17818472, -0.70580174, -0.23341875,\n",
       "         0.23896424,  0.71134722,  1.18373021,  1.6561132 ,  2.12849619,\n",
       "         2.60087917]),\n",
       " <a list of 10 Patch objects>)"
      ]
     },
     "execution_count": 37,
     "metadata": {},
     "output_type": "execute_result"
    },
    {
     "data": {
      "image/png": "[encoded data removed]",
      "text/plain": [
       "<Figure size 432x288 with 1 Axes>"
      ]
     },
     "metadata": {
      "needs_background": "light"
     },
     "output_type": "display_data"
    }
   ],
   "source": [
    "plt.hist(np.random.randn(100), bins='auto') "
   ]
  },
  {
   "cell_type": "code",
   "execution_count": 36,
   "metadata": {},
   "outputs": [
    {
     "data": {
      "text/plain": [
       "(array([11.,  9., 17., 13., 10., 13., 11., 16.]),\n",
       " array([0.00206464, 0.12655581, 0.25104698, 0.37553815, 0.50002932,\n",
       "        0.62452049, 0.74901166, 0.87350283, 0.997994  ]),\n",
       " <a list of 8 Patch objects>)"
      ]
     },
     "execution_count": 36,
     "metadata": {},
     "output_type": "execute_result"
    },
    {
     "data": {
      "image/png": "[encoded data removed]",
      "text/plain": [
       "<Figure size 432x288 with 1 Axes>"
      ]
     },
     "metadata": {
      "needs_background": "light"
     },
     "output_type": "display_data"
    }
   ],
   "source": [
    "plt.hist(np.random.rand(100), bins='auto') "
   ]
  },
  {
   "cell_type": "code",
   "execution_count": 40,
   "metadata": {},
   "outputs": [
    {
     "name": "stdout",
     "output_type": "stream",
     "text": [
      "alpha = 2.0031670124623426\n",
      "beta = 0.3229396867092763\n"
     ]
    }
   ],
   "source": [
    "# Calculate the mean of X and y\n",
    "xmean = np.mean(X)\n",
    "ymean = np.mean(y)\n",
    "\n",
    "# Calculate the terms needed for the numator and denominator of beta\n",
    "df['xycov'] = (df['X'] - xmean) * (df['y'] - ymean)\n",
    "df['xvar'] = (df['X'] - xmean)**2\n",
    "\n",
    "# Calculate beta and alpha\n",
    "beta = df['xycov'].sum() / df['xvar'].sum()\n",
    "alpha = ymean - (beta * xmean)\n",
    "print(f'alpha = {alpha}')\n",
    "print(f'beta = {beta}')"
   ]
  },
  {
   "cell_type": "code",
   "execution_count": 41,
   "metadata": {},
   "outputs": [
    {
     "data": {
      "image/png": "[encoded data removed]",
      "text/plain": [
       "<Figure size 864x432 with 1 Axes>"
      ]
     },
     "metadata": {
      "needs_background": "light"
     },
     "output_type": "display_data"
    }
   ],
   "source": [
    "ypred = alpha + beta * X\n",
    "\n",
    "# Plot regression against actual data\n",
    "plt.figure(figsize=(12, 6))\n",
    "plt.plot(X, ypred)     # regression line\n",
    "plt.plot(X, y, 'ro')   # scatter plot showing actual data\n",
    "plt.title('Actual vs Predicted')\n",
    "plt.xlabel('X')\n",
    "plt.ylabel('y')\n",
    "\n",
    "plt.show()"
   ]
  },
  {
   "cell_type": "code",
   "execution_count": 54,
   "metadata": {},
   "outputs": [],
   "source": [
    "import statsmodels.formula.api as smf\n",
    "\n",
    "# Initialise and fit linear regression model using `statsmodels`\n",
    "model = smf.ols('y ~ X', data=df)\n",
    "model = model.fit()"
   ]
  },
  {
   "cell_type": "code",
   "execution_count": 43,
   "metadata": {},
   "outputs": [
    {
     "data": {
      "text/plain": [
       "Intercept    2.003167\n",
       "X            0.322940\n",
       "dtype: float64"
      ]
     },
     "execution_count": 43,
     "metadata": {},
     "output_type": "execute_result"
    }
   ],
   "source": [
    "model.params"
   ]
  },
  {
   "cell_type": "code",
   "execution_count": 55,
   "metadata": {},
   "outputs": [
    {
     "data": {
      "text/html": [
       "<table class=\"simpletable\">\n",
       "<caption>OLS Regression Results</caption>\n",
       "<tr>\n",
       "  <th>Dep. Variable:</th>            <td>y</td>        <th>  R-squared:         </th> <td>   0.715</td>\n",
       "</tr>\n",
       "<tr>\n",
       "  <th>Model:</th>                   <td>OLS</td>       <th>  Adj. R-squared:    </th> <td>   0.712</td>\n",
       "</tr>\n",
       "<tr>\n",
       "  <th>Method:</th>             <td>Least Squares</td>  <th>  F-statistic:       </th> <td>   245.5</td>\n",
       "</tr>\n",
       "<tr>\n",
       "  <th>Date:</th>             <td>Wed, 01 Dec 2021</td> <th>  Prob (F-statistic):</th> <td>1.93e-28</td>\n",
       "</tr>\n",
       "<tr>\n",
       "  <th>Time:</th>                 <td>23:22:26</td>     <th>  Log-Likelihood:    </th> <td> -75.359</td>\n",
       "</tr>\n",
       "<tr>\n",
       "  <th>No. Observations:</th>      <td>   100</td>      <th>  AIC:               </th> <td>   154.7</td>\n",
       "</tr>\n",
       "<tr>\n",
       "  <th>Df Residuals:</th>          <td>    98</td>      <th>  BIC:               </th> <td>   159.9</td>\n",
       "</tr>\n",
       "<tr>\n",
       "  <th>Df Model:</th>              <td>     1</td>      <th>                     </th>     <td> </td>   \n",
       "</tr>\n",
       "<tr>\n",
       "  <th>Covariance Type:</th>      <td>nonrobust</td>    <th>                     </th>     <td> </td>   \n",
       "</tr>\n",
       "</table>\n",
       "<table class=\"simpletable\">\n",
       "<tr>\n",
       "      <td></td>         <th>coef</th>     <th>std err</th>      <th>t</th>      <th>P>|t|</th>  <th>[0.025</th>    <th>0.975]</th>  \n",
       "</tr>\n",
       "<tr>\n",
       "  <th>Intercept</th> <td>    2.0032</td> <td>    0.062</td> <td>   32.273</td> <td> 0.000</td> <td>    1.880</td> <td>    2.126</td>\n",
       "</tr>\n",
       "<tr>\n",
       "  <th>X</th>         <td>    0.3229</td> <td>    0.021</td> <td>   15.669</td> <td> 0.000</td> <td>    0.282</td> <td>    0.364</td>\n",
       "</tr>\n",
       "</table>\n",
       "<table class=\"simpletable\">\n",
       "<tr>\n",
       "  <th>Omnibus:</th>       <td> 5.184</td> <th>  Durbin-Watson:     </th> <td>   1.995</td>\n",
       "</tr>\n",
       "<tr>\n",
       "  <th>Prob(Omnibus):</th> <td> 0.075</td> <th>  Jarque-Bera (JB):  </th> <td>   3.000</td>\n",
       "</tr>\n",
       "<tr>\n",
       "  <th>Skew:</th>          <td> 0.210</td> <th>  Prob(JB):          </th> <td>   0.223</td>\n",
       "</tr>\n",
       "<tr>\n",
       "  <th>Kurtosis:</th>      <td> 2.262</td> <th>  Cond. No.          </th> <td>    3.73</td>\n",
       "</tr>\n",
       "</table><br/><br/>Warnings:<br/>[1] Standard Errors assume that the covariance matrix of the errors is correctly specified."
      ],
      "text/plain": [
       "<class 'statsmodels.iolib.summary.Summary'>\n",
       "\"\"\"\n",
       "                            OLS Regression Results                            \n",
       "==============================================================================\n",
       "Dep. Variable:                      y   R-squared:                       0.715\n",
       "Model:                            OLS   Adj. R-squared:                  0.712\n",
       "Method:                 Least Squares   F-statistic:                     245.5\n",
       "Date:                Wed, 01 Dec 2021   Prob (F-statistic):           1.93e-28\n",
       "Time:                        23:22:26   Log-Likelihood:                -75.359\n",
       "No. Observations:                 100   AIC:                             154.7\n",
       "Df Residuals:                      98   BIC:                             159.9\n",
       "Df Model:                           1                                         \n",
       "Covariance Type:            nonrobust                                         \n",
       "==============================================================================\n",
       "                 coef    std err          t      P>|t|      [0.025      0.975]\n",
       "------------------------------------------------------------------------------\n",
       "Intercept      2.0032      0.062     32.273      0.000       1.880       2.126\n",
       "X              0.3229      0.021     15.669      0.000       0.282       0.364\n",
       "==============================================================================\n",
       "Omnibus:                        5.184   Durbin-Watson:                   1.995\n",
       "Prob(Omnibus):                  0.075   Jarque-Bera (JB):                3.000\n",
       "Skew:                           0.210   Prob(JB):                        0.223\n",
       "Kurtosis:                       2.262   Cond. No.                         3.73\n",
       "==============================================================================\n",
       "\n",
       "Warnings:\n",
       "[1] Standard Errors assume that the covariance matrix of the errors is correctly specified.\n",
       "\"\"\""
      ]
     },
     "execution_count": 55,
     "metadata": {},
     "output_type": "execute_result"
    }
   ],
   "source": [
    "model.summary()"
   ]
  },
  {
   "cell_type": "code",
   "execution_count": 44,
   "metadata": {},
   "outputs": [
    {
     "data": {
      "image/png": "[encoded data removed]",
      "text/plain": [
       "<Figure size 864x432 with 1 Axes>"
      ]
     },
     "metadata": {
      "needs_background": "light"
     },
     "output_type": "display_data"
    }
   ],
   "source": [
    "# Predict values\n",
    "x_pred = model.predict()\n",
    "\n",
    "# Plot regression against actual data\n",
    "plt.figure(figsize=(12, 6))\n",
    "plt.plot(X, y, 'o')           # scatter plot showing actual data\n",
    "plt.plot(X, x_pred, 'r', linewidth=2)   # regression line\n",
    "plt.xlabel('x')\n",
    "plt.ylabel('y')\n",
    "plt.title('xy')\n",
    "\n",
    "plt.show()"
   ]
  },
  {
   "cell_type": "code",
   "execution_count": 47,
   "metadata": {},
   "outputs": [],
   "source": [
    "from sklearn.linear_model import LinearRegression\n",
    "\n",
    "# Build linear regression model using TV and Radio as predictors\n",
    "# Split data into predictors X and output Y\n",
    "\n",
    "\n",
    "# Initialise and fit model\n",
    "lm = LinearRegression()\n",
    "model = lm.fit(X.reshape(-1, 1), y)"
   ]
  },
  {
   "cell_type": "code",
   "execution_count": 48,
   "metadata": {},
   "outputs": [
    {
     "name": "stdout",
     "output_type": "stream",
     "text": [
      "alpha = 2.003167012462343\n",
      "betas = [0.32293969]\n"
     ]
    }
   ],
   "source": [
    "print(f'alpha = {model.intercept_}')\n",
    "print(f'betas = {model.coef_}')"
   ]
  },
  {
   "cell_type": "code",
   "execution_count": 56,
   "metadata": {},
   "outputs": [],
   "source": [
    "### bootstrap"
   ]
  },
  {
   "cell_type": "code",
   "execution_count": 57,
   "metadata": {},
   "outputs": [
    {
     "data": {
      "text/plain": [
       "array([143, 167, 120, 219, 114, 114, 180, 217, 143, 202, 123, 134, 132,\n",
       "       165, 122, 121, 168, 145, 124, 186, 117, 236, 105, 186, 182, 110,\n",
       "       162, 129, 239, 171, 158, 142, 171, 154, 218, 183, 125, 221, 231,\n",
       "       216, 183, 137, 208, 107, 184, 198, 116, 133, 197, 165])"
      ]
     },
     "execution_count": 57,
     "metadata": {},
     "output_type": "execute_result"
    }
   ],
   "source": [
    "weight_pop = np.random.randint(100,240,size = 50)# simulated population distribution\n",
    "weight_pop"
   ]
  },
  {
   "cell_type": "code",
   "execution_count": 64,
   "metadata": {},
   "outputs": [
    {
     "data": {
      "text/plain": [
       "(array([12.,  9.,  4.,  7.,  8.,  6.,  4.]),\n",
       " array([105.        , 124.14285714, 143.28571429, 162.42857143,\n",
       "        181.57142857, 200.71428571, 219.85714286, 239.        ]),\n",
       " <a list of 7 Patch objects>)"
      ]
     },
     "execution_count": 64,
     "metadata": {},
     "output_type": "execute_result"
    },
    {
     "data": {
      "image/png": "[encoded data removed]",
      "text/plain": [
       "<Figure size 432x288 with 1 Axes>"
      ]
     },
     "metadata": {
      "needs_background": "light"
     },
     "output_type": "display_data"
    }
   ],
   "source": [
    "plt.hist(weight_pop, bins='auto')"
   ]
  },
  {
   "cell_type": "code",
   "execution_count": 59,
   "metadata": {},
   "outputs": [
    {
     "name": "stdout",
     "output_type": "stream",
     "text": [
      "162.46\n",
      "38.60528979298045\n"
     ]
    }
   ],
   "source": [
    "print(np.mean(weight_pop))# population mean\n",
    "\n",
    "print(np.std(weight_pop))# population std"
   ]
  },
  {
   "cell_type": "code",
   "execution_count": 60,
   "metadata": {},
   "outputs": [
    {
     "name": "stdout",
     "output_type": "stream",
     "text": [
      "172.8\n",
      "30.400000000000002\n"
     ]
    }
   ],
   "source": [
    "weight_sample = np.random.choice(weight_pop, size = 5)\n",
    "\n",
    "sample_mean = np.mean(weight_sample)# sample mean\n",
    "print(sample_mean)\n",
    "\n",
    "sample_std = np.std(weight_sample)# sample std\n",
    "print(sample_std)"
   ]
  },
  {
   "cell_type": "code",
   "execution_count": 61,
   "metadata": {},
   "outputs": [],
   "source": [
    "boot_means = []\n",
    "boot_stds = []\n",
    "for _ in range(10000):\n",
    "    boot_sample = np.random.choice(weight_sample,replace = True, size = 5) # take a random sample each iteration\n",
    "    boot_mean = np.mean(boot_sample)# calculate the mean for each iteration\n",
    "    boot_means.append(boot_mean) # append the mean to boot_means\n",
    "    boot_std = np.mean(boot_sample)# calculate the mean for each iteration\n",
    "    boot_stds.append(boot_std) # append the mean to boot_means    \n",
    "    \n",
    "boot_means_np = np.array(boot_means) # transform it into a numpy array for calculation\n",
    "boot_stds_np = np.array(boot_stds)\n"
   ]
  },
  {
   "cell_type": "code",
   "execution_count": 63,
   "metadata": {},
   "outputs": [
    {
     "name": "stdout",
     "output_type": "stream",
     "text": [
      "172.73792000000003\n",
      "162.46\n",
      "13.621213531605767\n"
     ]
    },
    {
     "data": {
      "text/plain": [
       "array([141.6, 193.6])"
      ]
     },
     "execution_count": 63,
     "metadata": {},
     "output_type": "execute_result"
    }
   ],
   "source": [
    "boot_means = np.mean(boot_means_np)# bootstrapped sample means\n",
    "print(boot_means)\n",
    "\n",
    "print(np.mean(weight_pop))# recall: true population mean\n",
    "\n",
    "boot_std = np.std(boot_means_np) # bootstrapped std\n",
    "print(boot_std)\n",
    "\n",
    "np.percentile(boot_means_np, [2.5,97.5])# 95% C.I."
   ]
  },
  {
   "cell_type": "code",
   "execution_count": 65,
   "metadata": {},
   "outputs": [
    {
     "data": {
      "text/plain": [
       "(array([   2.,    0.,    0.,    0.,    0.,    0.,   30.,   23.,   13.,\n",
       "           0.,    0.,    0.,    0.,  198.,   99.,  127.,   59.,   30.,\n",
       "           0.,   33.,  650.,  210.,  769.,   82.,  284.,    0.,  213.,\n",
       "         875.,  506., 1227.,  317.,  660.,   90.,  384.,  469.,  447.,\n",
       "         871.,  388.,  585.,  119.,  195.,   14.,   26.,    5.]),\n",
       " array([114., 116., 118., 120., 122., 124., 126., 128., 130., 132., 134.,\n",
       "        136., 138., 140., 142., 144., 146., 148., 150., 152., 154., 156.,\n",
       "        158., 160., 162., 164., 166., 168., 170., 172., 174., 176., 178.,\n",
       "        180., 182., 184., 186., 188., 190., 192., 194., 196., 198., 200.,\n",
       "        202.]),\n",
       " <a list of 44 Patch objects>)"
      ]
     },
     "execution_count": 65,
     "metadata": {},
     "output_type": "execute_result"
    },
    {
     "data": {
      "image/png": "[encoded data removed]",
      "text/plain": [
       "<Figure size 432x288 with 1 Axes>"
      ]
     },
     "metadata": {
      "needs_background": "light"
     },
     "output_type": "display_data"
    }
   ],
   "source": [
    "plt.hist(boot_means_np, bins='auto')"
   ]
  },
  {
   "cell_type": "code",
   "execution_count": 66,
   "metadata": {},
   "outputs": [
    {
     "data": {
      "text/plain": [
       "1.6448536269514722"
      ]
     },
     "execution_count": 66,
     "metadata": {},
     "output_type": "execute_result"
    }
   ],
   "source": [
    "import scipy.stats as st\n",
    "st.norm.ppf(.95)"
   ]
  },
  {
   "cell_type": "code",
   "execution_count": 67,
   "metadata": {},
   "outputs": [
    {
     "data": {
      "text/plain": [
       "0.9500150944608786"
      ]
     },
     "execution_count": 67,
     "metadata": {},
     "output_type": "execute_result"
    }
   ],
   "source": [
    "import scipy.stats as st\n",
    "st.norm.cdf(1.645)"
   ]
  },
  {
   "cell_type": "code",
   "execution_count": 70,
   "metadata": {},
   "outputs": [
    {
     "data": {
      "text/plain": [
       "(-1.959963984540054, 1.959963984540054)"
      ]
     },
     "execution_count": 70,
     "metadata": {},
     "output_type": "execute_result"
    }
   ],
   "source": [
    "st.norm.interval(0.95, loc=0, scale=1)"
   ]
  },
  {
   "cell_type": "code",
   "execution_count": 74,
   "metadata": {},
   "outputs": [
    {
     "data": {
      "text/plain": [
       "(151.3771093873925, 173.54289061260752)"
      ]
     },
     "execution_count": 74,
     "metadata": {},
     "output_type": "execute_result"
    }
   ],
   "source": [
    "st.t.interval(alpha=0.95, df=len(weight_pop)-1, loc=np.mean(weight_pop), scale=st.sem(weight_pop))"
   ]
  },
  {
   "cell_type": "code",
   "execution_count": 76,
   "metadata": {},
   "outputs": [
    {
     "data": {
      "text/plain": [
       "162.46"
      ]
     },
     "execution_count": 76,
     "metadata": {},
     "output_type": "execute_result"
    }
   ],
   "source": [
    "np.mean(weight_pop)"
   ]
  },
  {
   "cell_type": "code",
   "execution_count": null,
   "metadata": {},
   "outputs": [],
   "source": [
    "# MonteCarlo integration"
   ]
  },
  {
   "cell_type": "code",
   "execution_count": 72,
   "metadata": {},
   "outputs": [
    {
     "name": "stdout",
     "output_type": "stream",
     "text": [
      "5.753473374074139\n"
     ]
    }
   ],
   "source": [
    "def f1(x):\n",
    "    return (15*x**3+21*x**2+41*x+3)**(1/4) * (np.exp(-0.5*x))\n",
    "\n",
    "def monte_carlo(func,\n",
    "                a=0,\n",
    "                b=1,\n",
    "                n=1000):\n",
    "    \"\"\"\n",
    "    Monte Carlo integration\n",
    "    \"\"\"\n",
    "    \n",
    "    u = np.random.uniform(size=n)\n",
    "    #plt.hist(u)\n",
    "    u_func = func(a+(b-a)*u)\n",
    "    s = ((b-a)/n)*u_func.sum()\n",
    "    \n",
    "    return s\n",
    "\n",
    "inte = monte_carlo(f1,a=0,b=4,n=1000)\n",
    "print(inte)"
   ]
  },
  {
   "cell_type": "code",
   "execution_count": 73,
   "metadata": {},
   "outputs": [
    {
     "data": {
      "text/plain": [
       "(5.767433490695931, 5.492382346019772e-10)"
      ]
     },
     "execution_count": 73,
     "metadata": {},
     "output_type": "execute_result"
    }
   ],
   "source": [
    "from scipy.integrate import quad\n",
    "quad(f1,a=0,b=4)"
   ]
  },
  {
   "cell_type": "code",
   "execution_count": null,
   "metadata": {},
   "outputs": [],
   "source": []
  }
 ],
 "metadata": {
  "kernelspec": {
   "display_name": "Python 3",
   "language": "python",
   "name": "python3"
  },
  "language_info": {
   "codemirror_mode": {
    "name": "ipython",
    "version": 3
   },
   "file_extension": ".py",
   "mimetype": "text/x-python",
   "name": "python",
   "nbconvert_exporter": "python",
   "pygments_lexer": "ipython3",
   "version": "3.7.1"
  }
 },
 "nbformat": 4,
 "nbformat_minor": 2
}
