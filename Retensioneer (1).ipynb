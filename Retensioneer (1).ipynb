{
 "cells": [
  {
   "cell_type": "code",
   "execution_count": 1,
   "metadata": {},
   "outputs": [
    {
     "name": "stdout",
     "output_type": "stream",
     "text": [
      "done\n"
     ]
    }
   ],
   "source": [
    "# dependencies\n",
    "\n",
    "import numpy as np\n",
    "import pandas as pd\n",
    "%matplotlib inline\n",
    "import re\n",
    "\n",
    "print(\"done\")"
   ]
  },
  {
   "cell_type": "code",
   "execution_count": 11,
   "metadata": {},
   "outputs": [
    {
     "data": {
      "text/plain": [
       "['emailclick_for_model.csv',\n",
       " 'event_attendee_2019_for_model.csv',\n",
       " 'event_for_model.csv',\n",
       " 'sales_activity_for_model.csv',\n",
       " 'sales_opportunity_for_model.csv',\n",
       " 'webtool_for_model.csv',\n",
       " 'web_download_for_model.csv']"
      ]
     },
     "execution_count": 11,
     "metadata": {},
     "output_type": "execute_result"
    }
   ],
   "source": [
    "import glob\n",
    "\"\"\"path = \"C:\\\\Users\\\\u6uj\\\\Downloads\\\\\"\"\"\n",
    "\n",
    "fn = '*for_model*'\n",
    "\n",
    "f_list = glob.glob(fn)\n",
    "f_list"
   ]
  },
  {
   "cell_type": "code",
   "execution_count": 12,
   "metadata": {},
   "outputs": [
    {
     "data": {
      "text/plain": [
       "(553540, 4)"
      ]
     },
     "execution_count": 12,
     "metadata": {},
     "output_type": "execute_result"
    }
   ],
   "source": [
    "ec = pd.read_csv(f_list[0], engine='python' )\n",
    "ec.shape\n"
   ]
  },
  {
   "cell_type": "code",
   "execution_count": 13,
   "metadata": {},
   "outputs": [
    {
     "data": {
      "text/plain": [
       "Index(['contactid', 'Date', 'Job_number', 'type'], dtype='object')"
      ]
     },
     "execution_count": 13,
     "metadata": {},
     "output_type": "execute_result"
    }
   ],
   "source": [
    "ec.columns"
   ]
  },
  {
   "cell_type": "code",
   "execution_count": 5,
   "metadata": {},
   "outputs": [
    {
     "data": {
      "text/plain": [
       "<bound method NDFrame.last of                                    contactid                 Date   detail  \\\n",
       "0       98547dfc-1eb3-e811-a965-000d3a1c5f15  2021-10-18 09:49:15  1898871   \n",
       "1       98547dfc-1eb3-e811-a965-000d3a1c5f15  2021-07-28 11:17:51  1818302   \n",
       "2       98547dfc-1eb3-e811-a965-000d3a1c5f15  2021-04-14 09:22:05  1709474   \n",
       "3       98547dfc-1eb3-e811-a965-000d3a1c5f15  2021-04-13 10:25:01  1709471   \n",
       "4       98547dfc-1eb3-e811-a965-000d3a1c5f15  2021-04-02 08:52:31  1695744   \n",
       "...                                      ...                  ...      ...   \n",
       "887726                                   NaN  2018-11-20 00:18:15   984761   \n",
       "887727                                   NaN  2018-11-20 00:16:03   984761   \n",
       "887728                                   NaN  2018-11-20 00:14:41   984761   \n",
       "887729                                   NaN  2018-11-20 00:12:38   984761   \n",
       "887730                                   NaN  2018-11-20 00:04:46   982950   \n",
       "\n",
       "               type  \n",
       "0       email_click  \n",
       "1       email_click  \n",
       "2       email_click  \n",
       "3       email_click  \n",
       "4       email_click  \n",
       "...             ...  \n",
       "887726  email_click  \n",
       "887727  email_click  \n",
       "887728  email_click  \n",
       "887729  email_click  \n",
       "887730  email_click  \n",
       "\n",
       "[887731 rows x 4 columns]>"
      ]
     },
     "execution_count": 5,
     "metadata": {},
     "output_type": "execute_result"
    }
   ],
   "source": [
    "ec.last"
   ]
  },
  {
   "cell_type": "code",
   "execution_count": 6,
   "metadata": {},
   "outputs": [
    {
     "name": "stdout",
     "output_type": "stream",
     "text": [
      "(25629, 4)\n",
      "\n"
     ]
    },
    {
     "data": {
      "text/plain": [
       "<bound method NDFrame.last of                                   contactid                       Date  \\\n",
       "0      0c2e2365-9242-ea11-a812-000d3a1abbdd  2021-10-13 11:30:00-07:00   \n",
       "1      5e116bbd-f2b2-e811-a965-000d3a1c53e4  2021-10-13 11:30:00-07:00   \n",
       "2      6e8ad662-f2b2-e811-a969-000d3a1c5ec5  2021-10-13 11:30:00-07:00   \n",
       "3      65db89c9-eeb2-e811-a969-000d3a1c5716  2021-10-13 11:30:00-07:00   \n",
       "4      8e10df35-f0b2-e811-a969-000d3a1c5716  2021-10-13 11:30:00-07:00   \n",
       "...                                     ...                        ...   \n",
       "25624  0918a13e-d3b2-e811-a969-000d3a1c5ec5  2020-01-15 09:45:00-08:00   \n",
       "25625  3d6692b5-1fb3-e811-a965-000d3a1c53e4  2020-01-15 09:45:00-08:00   \n",
       "25626  3e5a5667-c0b2-e811-a969-000d3a1c5716  2020-01-15 09:45:00-08:00   \n",
       "25627  0b452bb3-503e-ea11-a812-000d3a1ab3c7  2020-01-15 09:45:00-08:00   \n",
       "25628  1513ba3b-21b3-e811-a96e-000d3a1c5096  2020-01-15 09:45:00-08:00   \n",
       "\n",
       "        detail            type  \n",
       "0      3462402  event_attendee  \n",
       "1      3462402  event_attendee  \n",
       "2      3462402  event_attendee  \n",
       "3      3462402  event_attendee  \n",
       "4      3462402  event_attendee  \n",
       "...        ...             ...  \n",
       "25624  2147977  event_attendee  \n",
       "25625  2147977  event_attendee  \n",
       "25626  2147977  event_attendee  \n",
       "25627  2147977  event_attendee  \n",
       "25628  2147977  event_attendee  \n",
       "\n",
       "[25629 rows x 4 columns]>"
      ]
     },
     "execution_count": 6,
     "metadata": {},
     "output_type": "execute_result"
    }
   ],
   "source": [
    "ev = pd.read_csv(f_list[1], engine='python' )\n",
    "print(ev.shape)\n",
    "print()\n",
    "ev.last"
   ]
  },
  {
   "cell_type": "code",
   "execution_count": 7,
   "metadata": {},
   "outputs": [
    {
     "name": "stdout",
     "output_type": "stream",
     "text": [
      "(810592, 4)\n",
      "\n"
     ]
    },
    {
     "data": {
      "text/plain": [
       "<bound method NDFrame.last of                                    contactid                 Date  \\\n",
       "0       5f871a48-dbb2-e811-a969-000d3a1c5ec5  2016-01-01 16:03:11   \n",
       "1       1f8b0b18-23b3-e811-a96e-000d3a1c5096  2016-01-01 17:00:38   \n",
       "2       1f4cc905-c4b2-e811-a965-000d3a1c5f15  2016-01-02 18:04:16   \n",
       "3       0bab399c-d0b2-e811-a96c-000d3a1c5cc0  2016-01-02 18:58:54   \n",
       "4       989bf0ae-c6b2-e811-a96e-000d3a1c5096  2016-01-02 21:50:13   \n",
       "...                                      ...                  ...   \n",
       "810587  8502d671-fe21-ec11-b6e6-00224822e815  2021-09-30 22:48:00   \n",
       "810588  85b04b09-0813-eb11-a813-000d3a1abe5c  2021-09-30 22:51:25   \n",
       "810589  0d9a7cd6-7029-e911-a96e-000d3a1c53e4  2021-09-30 23:21:00   \n",
       "810590  fd03b917-79bc-e911-a983-000d3a1c5096  2021-09-30 23:28:00   \n",
       "810591  0a2bc6ac-c3b2-e811-a96e-000d3a1c5096  2021-09-30 23:32:00   \n",
       "\n",
       "                                      detail            type  \n",
       "0       b85258ac-01b7-e811-a96c-000d3a1c5cc0  sales_activity  \n",
       "1       b3f0c5cf-00b7-e811-a965-000d3a1c5f15  sales_activity  \n",
       "2       09b03584-05b7-e811-a969-000d3a1c5ec5  sales_activity  \n",
       "3       6e5a0786-05b7-e811-a96c-000d3a1c5cc0  sales_activity  \n",
       "4       4b45a48f-f7b6-e811-a96e-000d3a1c5096  sales_activity  \n",
       "...                                      ...             ...  \n",
       "810587  17d532c7-4022-ec11-b6e6-00224822eac6  sales_activity  \n",
       "810588  3fb7751a-4122-ec11-b6e6-00224822edb3  sales_activity  \n",
       "810589  3e14c14c-4522-ec11-b6e6-00224822ea8a  sales_activity  \n",
       "810590  a15925eb-dd22-ec11-b6e6-00224822e630  sales_activity  \n",
       "810591  b127d5ad-dd22-ec11-b6e6-00224822e630  sales_activity  \n",
       "\n",
       "[810592 rows x 4 columns]>"
      ]
     },
     "execution_count": 7,
     "metadata": {},
     "output_type": "execute_result"
    }
   ],
   "source": [
    "sa = pd.read_csv(f_list[2], engine='python' )\n",
    "print(sa.shape)\n",
    "print()\n",
    "sa.last"
   ]
  },
  {
   "cell_type": "code",
   "execution_count": 8,
   "metadata": {},
   "outputs": [
    {
     "name": "stdout",
     "output_type": "stream",
     "text": [
      "(8451, 4)\n",
      "\n"
     ]
    },
    {
     "data": {
      "text/plain": [
       "<bound method NDFrame.last of                                  contactid                       Date  \\\n",
       "0     c0016a35-e9b2-e811-a969-000d3a1c5716  2021-10-13 06:22:26+00:00   \n",
       "1     ee22e91b-deb2-e811-a96c-000d3a1c5cc0  2021-10-13 01:49:12+00:00   \n",
       "2                                      NaN  2021-10-13 00:06:05+00:00   \n",
       "3     bb860da3-b52b-ec11-b6e5-000d3a4efd02  2021-10-12 23:41:12+00:00   \n",
       "4                                      NaN  2021-10-12 22:03:40+00:00   \n",
       "...                                    ...                        ...   \n",
       "8446                              3-38VJH5  2010-07-18 19:27:21+00:00   \n",
       "8447                              3-2FUI35  2009-10-27 20:39:43+00:00   \n",
       "8448                              1-29WRM9  2009-08-27 16:00:46+00:00   \n",
       "8449                              1-28ZXXM  2009-08-16 19:45:54+00:00   \n",
       "8450                              1-2494S7  2009-06-16 18:49:32+00:00   \n",
       "\n",
       "                                    detail         type  \n",
       "0     611d6fe3-4d36-41f6-9491-99abe16e2381  opportunity  \n",
       "1     c7eb9497-7378-4d49-b027-81fd97661323  opportunity  \n",
       "2     65d8f67d-2f0a-4af7-95ac-53f0c39220e4  opportunity  \n",
       "3     c8b5e560-4eee-42d9-ba67-475fd3371799  opportunity  \n",
       "4     925856fe-89d4-486e-b167-d6ae3d9b3442  opportunity  \n",
       "...                                    ...          ...  \n",
       "8446  a774aab7-fead-ea11-a812-000d3a56b2ec  opportunity  \n",
       "8447  3d9847b6-fead-ea11-a812-000d3a56b702  opportunity  \n",
       "8448  fc01e1b2-fead-ea11-a812-000d3a1b9df5  opportunity  \n",
       "8449  703b8abc-fead-ea11-a812-000d3a56b702  opportunity  \n",
       "8450  81efa2bd-fead-ea11-a812-000d3a56b2ec  opportunity  \n",
       "\n",
       "[8451 rows x 4 columns]>"
      ]
     },
     "execution_count": 8,
     "metadata": {},
     "output_type": "execute_result"
    }
   ],
   "source": [
    "so = pd.read_csv(f_list[3], engine='python' )\n",
    "print(so.shape)\n",
    "print()\n",
    "so.last"
   ]
  },
  {
   "cell_type": "code",
   "execution_count": 9,
   "metadata": {},
   "outputs": [
    {
     "name": "stdout",
     "output_type": "stream",
     "text": [
      "(188536, 4)\n",
      "\n"
     ]
    },
    {
     "data": {
      "text/plain": [
       "<bound method NDFrame.last of                                    contactid                 Date  \\\n",
       "0       2c9804e8-1e34-eb11-a813-000d3a1ab3c8  2021-09-30 22:25:36   \n",
       "1       b53e4803-33b3-e811-a965-000d3a1c5f15  2021-09-30 21:12:53   \n",
       "2       90c0a143-5b61-e911-a977-000d3a1c5f15  2021-09-30 21:00:06   \n",
       "3       90c0a143-5b61-e911-a977-000d3a1c5f15  2021-09-30 20:58:42   \n",
       "4       90c0a143-5b61-e911-a977-000d3a1c5f15  2021-09-30 20:57:52   \n",
       "...                                      ...                  ...   \n",
       "188531  b27fb8df-1db3-e811-a969-000d3a1c5716  2019-01-01 07:13:35   \n",
       "188532  f8ea2506-2fb3-e811-a965-000d3a1c53e4  2019-01-01 00:43:37   \n",
       "188533  f8ea2506-2fb3-e811-a965-000d3a1c53e4  2019-01-01 00:13:27   \n",
       "188534                              3-KS0QFH  2019-01-01 00:06:40   \n",
       "188535  3d96f969-08b3-e811-a969-000d3a1c5716  2019-01-01 00:05:49   \n",
       "\n",
       "                              detail      type  \n",
       "0             ongoing review builder  web_tool  \n",
       "1                portfolio analytics  web_tool  \n",
       "2                   legacy dashboard  web_tool  \n",
       "3                     legacy planner  web_tool  \n",
       "4       critical financial checklist  web_tool  \n",
       "...                              ...       ...  \n",
       "188531              Compare Products  web_tool  \n",
       "188532           Portfolio Analytics  web_tool  \n",
       "188533           Portfolio Analytics  web_tool  \n",
       "188534           Portfolio Analytics  web_tool  \n",
       "188535           Portfolio Analytics  web_tool  \n",
       "\n",
       "[188536 rows x 4 columns]>"
      ]
     },
     "execution_count": 9,
     "metadata": {},
     "output_type": "execute_result"
    }
   ],
   "source": [
    "to = pd.read_csv(f_list[4], engine='python' )\n",
    "print(to.shape)\n",
    "print()\n",
    "to.last"
   ]
  },
  {
   "cell_type": "code",
   "execution_count": 10,
   "metadata": {},
   "outputs": [
    {
     "name": "stdout",
     "output_type": "stream",
     "text": [
      "(235102, 4)\n",
      "\n"
     ]
    },
    {
     "data": {
      "text/plain": [
       "<bound method NDFrame.last of                                    contactid                 Date  \\\n",
       "0       b53e4803-33b3-e811-a965-000d3a1c5f15  2021-09-30 21:43:52   \n",
       "1       b53e4803-33b3-e811-a965-000d3a1c5f15  2021-09-30 21:36:29   \n",
       "2       b53e4803-33b3-e811-a965-000d3a1c5f15  2021-09-30 21:24:20   \n",
       "3       6b17b6f5-c5b2-e811-a969-000d3a1c5ec5  2021-09-30 20:12:14   \n",
       "4       74fe275f-bab2-e811-a969-000d3a1c5ec5  2021-09-30 19:57:14   \n",
       "...                                      ...                  ...   \n",
       "235097  ff6f4199-28b3-e811-a965-000d3a1c53e4  2019-01-01 12:23:30   \n",
       "235098  3c587b83-34b3-e811-a965-000d3a1c5f15  2019-01-01 11:50:18   \n",
       "235099  ea440042-2fb3-e811-a965-000d3a1c53e4  2019-01-01 11:41:19   \n",
       "235100  31a2465d-15b3-e811-a965-000d3a1c53e4  2019-01-01 10:00:20   \n",
       "235101  31a2465d-15b3-e811-a965-000d3a1c53e4  2019-01-01 09:59:37   \n",
       "\n",
       "                                                   detail               type  \n",
       "0       morningstar_report:cs,aa,pi:sr,bi,si,cm,rr,pd,...  web_file_download  \n",
       "1           morningstar_report:cs,aa,pi:sr,bi,si,cm,id,ip  web_file_download  \n",
       "2        morningstar_report:cs,aa,pi:sr,bi,ps,px,si,cm,ip  web_file_download  \n",
       "3                          morningstar_report:cs,aa,na:ps  web_file_download  \n",
       "4                                                    fs42  web_file_download  \n",
       "...                                                   ...                ...  \n",
       "235097                             Pdf:Morningstar_report  web_file_download  \n",
       "235098                                        Pdf:ISGQVAA  web_file_download  \n",
       "235099                           csv:PriceandyieldNAVView  web_file_download  \n",
       "235100                                               W346  web_file_download  \n",
       "235101                                             FA0924  web_file_download  \n",
       "\n",
       "[235102 rows x 4 columns]>"
      ]
     },
     "execution_count": 10,
     "metadata": {},
     "output_type": "execute_result"
    }
   ],
   "source": [
    "do = pd.read_csv(f_list[5], engine='python' )\n",
    "print(do.shape)\n",
    "print()\n",
    "do.last"
   ]
  },
  {
   "cell_type": "code",
   "execution_count": 14,
   "metadata": {},
   "outputs": [
    {
     "name": "stdout",
     "output_type": "stream",
     "text": [
      "(10129, 4)\n",
      "                              contactid                 Date  Job_number  \\\n",
      "0  9b1909bd-d57d-eb11-a812-000d3a8d03ca  2020-12-03 19:13:00     2828324   \n",
      "1  68795530-60b3-e811-a96c-000d3a1c5cc0  2020-12-03 19:05:00     2828324   \n",
      "\n",
      "             type  \n",
      "0  event_attendee  \n",
      "1  event_attendee  \n",
      "(563669, 4)\n",
      "(25629, 4)\n",
      "                              contactid                       Date  \\\n",
      "0  0c2e2365-9242-ea11-a812-000d3a1abbdd  2021-10-13 11:30:00-07:00   \n",
      "1  5e116bbd-f2b2-e811-a965-000d3a1c53e4  2021-10-13 11:30:00-07:00   \n",
      "\n",
      "   Job_number            type  \n",
      "0     3462402  event_attendee  \n",
      "1     3462402  event_attendee  \n",
      "(589298, 4)\n",
      "(810592, 4)\n",
      "                              contactid                 Date  \\\n",
      "0  5f871a48-dbb2-e811-a969-000d3a1c5ec5  2016-01-01 16:03:11   \n",
      "1  1f8b0b18-23b3-e811-a96e-000d3a1c5096  2016-01-01 17:00:38   \n",
      "\n",
      "                             Job_number            type  \n",
      "0  b85258ac-01b7-e811-a96c-000d3a1c5cc0  sales_activity  \n",
      "1  b3f0c5cf-00b7-e811-a965-000d3a1c5f15  sales_activity  \n",
      "(1399890, 4)\n",
      "(8451, 4)\n",
      "                              contactid                       Date  \\\n",
      "0  c0016a35-e9b2-e811-a969-000d3a1c5716  2021-10-13 06:22:26+00:00   \n",
      "1  ee22e91b-deb2-e811-a96c-000d3a1c5cc0  2021-10-13 01:49:12+00:00   \n",
      "\n",
      "                             Job_number         type  \n",
      "0  611d6fe3-4d36-41f6-9491-99abe16e2381  opportunity  \n",
      "1  c7eb9497-7378-4d49-b027-81fd97661323  opportunity  \n",
      "(1408341, 4)\n",
      "(188536, 4)\n",
      "                              contactid                 Date  \\\n",
      "0  2c9804e8-1e34-eb11-a813-000d3a1ab3c8  2021-09-30 22:25:36   \n",
      "1  b53e4803-33b3-e811-a965-000d3a1c5f15  2021-09-30 21:12:53   \n",
      "\n",
      "               Job_number      type  \n",
      "0  ongoing review builder  web_tool  \n",
      "1     portfolio analytics  web_tool  \n",
      "(1596877, 4)\n",
      "(235102, 4)\n",
      "                              contactid                 Date  \\\n",
      "0  b53e4803-33b3-e811-a965-000d3a1c5f15  2021-09-30 21:43:52   \n",
      "1  b53e4803-33b3-e811-a965-000d3a1c5f15  2021-09-30 21:36:29   \n",
      "\n",
      "                                          Job_number               type  \n",
      "0  morningstar_report:cs,aa,pi:sr,bi,si,cm,rr,pd,...  web_file_download  \n",
      "1      morningstar_report:cs,aa,pi:sr,bi,si,cm,id,ip  web_file_download  \n",
      "(1831979, 4)\n"
     ]
    }
   ],
   "source": [
    "\n",
    "for i in f_list[1:]:\n",
    "\n",
    "    et = pd.read_csv(i, engine='python' )\n",
    "    print(et.shape)\n",
    "    et.columns = ec.columns\n",
    "    print(et.head(2))\n",
    "\n",
    "    ec = pd.concat([ec, et], axis=0, ignore_index=True)\n",
    "    print(ec.shape)\n"
   ]
  },
  {
   "cell_type": "code",
   "execution_count": 16,
   "metadata": {
    "collapsed": true
   },
   "outputs": [],
   "source": [
    "dd =ec.copy()"
   ]
  },
  {
   "cell_type": "code",
   "execution_count": 17,
   "metadata": {},
   "outputs": [
    {
     "data": {
      "text/plain": [
       "1448559"
      ]
     },
     "execution_count": 17,
     "metadata": {},
     "output_type": "execute_result"
    }
   ],
   "source": [
    "c1 = (dd['Date'] >= \"2019-01-01\") & (dd['Date'] <= \"2021-09-30\")\n",
    "c1.sum()"
   ]
  },
  {
   "cell_type": "code",
   "execution_count": 18,
   "metadata": {},
   "outputs": [
    {
     "data": {
      "text/plain": [
       "<bound method NDFrame.last of                                     contactid                 Date  \\\n",
       "1        363d77b0-5cfd-e811-a96d-000d3a1c53e4  2021-05-18 15:22:07   \n",
       "2        363d77b0-5cfd-e811-a96d-000d3a1c53e4  2021-03-12 11:06:53   \n",
       "3        363d77b0-5cfd-e811-a96d-000d3a1c53e4  2021-03-11 20:49:12   \n",
       "4        363d77b0-5cfd-e811-a96d-000d3a1c53e4  2021-01-13 11:57:40   \n",
       "5        363d77b0-5cfd-e811-a96d-000d3a1c53e4  2021-01-13 11:52:26   \n",
       "...                                       ...                  ...   \n",
       "1831974  ff6f4199-28b3-e811-a965-000d3a1c53e4  2019-01-01 12:23:30   \n",
       "1831975  3c587b83-34b3-e811-a965-000d3a1c5f15  2019-01-01 11:50:18   \n",
       "1831976  ea440042-2fb3-e811-a965-000d3a1c53e4  2019-01-01 11:41:19   \n",
       "1831977  31a2465d-15b3-e811-a965-000d3a1c53e4  2019-01-01 10:00:20   \n",
       "1831978  31a2465d-15b3-e811-a965-000d3a1c53e4  2019-01-01 09:59:37   \n",
       "\n",
       "                       Job_number               type  \n",
       "1                         1746393        email_click  \n",
       "2                         1674751        email_click  \n",
       "3                         1673571        email_click  \n",
       "4                         1609836        email_click  \n",
       "5                         1609836        email_click  \n",
       "...                           ...                ...  \n",
       "1831974    Pdf:Morningstar_report  web_file_download  \n",
       "1831975               Pdf:ISGQVAA  web_file_download  \n",
       "1831976  csv:PriceandyieldNAVView  web_file_download  \n",
       "1831977                      W346  web_file_download  \n",
       "1831978                    FA0924  web_file_download  \n",
       "\n",
       "[1448559 rows x 4 columns]>"
      ]
     },
     "execution_count": 18,
     "metadata": {},
     "output_type": "execute_result"
    }
   ],
   "source": [
    "dd1 = dd[c1]\n",
    "dd1.last"
   ]
  },
  {
   "cell_type": "code",
   "execution_count": 20,
   "metadata": {},
   "outputs": [
    {
     "data": {
      "text/plain": [
       "(1440135, 4)"
      ]
     },
     "execution_count": 20,
     "metadata": {},
     "output_type": "execute_result"
    }
   ],
   "source": [
    "dd1.drop_duplicates().shape"
   ]
  },
  {
   "cell_type": "code",
   "execution_count": 21,
   "metadata": {
    "collapsed": true
   },
   "outputs": [],
   "source": [
    "dd1.to_csv('all_model_file_2019_to_2021_9.csv', index = False)"
   ]
  },
  {
   "cell_type": "code",
   "execution_count": null,
   "metadata": {
    "collapsed": true
   },
   "outputs": [],
   "source": []
  },
  {
   "cell_type": "code",
   "execution_count": null,
   "metadata": {
    "collapsed": true
   },
   "outputs": [],
   "source": [
    "### Start using package"
   ]
  },
  {
   "cell_type": "code",
   "execution_count": 22,
   "metadata": {},
   "outputs": [
    {
     "ename": "ImportError",
     "evalue": "DLL load failed: The specified module could not be found.",
     "output_type": "error",
     "traceback": [
      "\u001b[1;31m---------------------------------------------------------------------------\u001b[0m",
      "\u001b[1;31mImportError\u001b[0m                               Traceback (most recent call last)",
      "\u001b[1;32m<ipython-input-22-bc3e312ecea9>\u001b[0m in \u001b[0;36m<module>\u001b[1;34m()\u001b[0m\n\u001b[1;32m----> 1\u001b[1;33m \u001b[1;32mimport\u001b[0m \u001b[0mretentioneering\u001b[0m\u001b[1;33m\u001b[0m\u001b[0m\n\u001b[0m\u001b[0;32m      2\u001b[0m \u001b[0mprint\u001b[0m\u001b[1;33m(\u001b[0m\u001b[0mdone\u001b[0m\u001b[1;33m)\u001b[0m\u001b[1;33m\u001b[0m\u001b[0m\n",
      "\u001b[1;32mC:\\Progra~1\\Anaconda3_4\\lib\\site-packages\\retentioneering\\__init__.py\u001b[0m in \u001b[0;36m<module>\u001b[1;34m()\u001b[0m\n\u001b[1;32m----> 1\u001b[1;33m \u001b[1;32mfrom\u001b[0m \u001b[0mretentioneering\u001b[0m\u001b[1;33m.\u001b[0m\u001b[0mcore\u001b[0m\u001b[1;33m.\u001b[0m\u001b[0mconfig\u001b[0m \u001b[1;32mimport\u001b[0m \u001b[0mconfig\u001b[0m\u001b[1;33m,\u001b[0m \u001b[0minit_config\u001b[0m\u001b[1;33m\u001b[0m\u001b[0m\n\u001b[0m\u001b[0;32m      2\u001b[0m \u001b[1;32mfrom\u001b[0m \u001b[0mretentioneering\u001b[0m \u001b[1;32mimport\u001b[0m \u001b[0mdatasets\u001b[0m\u001b[1;33m\u001b[0m\u001b[0m\n",
      "\u001b[1;32mC:\\Progra~1\\Anaconda3_4\\lib\\site-packages\\retentioneering\\core\\config.py\u001b[0m in \u001b[0;36m<module>\u001b[1;34m()\u001b[0m\n\u001b[0;32m      7\u001b[0m \u001b[1;32mimport\u001b[0m \u001b[0mos\u001b[0m\u001b[1;33m\u001b[0m\u001b[0m\n\u001b[0;32m      8\u001b[0m \u001b[1;32mimport\u001b[0m \u001b[0mpandas\u001b[0m \u001b[1;32mas\u001b[0m \u001b[0mpd\u001b[0m\u001b[1;33m\u001b[0m\u001b[0m\n\u001b[1;32m----> 9\u001b[1;33m \u001b[1;32mfrom\u001b[0m \u001b[1;33m.\u001b[0m\u001b[0mcore_functions\u001b[0m\u001b[1;33m.\u001b[0m\u001b[0mbase_dataset\u001b[0m \u001b[1;32mimport\u001b[0m \u001b[0mBaseDataset\u001b[0m\u001b[1;33m\u001b[0m\u001b[0m\n\u001b[0m\u001b[0;32m     10\u001b[0m \u001b[1;33m\u001b[0m\u001b[0m\n\u001b[0;32m     11\u001b[0m \u001b[0mconfig\u001b[0m \u001b[1;33m=\u001b[0m \u001b[1;33m{\u001b[0m\u001b[1;34m'experiments_folder'\u001b[0m\u001b[1;33m:\u001b[0m \u001b[1;34m'experiments'\u001b[0m\u001b[1;33m}\u001b[0m\u001b[1;33m\u001b[0m\u001b[0m\n",
      "\u001b[1;32mC:\\Progra~1\\Anaconda3_4\\lib\\site-packages\\retentioneering\\core\\core_functions\\__init__.py\u001b[0m in \u001b[0;36m<module>\u001b[1;34m()\u001b[0m\n\u001b[0;32m      8\u001b[0m \u001b[1;32mfrom\u001b[0m \u001b[1;33m.\u001b[0m\u001b[0mget_edgelist\u001b[0m \u001b[1;32mimport\u001b[0m \u001b[0mget_edgelist\u001b[0m\u001b[1;33m\u001b[0m\u001b[0m\n\u001b[0;32m      9\u001b[0m \u001b[1;32mfrom\u001b[0m \u001b[1;33m.\u001b[0m\u001b[0mget_adjacency\u001b[0m \u001b[1;32mimport\u001b[0m \u001b[0mget_adjacency\u001b[0m\u001b[1;33m\u001b[0m\u001b[0m\n\u001b[1;32m---> 10\u001b[1;33m \u001b[1;32mfrom\u001b[0m \u001b[1;33m.\u001b[0m\u001b[0mstep_matrix\u001b[0m \u001b[1;32mimport\u001b[0m \u001b[0mstep_matrix\u001b[0m\u001b[1;33m\u001b[0m\u001b[0m\n\u001b[0m\u001b[0;32m     11\u001b[0m \u001b[1;32mfrom\u001b[0m \u001b[1;33m.\u001b[0m\u001b[0mget_clusters\u001b[0m \u001b[1;32mimport\u001b[0m \u001b[0mget_clusters\u001b[0m\u001b[1;33m,\u001b[0m \u001b[0mfilter_cluster\u001b[0m\u001b[1;33m,\u001b[0m \u001b[0mcluster_event_dist\u001b[0m\u001b[1;33m\u001b[0m\u001b[0m\n\u001b[0;32m     12\u001b[0m \u001b[1;32mfrom\u001b[0m \u001b[1;33m.\u001b[0m\u001b[0mplot_graph\u001b[0m \u001b[1;32mimport\u001b[0m \u001b[0mplot_graph\u001b[0m\u001b[1;33m\u001b[0m\u001b[0m\n",
      "\u001b[1;32mC:\\Progra~1\\Anaconda3_4\\lib\\site-packages\\retentioneering\\core\\core_functions\\step_matrix.py\u001b[0m in \u001b[0;36m<module>\u001b[1;34m()\u001b[0m\n\u001b[0;32m      7\u001b[0m \u001b[1;32mimport\u001b[0m \u001b[0mpandas\u001b[0m \u001b[1;32mas\u001b[0m \u001b[0mpd\u001b[0m\u001b[1;33m\u001b[0m\u001b[0m\n\u001b[0;32m      8\u001b[0m \u001b[1;33m\u001b[0m\u001b[0m\n\u001b[1;32m----> 9\u001b[1;33m \u001b[1;32mfrom\u001b[0m \u001b[0mretentioneering\u001b[0m\u001b[1;33m.\u001b[0m\u001b[0mvisualization\u001b[0m \u001b[1;32mimport\u001b[0m \u001b[0mplot_step_matrix\u001b[0m\u001b[1;33m\u001b[0m\u001b[0m\n\u001b[0m\u001b[0;32m     10\u001b[0m \u001b[1;33m\u001b[0m\u001b[0m\n\u001b[0;32m     11\u001b[0m \u001b[1;33m\u001b[0m\u001b[0m\n",
      "\u001b[1;32mC:\\Progra~1\\Anaconda3_4\\lib\\site-packages\\retentioneering\\visualization\\plot_step_matrix.py\u001b[0m in \u001b[0;36m<module>\u001b[1;34m()\u001b[0m\n\u001b[0;32m     10\u001b[0m \u001b[1;32mimport\u001b[0m \u001b[0mmatplotlib\u001b[0m\u001b[1;33m.\u001b[0m\u001b[0mpyplot\u001b[0m \u001b[1;32mas\u001b[0m \u001b[0mplt\u001b[0m\u001b[1;33m\u001b[0m\u001b[0m\n\u001b[0;32m     11\u001b[0m \u001b[1;32mimport\u001b[0m \u001b[0mpandas\u001b[0m \u001b[1;32mas\u001b[0m \u001b[0mpd\u001b[0m\u001b[1;33m\u001b[0m\u001b[0m\n\u001b[1;32m---> 12\u001b[1;33m \u001b[1;32mimport\u001b[0m \u001b[0mseaborn\u001b[0m \u001b[1;32mas\u001b[0m \u001b[0msns\u001b[0m\u001b[1;33m\u001b[0m\u001b[0m\n\u001b[0m\u001b[0;32m     13\u001b[0m \u001b[1;33m\u001b[0m\u001b[0m\n\u001b[0;32m     14\u001b[0m \u001b[1;32mfrom\u001b[0m \u001b[1;33m.\u001b[0m\u001b[0mplot_utils\u001b[0m \u001b[1;32mimport\u001b[0m \u001b[0m__save_plot__\u001b[0m\u001b[1;33m\u001b[0m\u001b[0m\n",
      "\u001b[1;32mC:\\Progra~1\\Anaconda3_4\\lib\\site-packages\\seaborn\\__init__.py\u001b[0m in \u001b[0;36m<module>\u001b[1;34m()\u001b[0m\n\u001b[0;32m      1\u001b[0m \u001b[1;31m# Import seaborn objects\u001b[0m\u001b[1;33m\u001b[0m\u001b[1;33m\u001b[0m\u001b[0m\n\u001b[1;32m----> 2\u001b[1;33m \u001b[1;32mfrom\u001b[0m \u001b[1;33m.\u001b[0m\u001b[0mrcmod\u001b[0m \u001b[1;32mimport\u001b[0m \u001b[1;33m*\u001b[0m  \u001b[1;31m# noqa: F401,F403\u001b[0m\u001b[1;33m\u001b[0m\u001b[0m\n\u001b[0m\u001b[0;32m      3\u001b[0m \u001b[1;32mfrom\u001b[0m \u001b[1;33m.\u001b[0m\u001b[0mutils\u001b[0m \u001b[1;32mimport\u001b[0m \u001b[1;33m*\u001b[0m  \u001b[1;31m# noqa: F401,F403\u001b[0m\u001b[1;33m\u001b[0m\u001b[0m\n\u001b[0;32m      4\u001b[0m \u001b[1;32mfrom\u001b[0m \u001b[1;33m.\u001b[0m\u001b[0mpalettes\u001b[0m \u001b[1;32mimport\u001b[0m \u001b[1;33m*\u001b[0m  \u001b[1;31m# noqa: F401,F403\u001b[0m\u001b[1;33m\u001b[0m\u001b[0m\n\u001b[0;32m      5\u001b[0m \u001b[1;32mfrom\u001b[0m \u001b[1;33m.\u001b[0m\u001b[0mrelational\u001b[0m \u001b[1;32mimport\u001b[0m \u001b[1;33m*\u001b[0m  \u001b[1;31m# noqa: F401,F403\u001b[0m\u001b[1;33m\u001b[0m\u001b[0m\n",
      "\u001b[1;32mC:\\Progra~1\\Anaconda3_4\\lib\\site-packages\\seaborn\\rcmod.py\u001b[0m in \u001b[0;36m<module>\u001b[1;34m()\u001b[0m\n\u001b[0;32m      5\u001b[0m \u001b[1;32mimport\u001b[0m \u001b[0mmatplotlib\u001b[0m \u001b[1;32mas\u001b[0m \u001b[0mmpl\u001b[0m\u001b[1;33m\u001b[0m\u001b[0m\n\u001b[0;32m      6\u001b[0m \u001b[1;32mfrom\u001b[0m \u001b[0mcycler\u001b[0m \u001b[1;32mimport\u001b[0m \u001b[0mcycler\u001b[0m\u001b[1;33m\u001b[0m\u001b[0m\n\u001b[1;32m----> 7\u001b[1;33m \u001b[1;32mfrom\u001b[0m \u001b[1;33m.\u001b[0m \u001b[1;32mimport\u001b[0m \u001b[0mpalettes\u001b[0m\u001b[1;33m\u001b[0m\u001b[0m\n\u001b[0m\u001b[0;32m      8\u001b[0m \u001b[1;33m\u001b[0m\u001b[0m\n\u001b[0;32m      9\u001b[0m \u001b[1;33m\u001b[0m\u001b[0m\n",
      "\u001b[1;32mC:\\Progra~1\\Anaconda3_4\\lib\\site-packages\\seaborn\\palettes.py\u001b[0m in \u001b[0;36m<module>\u001b[1;34m()\u001b[0m\n\u001b[0;32m      7\u001b[0m \u001b[1;32mfrom\u001b[0m \u001b[1;33m.\u001b[0m\u001b[0mexternal\u001b[0m \u001b[1;32mimport\u001b[0m \u001b[0mhusl\u001b[0m\u001b[1;33m\u001b[0m\u001b[0m\n\u001b[0;32m      8\u001b[0m \u001b[1;33m\u001b[0m\u001b[0m\n\u001b[1;32m----> 9\u001b[1;33m \u001b[1;32mfrom\u001b[0m \u001b[1;33m.\u001b[0m\u001b[0mutils\u001b[0m \u001b[1;32mimport\u001b[0m \u001b[0mdesaturate\u001b[0m\u001b[1;33m,\u001b[0m \u001b[0mget_color_cycle\u001b[0m\u001b[1;33m\u001b[0m\u001b[0m\n\u001b[0m\u001b[0;32m     10\u001b[0m \u001b[1;32mfrom\u001b[0m \u001b[1;33m.\u001b[0m\u001b[0mcolors\u001b[0m \u001b[1;32mimport\u001b[0m \u001b[0mxkcd_rgb\u001b[0m\u001b[1;33m,\u001b[0m \u001b[0mcrayons\u001b[0m\u001b[1;33m\u001b[0m\u001b[0m\n\u001b[0;32m     11\u001b[0m \u001b[1;33m\u001b[0m\u001b[0m\n",
      "\u001b[1;32mC:\\Progra~1\\Anaconda3_4\\lib\\site-packages\\seaborn\\utils.py\u001b[0m in \u001b[0;36m<module>\u001b[1;34m()\u001b[0m\n\u001b[0;32m      8\u001b[0m \u001b[1;33m\u001b[0m\u001b[0m\n\u001b[0;32m      9\u001b[0m \u001b[1;32mimport\u001b[0m \u001b[0mnumpy\u001b[0m \u001b[1;32mas\u001b[0m \u001b[0mnp\u001b[0m\u001b[1;33m\u001b[0m\u001b[0m\n\u001b[1;32m---> 10\u001b[1;33m \u001b[1;32mfrom\u001b[0m \u001b[0mscipy\u001b[0m \u001b[1;32mimport\u001b[0m \u001b[0mstats\u001b[0m\u001b[1;33m\u001b[0m\u001b[0m\n\u001b[0m\u001b[0;32m     11\u001b[0m \u001b[1;32mimport\u001b[0m \u001b[0mpandas\u001b[0m \u001b[1;32mas\u001b[0m \u001b[0mpd\u001b[0m\u001b[1;33m\u001b[0m\u001b[0m\n\u001b[0;32m     12\u001b[0m \u001b[1;32mimport\u001b[0m \u001b[0mmatplotlib\u001b[0m \u001b[1;32mas\u001b[0m \u001b[0mmpl\u001b[0m\u001b[1;33m\u001b[0m\u001b[0m\n",
      "\u001b[1;32mC:\\Progra~1\\Anaconda3_4\\lib\\site-packages\\scipy\\stats\\__init__.py\u001b[0m in \u001b[0;36m<module>\u001b[1;34m()\u001b[0m\n\u001b[0;32m    386\u001b[0m \u001b[1;33m\u001b[0m\u001b[0m\n\u001b[0;32m    387\u001b[0m \"\"\"\n\u001b[1;32m--> 388\u001b[1;33m \u001b[1;32mfrom\u001b[0m \u001b[1;33m.\u001b[0m\u001b[0mstats\u001b[0m \u001b[1;32mimport\u001b[0m \u001b[1;33m*\u001b[0m\u001b[1;33m\u001b[0m\u001b[0m\n\u001b[0m\u001b[0;32m    389\u001b[0m \u001b[1;32mfrom\u001b[0m \u001b[1;33m.\u001b[0m\u001b[0mdistributions\u001b[0m \u001b[1;32mimport\u001b[0m \u001b[1;33m*\u001b[0m\u001b[1;33m\u001b[0m\u001b[0m\n\u001b[0;32m    390\u001b[0m \u001b[1;32mfrom\u001b[0m \u001b[1;33m.\u001b[0m\u001b[0mmorestats\u001b[0m \u001b[1;32mimport\u001b[0m \u001b[1;33m*\u001b[0m\u001b[1;33m\u001b[0m\u001b[0m\n",
      "\u001b[1;32mC:\\Progra~1\\Anaconda3_4\\lib\\site-packages\\scipy\\stats\\stats.py\u001b[0m in \u001b[0;36m<module>\u001b[1;34m()\u001b[0m\n\u001b[0;32m    172\u001b[0m \u001b[1;32mfrom\u001b[0m \u001b[0mnumpy\u001b[0m \u001b[1;32mimport\u001b[0m \u001b[0marray\u001b[0m\u001b[1;33m,\u001b[0m \u001b[0masarray\u001b[0m\u001b[1;33m,\u001b[0m \u001b[0mma\u001b[0m\u001b[1;33m\u001b[0m\u001b[0m\n\u001b[0;32m    173\u001b[0m \u001b[1;33m\u001b[0m\u001b[0m\n\u001b[1;32m--> 174\u001b[1;33m \u001b[1;32mfrom\u001b[0m \u001b[0mscipy\u001b[0m\u001b[1;33m.\u001b[0m\u001b[0mspatial\u001b[0m\u001b[1;33m.\u001b[0m\u001b[0mdistance\u001b[0m \u001b[1;32mimport\u001b[0m \u001b[0mcdist\u001b[0m\u001b[1;33m\u001b[0m\u001b[0m\n\u001b[0m\u001b[0;32m    175\u001b[0m \u001b[1;32mfrom\u001b[0m \u001b[0mscipy\u001b[0m\u001b[1;33m.\u001b[0m\u001b[0mndimage\u001b[0m \u001b[1;32mimport\u001b[0m \u001b[0mmeasurements\u001b[0m\u001b[1;33m\u001b[0m\u001b[0m\n\u001b[0;32m    176\u001b[0m from scipy._lib._util import (_lazywhere, check_random_state, MapWrapper,\n",
      "\u001b[1;32mC:\\Progra~1\\Anaconda3_4\\lib\\site-packages\\scipy\\spatial\\__init__.py\u001b[0m in \u001b[0;36m<module>\u001b[1;34m()\u001b[0m\n\u001b[0;32m    100\u001b[0m \u001b[1;32mfrom\u001b[0m \u001b[1;33m.\u001b[0m\u001b[0m_plotutils\u001b[0m \u001b[1;32mimport\u001b[0m \u001b[1;33m*\u001b[0m\u001b[1;33m\u001b[0m\u001b[0m\n\u001b[0;32m    101\u001b[0m \u001b[1;32mfrom\u001b[0m \u001b[1;33m.\u001b[0m\u001b[0m_procrustes\u001b[0m \u001b[1;32mimport\u001b[0m \u001b[0mprocrustes\u001b[0m\u001b[1;33m\u001b[0m\u001b[0m\n\u001b[1;32m--> 102\u001b[1;33m \u001b[1;32mfrom\u001b[0m \u001b[1;33m.\u001b[0m\u001b[0m_geometric_slerp\u001b[0m \u001b[1;32mimport\u001b[0m \u001b[0mgeometric_slerp\u001b[0m\u001b[1;33m\u001b[0m\u001b[0m\n\u001b[0m\u001b[0;32m    103\u001b[0m \u001b[1;33m\u001b[0m\u001b[0m\n\u001b[0;32m    104\u001b[0m \u001b[0m__all__\u001b[0m \u001b[1;33m=\u001b[0m \u001b[1;33m[\u001b[0m\u001b[0ms\u001b[0m \u001b[1;32mfor\u001b[0m \u001b[0ms\u001b[0m \u001b[1;32min\u001b[0m \u001b[0mdir\u001b[0m\u001b[1;33m(\u001b[0m\u001b[1;33m)\u001b[0m \u001b[1;32mif\u001b[0m \u001b[1;32mnot\u001b[0m \u001b[0ms\u001b[0m\u001b[1;33m.\u001b[0m\u001b[0mstartswith\u001b[0m\u001b[1;33m(\u001b[0m\u001b[1;34m'_'\u001b[0m\u001b[1;33m)\u001b[0m\u001b[1;33m]\u001b[0m\u001b[1;33m\u001b[0m\u001b[0m\n",
      "\u001b[1;32mC:\\Progra~1\\Anaconda3_4\\lib\\site-packages\\scipy\\spatial\\_geometric_slerp.py\u001b[0m in \u001b[0;36m<module>\u001b[1;34m()\u001b[0m\n\u001b[0;32m      6\u001b[0m \u001b[1;33m\u001b[0m\u001b[0m\n\u001b[0;32m      7\u001b[0m \u001b[1;32mimport\u001b[0m \u001b[0mnumpy\u001b[0m \u001b[1;32mas\u001b[0m \u001b[0mnp\u001b[0m\u001b[1;33m\u001b[0m\u001b[0m\n\u001b[1;32m----> 8\u001b[1;33m \u001b[1;32mfrom\u001b[0m \u001b[0mscipy\u001b[0m\u001b[1;33m.\u001b[0m\u001b[0mspatial\u001b[0m\u001b[1;33m.\u001b[0m\u001b[0mdistance\u001b[0m \u001b[1;32mimport\u001b[0m \u001b[0meuclidean\u001b[0m\u001b[1;33m\u001b[0m\u001b[0m\n\u001b[0m\u001b[0;32m      9\u001b[0m \u001b[1;33m\u001b[0m\u001b[0m\n\u001b[0;32m     10\u001b[0m \u001b[1;33m\u001b[0m\u001b[0m\n",
      "\u001b[1;32mC:\\Progra~1\\Anaconda3_4\\lib\\site-packages\\scipy\\spatial\\distance.py\u001b[0m in \u001b[0;36m<module>\u001b[1;34m()\u001b[0m\n\u001b[0;32m    119\u001b[0m \u001b[1;32mfrom\u001b[0m \u001b[1;33m.\u001b[0m \u001b[1;32mimport\u001b[0m \u001b[0m_hausdorff\u001b[0m\u001b[1;33m\u001b[0m\u001b[0m\n\u001b[0;32m    120\u001b[0m \u001b[1;32mfrom\u001b[0m \u001b[1;33m.\u001b[0m\u001b[1;33m.\u001b[0m\u001b[0mlinalg\u001b[0m \u001b[1;32mimport\u001b[0m \u001b[0mnorm\u001b[0m\u001b[1;33m\u001b[0m\u001b[0m\n\u001b[1;32m--> 121\u001b[1;33m \u001b[1;32mfrom\u001b[0m \u001b[1;33m.\u001b[0m\u001b[1;33m.\u001b[0m\u001b[0mspecial\u001b[0m \u001b[1;32mimport\u001b[0m \u001b[0mrel_entr\u001b[0m\u001b[1;33m\u001b[0m\u001b[0m\n\u001b[0m\u001b[0;32m    122\u001b[0m \u001b[1;33m\u001b[0m\u001b[0m\n\u001b[0;32m    123\u001b[0m \u001b[1;33m\u001b[0m\u001b[0m\n",
      "\u001b[1;32mC:\\Progra~1\\Anaconda3_4\\lib\\site-packages\\scipy\\special\\__init__.py\u001b[0m in \u001b[0;36m<module>\u001b[1;34m()\u001b[0m\n\u001b[0;32m    631\u001b[0m \u001b[1;32mfrom\u001b[0m \u001b[1;33m.\u001b[0m\u001b[0msf_error\u001b[0m \u001b[1;32mimport\u001b[0m \u001b[0mSpecialFunctionWarning\u001b[0m\u001b[1;33m,\u001b[0m \u001b[0mSpecialFunctionError\u001b[0m\u001b[1;33m\u001b[0m\u001b[0m\n\u001b[0;32m    632\u001b[0m \u001b[1;33m\u001b[0m\u001b[0m\n\u001b[1;32m--> 633\u001b[1;33m \u001b[1;32mfrom\u001b[0m \u001b[1;33m.\u001b[0m \u001b[1;32mimport\u001b[0m \u001b[0m_ufuncs\u001b[0m\u001b[1;33m\u001b[0m\u001b[0m\n\u001b[0m\u001b[0;32m    634\u001b[0m \u001b[1;32mfrom\u001b[0m \u001b[1;33m.\u001b[0m\u001b[0m_ufuncs\u001b[0m \u001b[1;32mimport\u001b[0m \u001b[1;33m*\u001b[0m\u001b[1;33m\u001b[0m\u001b[0m\n\u001b[0;32m    635\u001b[0m \u001b[1;33m\u001b[0m\u001b[0m\n",
      "\u001b[1;31mImportError\u001b[0m: DLL load failed: The specified module could not be found."
     ]
    }
   ],
   "source": [
    "import retentioneering\n",
    "print(done)"
   ]
  },
  {
   "cell_type": "code",
   "execution_count": 16,
   "metadata": {},
   "outputs": [
    {
     "name": "stdout",
     "output_type": "stream",
     "text": [
      "\n",
      "Please wait a moment while I gather a list of all available modules...\n",
      "\n"
     ]
    },
    {
     "name": "stderr",
     "output_type": "stream",
     "text": [
      "/opt/conda/lib/python3.7/site-packages/IPython/kernel/__init__.py:13: ShimWarning: The `IPython.kernel` package has been deprecated since IPython 4.0.You should import from ipykernel or jupyter_client instead.\n",
      "  \"You should import from ipykernel or jupyter_client instead.\", ShimWarning)\n",
      "WARNING: AstropyDeprecationWarning: astropy.utils.compat.futures is now deprecated - use concurrent.futures instead [astropy.utils.compat.futures]\n"
     ]
    },
    {
     "name": "stdout",
     "output_type": "stream",
     "text": [
      "Unreleased!\n"
     ]
    },
    {
     "name": "stderr",
     "output_type": "stream",
     "text": [
      "Using TensorFlow backend.\n",
      "/opt/conda/lib/python3.7/site-packages/mpltools/sphinx/plot2rst.py:120: UserWarning: \n",
      "This call to matplotlib.use() has no effect because the backend has already\n",
      "been chosen; matplotlib.use() must be called *before* pylab, matplotlib.pyplot,\n",
      "or matplotlib.backends is imported for the first time.\n",
      "\n",
      "The backend was *originally* set to 'module://ipykernel.pylab.backend_inline' by the following code:\n",
      "  File \"/opt/conda/lib/python3.7/runpy.py\", line 193, in _run_module_as_main\n",
      "    \"__main__\", mod_spec)\n",
      "  File \"/opt/conda/lib/python3.7/runpy.py\", line 85, in _run_code\n",
      "    exec(code, run_globals)\n",
      "  File \"/opt/conda/lib/python3.7/site-packages/ipykernel_launcher.py\", line 16, in <module>\n",
      "    app.launch_new_instance()\n",
      "  File \"/opt/conda/lib/python3.7/site-packages/traitlets/config/application.py\", line 664, in launch_instance\n",
      "    app.start()\n",
      "  File \"/opt/conda/lib/python3.7/site-packages/ipykernel/kernelapp.py\", line 583, in start\n",
      "    self.io_loop.start()\n",
      "  File \"/opt/conda/lib/python3.7/site-packages/tornado/platform/asyncio.py\", line 149, in start\n",
      "    self.asyncio_loop.run_forever()\n",
      "  File \"/opt/conda/lib/python3.7/asyncio/base_events.py\", line 534, in run_forever\n",
      "    self._run_once()\n",
      "  File \"/opt/conda/lib/python3.7/asyncio/base_events.py\", line 1771, in _run_once\n",
      "    handle._run()\n",
      "  File \"/opt/conda/lib/python3.7/asyncio/events.py\", line 88, in _run\n",
      "    self._context.run(self._callback, *self._args)\n",
      "  File \"/opt/conda/lib/python3.7/site-packages/tornado/ioloop.py\", line 690, in <lambda>\n",
      "    lambda f: self._run_callback(functools.partial(callback, future))\n",
      "  File \"/opt/conda/lib/python3.7/site-packages/tornado/ioloop.py\", line 743, in _run_callback\n",
      "    ret = callback()\n",
      "  File \"/opt/conda/lib/python3.7/site-packages/tornado/gen.py\", line 787, in inner\n",
      "    self.run()\n",
      "  File \"/opt/conda/lib/python3.7/site-packages/tornado/gen.py\", line 748, in run\n",
      "    yielded = self.gen.send(value)\n",
      "  File \"/opt/conda/lib/python3.7/site-packages/ipykernel/kernelbase.py\", line 365, in process_one\n",
      "    yield gen.maybe_future(dispatch(*args))\n",
      "  File \"/opt/conda/lib/python3.7/site-packages/tornado/gen.py\", line 209, in wrapper\n",
      "    yielded = next(result)\n",
      "  File \"/opt/conda/lib/python3.7/site-packages/ipykernel/kernelbase.py\", line 268, in dispatch_shell\n",
      "    yield gen.maybe_future(handler(stream, idents, msg))\n",
      "  File \"/opt/conda/lib/python3.7/site-packages/tornado/gen.py\", line 209, in wrapper\n",
      "    yielded = next(result)\n",
      "  File \"/opt/conda/lib/python3.7/site-packages/ipykernel/kernelbase.py\", line 545, in execute_request\n",
      "    user_expressions, allow_stdin,\n",
      "  File \"/opt/conda/lib/python3.7/site-packages/tornado/gen.py\", line 209, in wrapper\n",
      "    yielded = next(result)\n",
      "  File \"/opt/conda/lib/python3.7/site-packages/ipykernel/ipkernel.py\", line 300, in do_execute\n",
      "    res = shell.run_cell(code, store_history=store_history, silent=silent)\n",
      "  File \"/opt/conda/lib/python3.7/site-packages/ipykernel/zmqshell.py\", line 536, in run_cell\n",
      "    return super(ZMQInteractiveShell, self).run_cell(*args, **kwargs)\n",
      "  File \"/opt/conda/lib/python3.7/site-packages/IPython/core/interactiveshell.py\", line 2858, in run_cell\n",
      "    raw_cell, store_history, silent, shell_futures)\n",
      "  File \"/opt/conda/lib/python3.7/site-packages/IPython/core/interactiveshell.py\", line 2886, in _run_cell\n",
      "    return runner(coro)\n",
      "  File \"/opt/conda/lib/python3.7/site-packages/IPython/core/async_helpers.py\", line 68, in _pseudo_sync_runner\n",
      "    coro.send(None)\n",
      "  File \"/opt/conda/lib/python3.7/site-packages/IPython/core/interactiveshell.py\", line 3063, in run_cell_async\n",
      "    interactivity=interactivity, compiler=compiler, result=result)\n",
      "  File \"/opt/conda/lib/python3.7/site-packages/IPython/core/interactiveshell.py\", line 3254, in run_ast_nodes\n",
      "    if (await self.run_code(code, result,  async_=asy)):\n",
      "  File \"/opt/conda/lib/python3.7/site-packages/IPython/core/interactiveshell.py\", line 3331, in run_code\n",
      "    exec(code_obj, self.user_global_ns, self.user_ns)\n",
      "  File \"<ipython-input-2-95c2a8ec0753>\", line 5, in <module>\n",
      "    get_ipython().run_line_magic('matplotlib', 'inline')\n",
      "  File \"/opt/conda/lib/python3.7/site-packages/IPython/core/interactiveshell.py\", line 2317, in run_line_magic\n",
      "    result = fn(*args, **kwargs)\n",
      "  File \"<decorator-gen-108>\", line 2, in matplotlib\n",
      "  File \"/opt/conda/lib/python3.7/site-packages/IPython/core/magic.py\", line 187, in <lambda>\n",
      "    call = lambda f, *a, **k: f(*a, **k)\n",
      "  File \"/opt/conda/lib/python3.7/site-packages/IPython/core/magics/pylab.py\", line 99, in matplotlib\n",
      "    gui, backend = self.shell.enable_matplotlib(args.gui.lower() if isinstance(args.gui, str) else args.gui)\n",
      "  File \"/opt/conda/lib/python3.7/site-packages/IPython/core/interactiveshell.py\", line 3419, in enable_matplotlib\n",
      "    pt.activate_matplotlib(backend)\n",
      "  File \"/opt/conda/lib/python3.7/site-packages/IPython/core/pylabtools.py\", line 322, in activate_matplotlib\n",
      "    plt.switch_backend(backend)\n",
      "  File \"/opt/conda/lib/python3.7/site-packages/matplotlib/pyplot.py\", line 231, in switch_backend\n",
      "    matplotlib.use(newbackend, warn=False, force=True)\n",
      "  File \"/opt/conda/lib/python3.7/site-packages/matplotlib/__init__.py\", line 1425, in use\n",
      "    reload(sys.modules['matplotlib.backends'])\n",
      "  File \"/opt/conda/lib/python3.7/importlib/__init__.py\", line 169, in reload\n",
      "    _bootstrap._exec(spec, module)\n",
      "  File \"/opt/conda/lib/python3.7/site-packages/matplotlib/backends/__init__.py\", line 17, in <module>\n",
      "    line for line in traceback.format_stack()\n",
      "\n",
      "\n",
      "  matplotlib.use('Agg')\n",
      "/opt/conda/lib/python3.7/site-packages/mpltools/style/__init__.py:42: FutureWarning: \n",
      "\n",
      "    The style-sheet functionality in mpltools has been integrated into\n",
      "    Matplotlib >= 1.4. This module will be removed in a future release.\n",
      "\n",
      "    Note that style-sheets used by `matplotlib.style` use the standard\n",
      "    Matplotlib rc-file syntax instead of the INI format used by `mpltools`.\n",
      "    This mostly means un-quoting strings and changing '=' to ':'.\n",
      "\n",
      "\n",
      "  \"\"\", FutureWarning)\n",
      "/opt/conda/lib/python3.7/site-packages/nltk/twitter/__init__.py:22: UserWarning: The twython library has not been installed. Some functionality from the twitter package will not be available.\n",
      "  \"The twython library has not been installed. \"\n"
     ]
    },
    {
     "name": "stdout",
     "output_type": "stream",
     "text": [
      "cc1plus: warning: command line option ‘-Wstrict-prototypes’ is valid for C/ObjC but not for C++\n",
      "DEBUG:pip._internal.vcs.versioncontrol:Registered VCS backend: bzr\n",
      "DEBUG:pip._internal.vcs.versioncontrol:Registered VCS backend: git\n",
      "DEBUG:pip._internal.vcs.versioncontrol:Registered VCS backend: hg\n",
      "DEBUG:pip._internal.vcs.versioncontrol:Registered VCS backend: svn\n"
     ]
    },
    {
     "name": "stderr",
     "output_type": "stream",
     "text": [
      "/opt/conda/lib/python3.7/site-packages/skimage/viewer/utils/__init__.py:1: UserWarning: Recommended matplotlib backend is `Agg` for full skimage.viewer functionality.\n",
      "  from .core import *\n",
      "/opt/conda/lib/python3.7/site-packages/sklearn/externals/joblib/__init__.py:15: FutureWarning: sklearn.externals.joblib is deprecated in 0.21 and will be removed in 0.23. Please import this functionality directly from joblib, which can be installed with: pip install joblib. If this warning is raised when loading pickled models, you may need to re-serialize those models with scikit-learn 0.21+.\n",
      "  warnings.warn(msg, category=FutureWarning)\n",
      "/opt/conda/lib/python3.7/site-packages/sphinx/websupport/__init__.py:25: RemovedInSphinx20Warning: sphinx.websupport module is now provided as sphinxcontrib-websupport. sphinx.websupport will be removed at Sphinx-2.0. Please use the package instead.\n",
      "  RemovedInSphinx20Warning)\n"
     ]
    },
    {
     "name": "stdout",
     "output_type": "stream",
     "text": [
      "WARNING:tensorflow:From /opt/conda/lib/python3.7/site-packages/tensorflow_estimator/python/estimator/api/_v1/estimator/__init__.py:10: The name tf.estimator.inputs is deprecated. Please use tf.compat.v1.estimator.inputs instead.\n",
      "\n",
      "WARNING:tensorflow:From /opt/conda/lib/python3.7/site-packages/tensorflow_estimator/python/estimator/api/_v1/estimator/__init__.py:10: The name tf.estimator.inputs is deprecated. Please use tf.compat.v1.estimator.inputs instead.\n",
      "\n",
      "Airtable_pull       brain_numpy_core_numeric jaydebeapi          qtpy\n",
      "Crypto              brain_numpy_core_numerictypes jdcal               queue\n",
      "Cython              brain_numpy_core_umath jedi                quopri\n",
      "IPython             brain_numpy_ndarray jeepney             random\n",
      "OpenSSL             brain_numpy_random_mtrand jinja2              re\n",
      "PIL                 brain_numpy_utils   joblib              readline\n",
      "PyQt5               brain_pkg_resources jpype               reprlib\n",
      "TBB                 brain_pytest        json                requests\n",
      "__future__          brain_qt            json5               resource\n",
      "_abc                brain_random        jsonify             rlcompleter\n",
      "_ast                brain_re            jsonschema          rmagic\n",
      "_asyncio            brain_six           jupyter             rope\n",
      "_bisect             brain_ssl           jupyter_client      ruamel_yaml\n",
      "_blake2             brain_subprocess    jupyter_codeserver_proxy runpy\n",
      "_bootlocale         brain_threading     jupyter_console     sched\n",
      "_bz2                brain_typing        jupyter_core        scipy\n",
      "_cffi_backend       brain_uuid          jupyter_server_proxy seaborn\n",
      "_codecs             brewer2mpl          jupyterlab          secrets\n",
      "_codecs_cn          bs4                 jupyterlab_server   secretstorage\n",
      "_codecs_hk          bson                keras               select\n",
      "_codecs_iso2022     builtins            keras_applications  selectors\n",
      "_codecs_jp          bz2                 keras_preprocessing send2trash\n",
      "_codecs_kr          cProfile            keyring             service_identity\n",
      "_codecs_tw          cairocffi           keyword             setuptools\n",
      "_collections        calendar            kiwisolver          shelve\n",
      "_collections_abc    certifi             lazy_object_proxy   shlex\n",
      "_compat_pickle      cffi                lib2to3             shutil\n",
      "_compression        cgi                 libfuturize         shutil_backports\n",
      "_contextvars        cgitb               libpasteurize       signal\n",
      "_crypt              chardet             linecache           simpervisor\n",
      "_csv                chunk               llvmlite            simplegeneric\n",
      "_ctypes             click               locale              singledispatch\n",
      "_ctypes_test        cloudpickle         locket              singledispatch_helpers\n",
      "_curses             clyent              logging             site\n",
      "_curses_panel       cmath               lxml                six\n",
      "_datetime           cmd                 lzma                skimage\n",
      "_decimal            code                macpath             sklearn\n",
      "_dummy_thread       codecs              mailbox             smtpd\n",
      "_elementtree        codeop              mailcap             smtplib\n",
      "_functools          collections         markdown            sndhdr\n",
      "_hashlib            colorama            markupsafe          snowballstemmer\n",
      "_heapq              colorsys            marshal             socket\n",
      "_imp                compileall          math                socketserver\n",
      "_io                 concurrent          matplotlib          socks\n",
      "_jpype              conda               mccabe              sockshandler\n",
      "_json               conda_env           mimetypes           sortedcollections\n",
      "_locale             conda_package_handling mistune             sortedcontainers\n",
      "_lsprof             configobj           mkl_fft             soupsieve\n",
      "_lzma               configparser        mkl_random          sphinx\n",
      "_markupbase         constantly          mmap                spwd\n",
      "_md5                contextlib          modulefinder        spyder\n",
      "_multibytecodec     contextlib2         more_itertools      spyder_kernels\n",
      "_multiprocessing    contextvars         mpltools            sqlalchemy\n",
      "_opcode             copy                mpmath              sqlite3\n",
      "_operator           copyreg             msgpack             sre_compile\n",
      "_osx_support        coverage            multidict           sre_constants\n",
      "_pickle             crypt               multipledispatch    sre_parse\n",
      "_posixsubprocess    cryptography        multiprocessing     ssl\n",
      "_py_abc             csv                 nbconvert           stat\n",
      "_pydecimal          ctypes              nbformat            statistics\n",
      "_pyio               curl                netrc               statsmodels\n",
      "_pyrsistent_version curses              networkx            storemagic\n",
      "_pytest             cx_Oracle           nis                 string\n",
      "_queue              cycler              nltk                stringprep\n",
      "_random             cython              nntplib             struct\n",
      "_sha1               cythonmagic         nose                subprocess\n",
      "_sha256             cytoolz             notebook            sunau\n",
      "_sha3               dask                ntpath              symbol\n",
      "_sha512             dataclasses         nturl2path          sympy\n",
      "_signal             datashape           numba               sympyprinting\n",
      "_sitebuiltins       datetime            numbers             symtable\n",
      "_socket             dateutil            numexpr             sys\n",
      "_sqlite3            dbm                 numpy               sysconfig\n",
      "_sre                decimal             numpydoc            syslog\n",
      "_ssl                decorator           odo                 tables\n",
      "_stat               defusedxml          olefile             tabnanny\n",
      "_string             diff_match_patch    opcode              tarfile\n",
      "_strptime           difflib             openpyxl            tbb\n",
      "_struct             dis                 operator            tblib\n",
      "_symtable           distributed         optparse            telnetlib\n",
      "_sysconfigdata_i686_conda_cos6_linux_gnu distutils           os                  tempfile\n",
      "_sysconfigdata_m_linux_x86_64-linux-gnu docs                ossaudiodev         tensorboard\n",
      "_sysconfigdata_powerpc64le_conda_cos7_linux_gnu doctest             packaging           tensorflow\n",
      "_sysconfigdata_x86_64_apple_darwin13_4_0 docutils            pandas              tensorflow_estimator\n",
      "_sysconfigdata_x86_64_conda_cos6_linux_gnu domino              pandocfilters       termcolor\n",
      "_testbuffer         dummy_threading     parser              terminado\n",
      "_testcapi           easy_install        parso               termios\n",
      "_testimportmultiple email               partd               test\n",
      "_testmultiphase     encodings           past                test_data\n",
      "_thread             ensurepip           pasta               test_pycosat\n",
      "_threading_local    entrypoints         path                testpath\n",
      "_tkinter            enum                pathlib             tests\n",
      "_tracemalloc        errno               pathlib2            textwrap\n",
      "_version            et_xmlfile          pathtools           this\n",
      "_warnings           exampleproj         patsy               threading\n",
      "_weakref            fastcache           pdb                 time\n",
      "_weakrefset         faulthandler        pep8                timeit\n",
      "_xxtestfuzz         fcntl               pexpect             tkinter\n",
      "_yaml               filecmp             pickle              tlz\n",
      "abc                 fileinput           pickleshare         token\n",
      "absl                filelock            pickletools         tokenize\n",
      "aifc                flake8              pip                 toolz\n",
      "aiohttp             flask               pipes               tornado\n",
      "alabaster           flask_compress      pkg_resources       tqdm\n",
      "antigravity         flask_cors          pkginfo             trace\n",
      "appdirs             fnmatch             pkgutil             traceback\n",
      "argparse            formatter           platform            tracemalloc\n",
      "array               fractions           plistlib            traitlets\n",
      "asn1crypto          ftplib              pluggy              tty\n",
      "ast                 functools           ply                 turtle\n",
      "astor               future              poplib              turtledemo\n",
      "astroid             gast                posix               twisted\n",
      "astropy             gc                  posixpath           typed_ast\n",
      "async_timeout       genericpath         pprint              types\n",
      "asynchat            getopt              profile             typing\n",
      "asyncio             getpass             prometheus_client   ujson\n",
      "asyncore            gettext             prompt_toolkit      unicodecsv\n",
      "atexit              gevent              pstats              unicodedata\n",
      "atomicwrites        ggplot              psutil              unittest\n",
      "attr                glob                pty                 urllib\n",
      "audioop             glob2               ptyprocess          urllib3\n",
      "automat             gmpy2               pvectorc            uu\n",
      "autopep8            greenlet            pwd                 uuid\n",
      "autoreload          grp                 py                  uwsgidecorators\n",
      "babel               grpc                py_compile          validate\n",
      "backcall            gzip                pyasn1              venv\n",
      "backports           h5py                pyasn1_modules      warnings\n",
      "base64              hamcrest            pyclbr              watchdog\n",
      "bdb                 hashlib             pycodestyle         wave\n",
      "binascii            heapdict            pycosat             wcwidth\n",
      "binhex              heapq               pycparser           weakref\n",
      "bisect              helpdev             pycurl              webbrowser\n",
      "bitarray            hmac                pydoc               webencodings\n",
      "bkcharts            html                pydoc_data          websocket\n",
      "blaze               html5lib            pydocstyle          werkzeug\n",
      "bleach              http                pyexpat             wheel\n",
      "bokeh               hyperlink           pyflakes            widgetsnbextension\n",
      "boto                hypothesis          pygments            wrapt\n",
      "bottleneck          idlelib             pylab               wsgiref\n",
      "brain_argparse      idna                pylint              wurlitzer\n",
      "brain_attrs         imageio             pyls                xdg\n",
      "brain_builtin_inference imagesize           pyls_jsonrpc        xdrlib\n",
      "brain_collections   imaplib             pyodbc              xlrd\n",
      "brain_crypt         imghdr              pypandoc            xlsxwriter\n",
      "brain_curses        imp                 pyparsing           xlwt\n",
      "brain_dataclasses   importlib           pyrsistent          xml\n",
      "brain_dateutil      importlib_metadata  pytest              xmlrpc\n",
      "brain_fstrings      incremental         pytest_arraydiff    xxlimited\n",
      "brain_functools     inspect             pytest_astropy_header xxsubtype\n",
      "brain_gi            intervaltree        pytest_cov          yaml\n",
      "brain_hashlib       io                  pytest_doctestplus  yapf\n",
      "brain_http          ipaddress           pytest_filter_subpackage yapftests\n",
      "brain_io            ipykernel           pytest_openfiles    yarl\n",
      "brain_mechanize     ipykernel_launcher  pytest_remotedata   zict\n",
      "brain_multiprocessing ipython_genutils    pytz                zipapp\n",
      "brain_namedtuple_enum ipywidgets          pywt                zipfile\n",
      "brain_nose          isort               pyximport           zipimport\n",
      "brain_numpy_core_fromnumeric isympy              qdarkstyle          zipp\n",
      "brain_numpy_core_function_base itertools           qtawesome           zlib\n",
      "brain_numpy_core_multiarray itsdangerous        qtconsole           zmq\n",
      "\n",
      "Enter any module name to get more help.  Or, type \"modules spam\" to search\n",
      "for modules whose name or summary contain the string \"spam\".\n",
      "\n"
     ]
    },
    {
     "name": "stderr",
     "output_type": "stream",
     "text": [
      "/opt/conda/lib/python3.7/pkgutil.py:107: VisibleDeprecationWarning: zmq.eventloop.minitornado is deprecated in pyzmq 14.0 and will be removed.\n",
      "    Install tornado itself to use zmq with the tornado IOLoop.\n",
      "    \n",
      "  yield from walk_packages(path, info.name+'.', onerror)\n"
     ]
    }
   ],
   "source": [
    "help(\"modules\")"
   ]
  },
  {
   "cell_type": "code",
   "execution_count": 17,
   "metadata": {},
   "outputs": [
    {
     "name": "stdout",
     "output_type": "stream",
     "text": [
      "Package                            Version\r\n",
      "---------------------------------- ----------\r\n",
      "absl-py                            0.9.0\r\n",
      "aiohttp                            3.6.2\r\n",
      "alabaster                          0.7.12\r\n",
      "appdirs                            1.4.3\r\n",
      "asn1crypto                         1.2.0\r\n",
      "astor                              0.8.1\r\n",
      "astroid                            2.3.3\r\n",
      "astropy                            3.2.3\r\n",
      "async-timeout                      3.0.1\r\n",
      "atomicwrites                       1.3.0\r\n",
      "attrs                              19.3.0\r\n",
      "Automat                            0.8.0\r\n",
      "autopep8                           1.5.2\r\n",
      "Babel                              2.8.0\r\n",
      "backcall                           0.1.0\r\n",
      "backports.shutil-get-terminal-size 1.0.0\r\n",
      "beautifulsoup4                     4.8.2\r\n",
      "bitarray                           0.9.3\r\n",
      "bkcharts                           0.2\r\n",
      "blaze                              0.10.1\r\n",
      "bleach                             3.1.5\r\n",
      "bokeh                              1.4.0\r\n",
      "boto                               2.49.0\r\n",
      "Bottleneck                         1.3.2\r\n",
      "brewer2mpl                         1.4.1\r\n",
      "bson                               0.5.9\r\n",
      "cairocffi                          1.1.0\r\n",
      "certifi                            2020.4.5.1\r\n",
      "cffi                               1.13.0\r\n",
      "chardet                            3.0.4\r\n",
      "click                              6.7\r\n",
      "cloudpickle                        0.8.1\r\n",
      "clyent                             1.2.1\r\n",
      "colorama                           0.4.3\r\n",
      "conda                              4.8.3\r\n",
      "conda-package-handling             1.6.0\r\n",
      "configobj                          5.0.6\r\n",
      "constantly                         15.1.0\r\n",
      "contextlib2                        0.6.0\r\n",
      "coverage                           5.1\r\n",
      "cryptography                       2.8\r\n",
      "cx-Oracle                          7.3.0\r\n",
      "cycler                             0.10.0\r\n",
      "Cython                             0.29.15\r\n",
      "cytoolz                            0.10.1\r\n",
      "dask                               2.12.0\r\n",
      "datashape                          0.5.2\r\n",
      "decorator                          4.4.2\r\n",
      "defusedxml                         0.6.0\r\n",
      "diff-match-patch                   20181111\r\n",
      "distributed                        1.28.1\r\n",
      "docutils                           0.16\r\n",
      "entrypoints                        0.3\r\n",
      "et-xmlfile                         1.0.1\r\n",
      "fastcache                          1.1.0\r\n",
      "filelock                           3.0.12\r\n",
      "flake8                             3.7.9\r\n",
      "Flask                              1.0.2\r\n",
      "Flask-Compress                     1.4.0\r\n",
      "Flask-Cors                         3.0.6\r\n",
      "future                             0.18.2\r\n",
      "gast                               0.3.3\r\n",
      "gevent                             1.4.0\r\n",
      "ggplot                             0.11.5\r\n",
      "glob2                              0.7\r\n",
      "gmpy2                              2.0.8\r\n",
      "google-pasta                       0.2.0\r\n",
      "greenlet                           0.4.15\r\n",
      "grpcio                             1.28.1\r\n",
      "h5py                               2.10.0\r\n",
      "HeapDict                           1.0.1\r\n",
      "helpdev                            0.7.1\r\n",
      "html5lib                           1.0.1\r\n",
      "hyperlink                          18.0.0\r\n",
      "hypothesis                         5.12.0\r\n",
      "idna                               2.8\r\n",
      "imageio                            2.8.0\r\n",
      "imagesize                          1.2.0\r\n",
      "importlib-metadata                 1.6.0\r\n",
      "incremental                        17.5.0\r\n",
      "intervaltree                       3.0.2\r\n",
      "ipykernel                          5.2.1\r\n",
      "ipython                            7.14.0\r\n",
      "ipython-genutils                   0.2.0\r\n",
      "ipywidgets                         7.5.1\r\n",
      "isort                              4.3.21\r\n",
      "itsdangerous                       0.24\r\n",
      "JayDeBeApi                         1.1.1\r\n",
      "jdcal                              1.4.1\r\n",
      "jedi                               0.15.2\r\n",
      "jeepney                            0.4.3\r\n",
      "Jinja2                             2.11.2\r\n",
      "joblib                             0.14.1\r\n",
      "JPype1                             0.7.2\r\n",
      "json5                              0.9.4\r\n",
      "jsonify                            0.5\r\n",
      "jsonschema                         3.2.0\r\n",
      "jupyter                            1.0.0\r\n",
      "jupyter-client                     6.1.3\r\n",
      "jupyter-codeserver-proxy           1.0b1\r\n",
      "jupyter-console                    6.1.0\r\n",
      "jupyter-core                       4.6.3\r\n",
      "jupyter-server-proxy               1.4.0\r\n",
      "jupyterlab                         1.2.12\r\n",
      "jupyterlab-server                  1.1.3\r\n",
      "Keras                              2.3.1\r\n",
      "Keras-Applications                 1.0.8\r\n",
      "Keras-Preprocessing                1.1.0\r\n",
      "keyring                            13.2.1\r\n",
      "kiwisolver                         1.1.0\r\n",
      "lazy-object-proxy                  1.4.3\r\n",
      "llvmlite                           0.31.0\r\n",
      "locket                             0.2.0\r\n",
      "lxml                               4.5.0\r\n",
      "Markdown                           3.2.2\r\n",
      "MarkupSafe                         1.1.1\r\n",
      "matplotlib                         2.2.5\r\n",
      "mccabe                             0.6.1\r\n",
      "mistune                            0.8.4\r\n",
      "mkl-fft                            1.0.4\r\n",
      "mkl-random                         1.0.1\r\n",
      "more-itertools                     8.2.0\r\n",
      "mpltools                           0.2.0\r\n",
      "mpmath                             1.0.0\r\n",
      "msgpack                            0.6.2\r\n",
      "multidict                          4.7.5\r\n",
      "multipledispatch                   0.6.0\r\n",
      "nbconvert                          5.6.1\r\n",
      "nbformat                           5.0.6\r\n",
      "networkx                           2.4\r\n",
      "nltk                               3.4.5\r\n",
      "nose                               1.3.7\r\n",
      "notebook                           6.0.3\r\n",
      "numba                              0.48.0\r\n",
      "numexpr                            2.7.1\r\n",
      "numpy                              1.18.2\r\n",
      "numpydoc                           0.9.2\r\n",
      "odo                                0.5.0\r\n",
      "olefile                            0.46\r\n",
      "openpyxl                           2.6.4\r\n",
      "packaging                          17.1\r\n",
      "pandas                             0.25.3\r\n",
      "pandocfilters                      1.4.2\r\n",
      "parso                              0.5.2\r\n",
      "partd                              0.3.10\r\n",
      "path.py                            11.5.2\r\n",
      "pathlib2                           2.3.5\r\n",
      "pathtools                          0.1.2\r\n",
      "patsy                              0.5.1\r\n",
      "pep8                               1.7.1\r\n",
      "pexpect                            4.8.0\r\n",
      "pickleshare                        0.7.5\r\n",
      "Pillow                             5.4.1\r\n",
      "pip                                20.1\r\n",
      "pkginfo                            1.5.0\r\n",
      "pluggy                             0.13.1\r\n",
      "ply                                3.11\r\n",
      "prometheus-client                  0.7.1\r\n",
      "prompt-toolkit                     3.0.5\r\n",
      "protobuf                           3.11.3\r\n",
      "psutil                             5.7.0\r\n",
      "ptyprocess                         0.6.0\r\n",
      "py                                 1.6.0\r\n",
      "pyasn1                             0.4.8\r\n",
      "pyasn1-modules                     0.2.8\r\n",
      "pycodestyle                        2.5.0\r\n",
      "pycosat                            0.6.3\r\n",
      "pycparser                          2.19\r\n",
      "pycrypto                           2.6.1\r\n",
      "pycurl                             7.43.0.5\r\n",
      "pydocstyle                         5.0.2\r\n",
      "pyflakes                           2.1.1\r\n",
      "Pygments                           2.6.1\r\n",
      "PyHamcrest                         2.0.2\r\n",
      "pylint                             2.4.4\r\n",
      "pyodbc                             4.0.30\r\n",
      "pyOpenSSL                          19.0.0\r\n",
      "pypandoc                           1.4\r\n",
      "pyparsing                          2.4.6\r\n",
      "PyQt5                              5.12.3\r\n",
      "PyQt5-sip                          12.7.2\r\n",
      "PyQtWebEngine                      5.12.1\r\n",
      "pyrsistent                         0.16.0\r\n",
      "PySocks                            1.7.1\r\n",
      "pytest                             3.10.0\r\n",
      "pytest-arraydiff                   0.3\r\n",
      "pytest-astropy                     0.8.0\r\n",
      "pytest-astropy-header              0.1.2\r\n",
      "pytest-cov                         2.8.1\r\n",
      "pytest-doctestplus                 0.5.0\r\n",
      "pytest-filter-subpackage           0.1.1\r\n",
      "pytest-openfiles                   0.3.0\r\n",
      "pytest-remotedata                  0.3.2\r\n",
      "python-dateutil                    2.8.1\r\n",
      "python-domino                      1.0.0\r\n",
      "python-jsonrpc-server              0.3.4\r\n",
      "python-language-server             0.31.10\r\n",
      "pytz                               2018.9\r\n",
      "PyWavelets                         1.1.1\r\n",
      "pyxdg                              0.26\r\n",
      "PyYAML                             3.13\r\n",
      "pyzmq                              19.0.1\r\n",
      "QDarkStyle                         2.8.1\r\n",
      "QtAwesome                          0.7.0\r\n",
      "qtconsole                          4.7.3\r\n",
      "QtPy                               1.9.0\r\n",
      "requests                           2.22.0\r\n",
      "rope                               0.16.0\r\n",
      "ruamel-yaml                        0.15.46\r\n",
      "scikit-image                       0.16.2\r\n",
      "scikit-learn                       0.22.2\r\n",
      "scipy                              1.4.1\r\n",
      "seaborn                            0.10.0\r\n",
      "SecretStorage                      3.1.2\r\n",
      "Send2Trash                         1.5.0\r\n",
      "service-identity                   17.0.0\r\n",
      "setuptools                         41.4.0\r\n",
      "simpervisor                        0.3\r\n",
      "simplegeneric                      0.8.1\r\n",
      "singledispatch                     3.4.0.3\r\n",
      "six                                1.12.0\r\n",
      "snowballstemmer                    1.9.1\r\n",
      "sortedcollections                  1.1.2\r\n",
      "sortedcontainers                   2.1.0\r\n",
      "soupsieve                          2.0\r\n",
      "Sphinx                             1.8.5\r\n",
      "sphinxcontrib-websupport           1.2.0\r\n",
      "spyder                             4.1.1\r\n",
      "spyder-kernels                     1.9.0\r\n",
      "SQLAlchemy                         1.3.15\r\n",
      "statsmodels                        0.11.1\r\n",
      "sympy                              1.5.1\r\n",
      "tables                             3.6.1\r\n",
      "TBB                                0.1\r\n",
      "tblib                              1.6.0\r\n",
      "tensorboard                        1.14.0\r\n",
      "tensorflow-estimator               1.14.0\r\n",
      "tensorflow-gpu                     1.14.0\r\n",
      "termcolor                          1.1.0\r\n",
      "terminado                          0.8.3\r\n",
      "testpath                           0.4.4\r\n",
      "toolz                              0.10.0\r\n",
      "tornado                            6.0.4\r\n",
      "tqdm                               4.36.1\r\n",
      "traitlets                          4.3.3\r\n",
      "Twisted                            18.9.0\r\n",
      "typed-ast                          1.4.1\r\n",
      "ujson                              1.35\r\n",
      "unicodecsv                         0.14.1\r\n",
      "urllib3                            1.24.2\r\n",
      "uWSGI                              2.0.18\r\n",
      "watchdog                           0.10.2\r\n",
      "wcwidth                            0.1.9\r\n",
      "webencodings                       0.5.1\r\n",
      "websocket                          0.2.1\r\n",
      "Werkzeug                           0.16.1\r\n",
      "wheel                              0.33.6\r\n",
      "widgetsnbextension                 3.5.1\r\n",
      "wrapt                              1.11.2\r\n",
      "wurlitzer                          2.0.0\r\n",
      "xlrd                               1.2.0\r\n",
      "XlsxWriter                         1.2.8\r\n",
      "xlwt                               1.3.0\r\n",
      "yapf                               0.30.0\r\n",
      "yarl                               1.4.2\r\n",
      "zict                               0.1.4\r\n",
      "zipp                               3.1.0\r\n",
      "zope.interface                     4.7.2\r\n"
     ]
    },
    {
     "name": "stdout",
     "output_type": "stream",
     "text": [
      "\u001b[33mWARNING: You are using pip version 20.1; however, version 21.3 is available.\r\n",
      "You should consider upgrading via the '/opt/conda/bin/python -m pip install --upgrade pip' command.\u001b[0m\r\n"
     ]
    }
   ],
   "source": [
    "!pip list"
   ]
  },
  {
   "cell_type": "code",
   "execution_count": 19,
   "metadata": {},
   "outputs": [
    {
     "name": "stdout",
     "output_type": "stream",
     "text": [
      "Looking in indexes: https://artifactory.opsp.c1.vanguard.com/artifactory/api/pypi/vpypi/simple\n",
      "Collecting retentioneering\n",
      "\u001b[33m  WARNING: Retrying (Retry(total=4, connect=None, read=None, redirect=None, status=None)) after connection broken by 'ReadTimeoutError(\"HTTPSConnectionPool(host='artifactory.opsp.c1.vanguard.com', port=443): Read timed out. (read timeout=15)\")': /artifactory/api/pypi/vpypi/packages/packages/4b/30/6771bb91456ec0fb833f4a20122903b86fd2b50f0321db7312896c501f32/retentioneering-2.0.3.2-py3-none-any.whl\u001b[0m\n",
      "\u001b[33m  WARNING: Retrying (Retry(total=3, connect=None, read=None, redirect=None, status=None)) after connection broken by 'ReadTimeoutError(\"HTTPSConnectionPool(host='artifactory.opsp.c1.vanguard.com', port=443): Read timed out. (read timeout=15)\")': /artifactory/api/pypi/vpypi/packages/packages/4b/30/6771bb91456ec0fb833f4a20122903b86fd2b50f0321db7312896c501f32/retentioneering-2.0.3.2-py3-none-any.whl\u001b[0m\n",
      "\u001b[33m  WARNING: Retrying (Retry(total=2, connect=None, read=None, redirect=None, status=None)) after connection broken by 'ReadTimeoutError(\"HTTPSConnectionPool(host='artifactory.opsp.c1.vanguard.com', port=443): Read timed out. (read timeout=15)\")': /artifactory/api/pypi/vpypi/packages/packages/4b/30/6771bb91456ec0fb833f4a20122903b86fd2b50f0321db7312896c501f32/retentioneering-2.0.3.2-py3-none-any.whl\u001b[0m\n",
      "\u001b[33m  WARNING: Retrying (Retry(total=1, connect=None, read=None, redirect=None, status=None)) after connection broken by 'ReadTimeoutError(\"HTTPSConnectionPool(host='artifactory.opsp.c1.vanguard.com', port=443): Read timed out. (read timeout=15)\")': /artifactory/api/pypi/vpypi/packages/packages/4b/30/6771bb91456ec0fb833f4a20122903b86fd2b50f0321db7312896c501f32/retentioneering-2.0.3.2-py3-none-any.whl\u001b[0m\n",
      "\u001b[31m  ERROR: HTTP error 403 while getting https://artifactory.opsp.c1.vanguard.com/artifactory/api/pypi/vpypi/packages/packages/4b/30/6771bb91456ec0fb833f4a20122903b86fd2b50f0321db7312896c501f32/retentioneering-2.0.3.2-py3-none-any.whl#sha256=e036e3475325432f376e72d24e59293ce2ba8d04e987150adcdf2f313f13344b (from https://artifactory.opsp.c1.vanguard.com/artifactory/api/pypi/vpypi/simple/retentioneering/) (requires-python:>=3.7)\u001b[0m\n",
      "\u001b[31m  ERROR: Could not install requirement retentioneering from https://artifactory.opsp.c1.vanguard.com/artifactory/api/pypi/vpypi/packages/packages/4b/30/6771bb91456ec0fb833f4a20122903b86fd2b50f0321db7312896c501f32/retentioneering-2.0.3.2-py3-none-any.whl#sha256=e036e3475325432f376e72d24e59293ce2ba8d04e987150adcdf2f313f13344b because of error 403 Client Error: Forbidden for url: https://artifactory.opsp.c1.vanguard.com/artifactory/api/pypi/vpypi/packages/packages/4b/30/6771bb91456ec0fb833f4a20122903b86fd2b50f0321db7312896c501f32/retentioneering-2.0.3.2-py3-none-any.whl\u001b[0m\n",
      "\u001b[31mERROR: Could not install requirement retentioneering from https://artifactory.opsp.c1.vanguard.com/artifactory/api/pypi/vpypi/packages/packages/4b/30/6771bb91456ec0fb833f4a20122903b86fd2b50f0321db7312896c501f32/retentioneering-2.0.3.2-py3-none-any.whl#sha256=e036e3475325432f376e72d24e59293ce2ba8d04e987150adcdf2f313f13344b because of HTTP error 403 Client Error: Forbidden for url: https://artifactory.opsp.c1.vanguard.com/artifactory/api/pypi/vpypi/packages/packages/4b/30/6771bb91456ec0fb833f4a20122903b86fd2b50f0321db7312896c501f32/retentioneering-2.0.3.2-py3-none-any.whl for URL https://artifactory.opsp.c1.vanguard.com/artifactory/api/pypi/vpypi/packages/packages/4b/30/6771bb91456ec0fb833f4a20122903b86fd2b50f0321db7312896c501f32/retentioneering-2.0.3.2-py3-none-any.whl#sha256=e036e3475325432f376e72d24e59293ce2ba8d04e987150adcdf2f313f13344b (from https://artifactory.opsp.c1.vanguard.com/artifactory/api/pypi/vpypi/simple/retentioneering/) (requires-python:>=3.7)\u001b[0m\n",
      "\u001b[33mWARNING: You are using pip version 20.1; however, version 21.3 is available.\n",
      "You should consider upgrading via the '/opt/conda/bin/python -m pip install --upgrade pip' command.\u001b[0m\n"
     ]
    }
   ],
   "source": [
    "!pip install retentioneering"
   ]
  },
  {
   "cell_type": "code",
   "execution_count": null,
   "metadata": {
    "collapsed": true
   },
   "outputs": [],
   "source": []
  },
  {
   "cell_type": "code",
   "execution_count": 2,
   "metadata": {},
   "outputs": [
    {
     "data": {
      "text/plain": [
       "(1447031, 4)"
      ]
     },
     "execution_count": 2,
     "metadata": {},
     "output_type": "execute_result"
    }
   ],
   "source": [
    "dd = pd.read_csv('all_model_file_2019_to_2021_9.csv', engine='python' )\n",
    "dd.shape"
   ]
  },
  {
   "cell_type": "code",
   "execution_count": 4,
   "metadata": {},
   "outputs": [
    {
     "data": {
      "text/html": [
       "<div>\n",
       "<style scoped>\n",
       "    .dataframe tbody tr th:only-of-type {\n",
       "        vertical-align: middle;\n",
       "    }\n",
       "\n",
       "    .dataframe tbody tr th {\n",
       "        vertical-align: top;\n",
       "    }\n",
       "\n",
       "    .dataframe thead th {\n",
       "        text-align: right;\n",
       "    }\n",
       "</style>\n",
       "<table border=\"1\" class=\"dataframe\">\n",
       "  <thead>\n",
       "    <tr style=\"text-align: right;\">\n",
       "      <th></th>\n",
       "      <th>contactid</th>\n",
       "      <th>Date</th>\n",
       "      <th>Job_number</th>\n",
       "      <th>type</th>\n",
       "    </tr>\n",
       "  </thead>\n",
       "  <tbody>\n",
       "    <tr>\n",
       "      <th>0</th>\n",
       "      <td>363d77b0-5cfd-e811-a96d-000d3a1c53e4</td>\n",
       "      <td>2021-05-18 15:22:07</td>\n",
       "      <td>1746393</td>\n",
       "      <td>email_click</td>\n",
       "    </tr>\n",
       "    <tr>\n",
       "      <th>1</th>\n",
       "      <td>363d77b0-5cfd-e811-a96d-000d3a1c53e4</td>\n",
       "      <td>2021-03-12 11:06:53</td>\n",
       "      <td>1674751</td>\n",
       "      <td>email_click</td>\n",
       "    </tr>\n",
       "    <tr>\n",
       "      <th>2</th>\n",
       "      <td>363d77b0-5cfd-e811-a96d-000d3a1c53e4</td>\n",
       "      <td>2021-03-11 20:49:12</td>\n",
       "      <td>1673571</td>\n",
       "      <td>email_click</td>\n",
       "    </tr>\n",
       "    <tr>\n",
       "      <th>3</th>\n",
       "      <td>363d77b0-5cfd-e811-a96d-000d3a1c53e4</td>\n",
       "      <td>2021-01-13 11:57:40</td>\n",
       "      <td>1609836</td>\n",
       "      <td>email_click</td>\n",
       "    </tr>\n",
       "    <tr>\n",
       "      <th>4</th>\n",
       "      <td>363d77b0-5cfd-e811-a96d-000d3a1c53e4</td>\n",
       "      <td>2021-01-13 11:52:26</td>\n",
       "      <td>1609836</td>\n",
       "      <td>email_click</td>\n",
       "    </tr>\n",
       "  </tbody>\n",
       "</table>\n",
       "</div>"
      ],
      "text/plain": [
       "                              contactid                 Date Job_number  \\\n",
       "0  363d77b0-5cfd-e811-a96d-000d3a1c53e4  2021-05-18 15:22:07    1746393   \n",
       "1  363d77b0-5cfd-e811-a96d-000d3a1c53e4  2021-03-12 11:06:53    1674751   \n",
       "2  363d77b0-5cfd-e811-a96d-000d3a1c53e4  2021-03-11 20:49:12    1673571   \n",
       "3  363d77b0-5cfd-e811-a96d-000d3a1c53e4  2021-01-13 11:57:40    1609836   \n",
       "4  363d77b0-5cfd-e811-a96d-000d3a1c53e4  2021-01-13 11:52:26    1609836   \n",
       "\n",
       "          type  \n",
       "0  email_click  \n",
       "1  email_click  \n",
       "2  email_click  \n",
       "3  email_click  \n",
       "4  email_click  "
      ]
     },
     "execution_count": 4,
     "metadata": {},
     "output_type": "execute_result"
    }
   ],
   "source": [
    "dd.head(5)"
   ]
  },
  {
   "cell_type": "code",
   "execution_count": 5,
   "metadata": {},
   "outputs": [
    {
     "name": "stdout",
     "output_type": "stream",
     "text": [
      "contactid\n",
      "0\n",
      "\n",
      "Date\n",
      "0\n",
      "\n",
      "Job_number\n",
      "2985\n",
      "\n",
      "type\n",
      "0\n",
      "\n"
     ]
    }
   ],
   "source": [
    "for i in dd.columns:\n",
    "    print(i)\n",
    "    print(dd[i].isnull().sum())\n",
    "    print()"
   ]
  },
  {
   "cell_type": "code",
   "execution_count": 3,
   "metadata": {},
   "outputs": [
    {
     "data": {
      "text/html": [
       "<div>\n",
       "<style scoped>\n",
       "    .dataframe tbody tr th:only-of-type {\n",
       "        vertical-align: middle;\n",
       "    }\n",
       "\n",
       "    .dataframe tbody tr th {\n",
       "        vertical-align: top;\n",
       "    }\n",
       "\n",
       "    .dataframe thead th {\n",
       "        text-align: right;\n",
       "    }\n",
       "</style>\n",
       "<table border=\"1\" class=\"dataframe\">\n",
       "  <thead>\n",
       "    <tr style=\"text-align: right;\">\n",
       "      <th>type</th>\n",
       "      <th>email_click</th>\n",
       "      <th>event_attendee</th>\n",
       "      <th>opportunity</th>\n",
       "      <th>sales_activity</th>\n",
       "      <th>web_file_download</th>\n",
       "      <th>web_tool</th>\n",
       "    </tr>\n",
       "    <tr>\n",
       "      <th>contactid</th>\n",
       "      <th></th>\n",
       "      <th></th>\n",
       "      <th></th>\n",
       "      <th></th>\n",
       "      <th></th>\n",
       "      <th></th>\n",
       "    </tr>\n",
       "  </thead>\n",
       "  <tbody>\n",
       "    <tr>\n",
       "      <th>0000f4da-e16b-eb11-a812-000d3a9e0f51</th>\n",
       "      <td>0</td>\n",
       "      <td>0</td>\n",
       "      <td>0</td>\n",
       "      <td>6</td>\n",
       "      <td>0</td>\n",
       "      <td>0</td>\n",
       "    </tr>\n",
       "    <tr>\n",
       "      <th>0001f60e-c2b2-e811-a96c-000d3a1c5cc0</th>\n",
       "      <td>0</td>\n",
       "      <td>0</td>\n",
       "      <td>0</td>\n",
       "      <td>3</td>\n",
       "      <td>0</td>\n",
       "      <td>0</td>\n",
       "    </tr>\n",
       "    <tr>\n",
       "      <th>00026a35-e9b2-e811-a969-000d3a1c5716</th>\n",
       "      <td>3</td>\n",
       "      <td>0</td>\n",
       "      <td>0</td>\n",
       "      <td>0</td>\n",
       "      <td>2</td>\n",
       "      <td>3</td>\n",
       "    </tr>\n",
       "    <tr>\n",
       "      <th>0003c255-ddb2-e811-a969-000d3a1c5ec5</th>\n",
       "      <td>0</td>\n",
       "      <td>0</td>\n",
       "      <td>0</td>\n",
       "      <td>3</td>\n",
       "      <td>0</td>\n",
       "      <td>0</td>\n",
       "    </tr>\n",
       "    <tr>\n",
       "      <th>0003e4dd-508a-e911-a97b-000d3a1c5ec5</th>\n",
       "      <td>0</td>\n",
       "      <td>0</td>\n",
       "      <td>0</td>\n",
       "      <td>8</td>\n",
       "      <td>0</td>\n",
       "      <td>0</td>\n",
       "    </tr>\n",
       "  </tbody>\n",
       "</table>\n",
       "</div>"
      ],
      "text/plain": [
       "type                                  email_click  event_attendee  \\\n",
       "contactid                                                           \n",
       "0000f4da-e16b-eb11-a812-000d3a9e0f51            0               0   \n",
       "0001f60e-c2b2-e811-a96c-000d3a1c5cc0            0               0   \n",
       "00026a35-e9b2-e811-a969-000d3a1c5716            3               0   \n",
       "0003c255-ddb2-e811-a969-000d3a1c5ec5            0               0   \n",
       "0003e4dd-508a-e911-a97b-000d3a1c5ec5            0               0   \n",
       "\n",
       "type                                  opportunity  sales_activity  \\\n",
       "contactid                                                           \n",
       "0000f4da-e16b-eb11-a812-000d3a9e0f51            0               6   \n",
       "0001f60e-c2b2-e811-a96c-000d3a1c5cc0            0               3   \n",
       "00026a35-e9b2-e811-a969-000d3a1c5716            0               0   \n",
       "0003c255-ddb2-e811-a969-000d3a1c5ec5            0               3   \n",
       "0003e4dd-508a-e911-a97b-000d3a1c5ec5            0               8   \n",
       "\n",
       "type                                  web_file_download  web_tool  \n",
       "contactid                                                          \n",
       "0000f4da-e16b-eb11-a812-000d3a9e0f51                  0         0  \n",
       "0001f60e-c2b2-e811-a96c-000d3a1c5cc0                  0         0  \n",
       "00026a35-e9b2-e811-a969-000d3a1c5716                  2         3  \n",
       "0003c255-ddb2-e811-a969-000d3a1c5ec5                  0         0  \n",
       "0003e4dd-508a-e911-a97b-000d3a1c5ec5                  0         0  "
      ]
     },
     "execution_count": 3,
     "metadata": {},
     "output_type": "execute_result"
    }
   ],
   "source": [
    "ddg = dd.groupby(['contactid', 'type']).size().unstack(fill_value=0)\n",
    "ddg.head(5)"
   ]
  },
  {
   "cell_type": "code",
   "execution_count": 7,
   "metadata": {},
   "outputs": [
    {
     "data": {
      "text/plain": [
       "(135004, 6)"
      ]
     },
     "execution_count": 7,
     "metadata": {},
     "output_type": "execute_result"
    }
   ],
   "source": [
    "ddg.shape"
   ]
  },
  {
   "cell_type": "code",
   "execution_count": 31,
   "metadata": {
    "collapsed": true
   },
   "outputs": [],
   "source": [
    "\"\"\"ddg  = ddg.iloc[4:135008,:]\"\"\""
   ]
  },
  {
   "cell_type": "code",
   "execution_count": 32,
   "metadata": {},
   "outputs": [
    {
     "data": {
      "text/plain": [
       "135004"
      ]
     },
     "execution_count": 32,
     "metadata": {},
     "output_type": "execute_result"
    }
   ],
   "source": [
    "\"\"\"ddgs = set(ddg.index)\n",
    "len(ddgs)\"\"\""
   ]
  },
  {
   "cell_type": "code",
   "execution_count": 33,
   "metadata": {},
   "outputs": [
    {
     "data": {
      "text/plain": [
       "1447031"
      ]
     },
     "execution_count": 33,
     "metadata": {},
     "output_type": "execute_result"
    }
   ],
   "source": [
    "\"\"\"c5 = dd['contactid'].isin(ddgs)\n",
    "c5.sum()\"\"\""
   ]
  },
  {
   "cell_type": "code",
   "execution_count": 34,
   "metadata": {
    "collapsed": true
   },
   "outputs": [],
   "source": [
    "\"\"\"dd = dd[c5] \"\"\"\n"
   ]
  },
  {
   "cell_type": "code",
   "execution_count": 9,
   "metadata": {},
   "outputs": [
    {
     "data": {
      "text/plain": [
       "0       81272\n",
       "1       15306\n",
       "2        6961\n",
       "3        6211\n",
       "4        3953\n",
       "        ...  \n",
       "447         1\n",
       "497         1\n",
       "650         1\n",
       "734         1\n",
       "1307        1\n",
       "Name: email_click, Length: 256, dtype: int64"
      ]
     },
     "execution_count": 9,
     "metadata": {},
     "output_type": "execute_result"
    }
   ],
   "source": [
    "ddg['email_click'].value_counts().sort_index(ascending=True)"
   ]
  },
  {
   "cell_type": "code",
   "execution_count": 12,
   "metadata": {},
   "outputs": [
    {
     "data": {
      "text/plain": [
       "1307"
      ]
     },
     "execution_count": 12,
     "metadata": {},
     "output_type": "execute_result"
    }
   ],
   "source": [
    "max(ddg['email_click'].value_counts().index)"
   ]
  },
  {
   "cell_type": "code",
   "execution_count": 13,
   "metadata": {},
   "outputs": [
    {
     "data": {
      "text/plain": [
       "1307"
      ]
     },
     "execution_count": 13,
     "metadata": {},
     "output_type": "execute_result"
    }
   ],
   "source": [
    "max(ddg['email_click'])"
   ]
  },
  {
   "cell_type": "code",
   "execution_count": 8,
   "metadata": {},
   "outputs": [
    {
     "data": {
      "text/plain": [
       "<matplotlib.axes._subplots.AxesSubplot at 0x7f69d694b890>"
      ]
     },
     "execution_count": 8,
     "metadata": {},
     "output_type": "execute_result"
    },
    {
     "data": {
      "image/png": "[encoded data removed]",
      "text/plain": [
       "<Figure size 432x288 with 1 Axes>"
      ]
     },
     "metadata": {
      "needs_background": "light"
     },
     "output_type": "display_data"
    }
   ],
   "source": [
    "ddg['email_click'].hist(bins = 50)"
   ]
  },
  {
   "cell_type": "code",
   "execution_count": 14,
   "metadata": {},
   "outputs": [
    {
     "data": {
      "text/html": [
       "<div>\n",
       "<style scoped>\n",
       "    .dataframe tbody tr th:only-of-type {\n",
       "        vertical-align: middle;\n",
       "    }\n",
       "\n",
       "    .dataframe tbody tr th {\n",
       "        vertical-align: top;\n",
       "    }\n",
       "\n",
       "    .dataframe thead th {\n",
       "        text-align: right;\n",
       "    }\n",
       "</style>\n",
       "<table border=\"1\" class=\"dataframe\">\n",
       "  <thead>\n",
       "    <tr style=\"text-align: right;\">\n",
       "      <th>type</th>\n",
       "      <th>email_click</th>\n",
       "      <th>event_attendee</th>\n",
       "      <th>opportunity</th>\n",
       "      <th>sales_activity</th>\n",
       "      <th>web_file_download</th>\n",
       "      <th>web_tool</th>\n",
       "    </tr>\n",
       "  </thead>\n",
       "  <tbody>\n",
       "    <tr>\n",
       "      <th>count</th>\n",
       "      <td>135004.000000</td>\n",
       "      <td>135004.000000</td>\n",
       "      <td>135004.000000</td>\n",
       "      <td>135004.000000</td>\n",
       "      <td>135004.000000</td>\n",
       "      <td>135004.000000</td>\n",
       "    </tr>\n",
       "    <tr>\n",
       "      <th>mean</th>\n",
       "      <td>3.754659</td>\n",
       "      <td>0.252607</td>\n",
       "      <td>0.048717</td>\n",
       "      <td>3.526340</td>\n",
       "      <td>1.740600</td>\n",
       "      <td>1.395507</td>\n",
       "    </tr>\n",
       "    <tr>\n",
       "      <th>std</th>\n",
       "      <td>13.932378</td>\n",
       "      <td>1.409808</td>\n",
       "      <td>0.276999</td>\n",
       "      <td>5.750961</td>\n",
       "      <td>18.800959</td>\n",
       "      <td>15.369891</td>\n",
       "    </tr>\n",
       "    <tr>\n",
       "      <th>min</th>\n",
       "      <td>0.000000</td>\n",
       "      <td>0.000000</td>\n",
       "      <td>0.000000</td>\n",
       "      <td>0.000000</td>\n",
       "      <td>0.000000</td>\n",
       "      <td>0.000000</td>\n",
       "    </tr>\n",
       "    <tr>\n",
       "      <th>25%</th>\n",
       "      <td>0.000000</td>\n",
       "      <td>0.000000</td>\n",
       "      <td>0.000000</td>\n",
       "      <td>1.000000</td>\n",
       "      <td>0.000000</td>\n",
       "      <td>0.000000</td>\n",
       "    </tr>\n",
       "    <tr>\n",
       "      <th>50%</th>\n",
       "      <td>0.000000</td>\n",
       "      <td>0.000000</td>\n",
       "      <td>0.000000</td>\n",
       "      <td>2.000000</td>\n",
       "      <td>0.000000</td>\n",
       "      <td>0.000000</td>\n",
       "    </tr>\n",
       "    <tr>\n",
       "      <th>75%</th>\n",
       "      <td>2.000000</td>\n",
       "      <td>0.000000</td>\n",
       "      <td>0.000000</td>\n",
       "      <td>4.000000</td>\n",
       "      <td>0.000000</td>\n",
       "      <td>0.000000</td>\n",
       "    </tr>\n",
       "    <tr>\n",
       "      <th>max</th>\n",
       "      <td>1307.000000</td>\n",
       "      <td>69.000000</td>\n",
       "      <td>11.000000</td>\n",
       "      <td>498.000000</td>\n",
       "      <td>2699.000000</td>\n",
       "      <td>1484.000000</td>\n",
       "    </tr>\n",
       "  </tbody>\n",
       "</table>\n",
       "</div>"
      ],
      "text/plain": [
       "type     email_click  event_attendee    opportunity  sales_activity  \\\n",
       "count  135004.000000   135004.000000  135004.000000   135004.000000   \n",
       "mean        3.754659        0.252607       0.048717        3.526340   \n",
       "std        13.932378        1.409808       0.276999        5.750961   \n",
       "min         0.000000        0.000000       0.000000        0.000000   \n",
       "25%         0.000000        0.000000       0.000000        1.000000   \n",
       "50%         0.000000        0.000000       0.000000        2.000000   \n",
       "75%         2.000000        0.000000       0.000000        4.000000   \n",
       "max      1307.000000       69.000000      11.000000      498.000000   \n",
       "\n",
       "type   web_file_download       web_tool  \n",
       "count      135004.000000  135004.000000  \n",
       "mean            1.740600       1.395507  \n",
       "std            18.800959      15.369891  \n",
       "min             0.000000       0.000000  \n",
       "25%             0.000000       0.000000  \n",
       "50%             0.000000       0.000000  \n",
       "75%             0.000000       0.000000  \n",
       "max          2699.000000    1484.000000  "
      ]
     },
     "execution_count": 14,
     "metadata": {},
     "output_type": "execute_result"
    }
   ],
   "source": [
    "ddg.describe()"
   ]
  },
  {
   "cell_type": "code",
   "execution_count": 20,
   "metadata": {},
   "outputs": [
    {
     "data": {
      "text/plain": [
       "array([[<matplotlib.axes._subplots.AxesSubplot object at 0x7f69d10cae50>,\n",
       "        <matplotlib.axes._subplots.AxesSubplot object at 0x7f69d09cc690>],\n",
       "       [<matplotlib.axes._subplots.AxesSubplot object at 0x7f69d0776b90>,\n",
       "        <matplotlib.axes._subplots.AxesSubplot object at 0x7f69d07310d0>],\n",
       "       [<matplotlib.axes._subplots.AxesSubplot object at 0x7f69d075e5d0>,\n",
       "        <matplotlib.axes._subplots.AxesSubplot object at 0x7f69d075e610>]],\n",
       "      dtype=object)"
      ]
     },
     "execution_count": 20,
     "metadata": {},
     "output_type": "execute_result"
    },
    {
     "name": "stdout",
     "output_type": "stream",
     "text": [
      "DEBUG:matplotlib.font_manager:findfont: Matching :family=sans-serif:style=normal:variant=normal:weight=normal:stretch=normal:size=12.0 to DejaVu Sans ('/opt/conda/lib/python3.7/site-packages/matplotlib/mpl-data/fonts/ttf/DejaVuSans.ttf') with score of 0.050000\n"
     ]
    },
    {
     "data": {
      "image/png": "[encoded data removed]",
      "text/plain": [
       "<Figure size 432x288 with 6 Axes>"
      ]
     },
     "metadata": {
      "needs_background": "light"
     },
     "output_type": "display_data"
    }
   ],
   "source": [
    "ddg.hist(bins = 50)"
   ]
  },
  {
   "cell_type": "code",
   "execution_count": 21,
   "metadata": {},
   "outputs": [
    {
     "data": {
      "image/png": "[encoded data removed]",
      "text/plain": [
       "<Figure size 432x288 with 1 Axes>"
      ]
     },
     "metadata": {
      "needs_background": "light"
     },
     "output_type": "display_data"
    }
   ],
   "source": [
    "import seaborn as sns \n",
    "sns.boxplot(ddg['event_attendee']) \n",
    "sns.despine()"
   ]
  },
  {
   "cell_type": "code",
   "execution_count": 23,
   "metadata": {},
   "outputs": [
    {
     "ename": "RuntimeError",
     "evalue": "Selected KDE bandwidth is 0. Cannot estimate density.",
     "output_type": "error",
     "traceback": [
      "\u001b[0;31m---------------------------------------------------------------------------\u001b[0m",
      "\u001b[0;31mValueError\u001b[0m                                Traceback (most recent call last)",
      "\u001b[0;32m/opt/conda/lib/python3.7/site-packages/statsmodels/nonparametric/kde.py\u001b[0m in \u001b[0;36mkdensityfft\u001b[0;34m(X, kernel, bw, weights, gridsize, adjust, clip, cut, retgrid)\u001b[0m\n\u001b[1;32m    450\u001b[0m     \u001b[0;32mtry\u001b[0m\u001b[0;34m:\u001b[0m\u001b[0;34m\u001b[0m\u001b[0;34m\u001b[0m\u001b[0m\n\u001b[0;32m--> 451\u001b[0;31m         \u001b[0mbw\u001b[0m \u001b[0;34m=\u001b[0m \u001b[0mfloat\u001b[0m\u001b[0;34m(\u001b[0m\u001b[0mbw\u001b[0m\u001b[0;34m)\u001b[0m\u001b[0;34m\u001b[0m\u001b[0;34m\u001b[0m\u001b[0m\n\u001b[0m\u001b[1;32m    452\u001b[0m     \u001b[0;32mexcept\u001b[0m\u001b[0;34m:\u001b[0m\u001b[0;34m\u001b[0m\u001b[0;34m\u001b[0m\u001b[0m\n",
      "\u001b[0;31mValueError\u001b[0m: could not convert string to float: 'scott'",
      "\nDuring handling of the above exception, another exception occurred:\n",
      "\u001b[0;31mRuntimeError\u001b[0m                              Traceback (most recent call last)",
      "\u001b[0;32m<ipython-input-23-c7470d49d003>\u001b[0m in \u001b[0;36m<module>\u001b[0;34m\u001b[0m\n\u001b[1;32m      1\u001b[0m \u001b[0;31m#histogram\u001b[0m\u001b[0;34m\u001b[0m\u001b[0;34m\u001b[0m\u001b[0;34m\u001b[0m\u001b[0m\n\u001b[0;32m----> 2\u001b[0;31m \u001b[0msns\u001b[0m\u001b[0;34m.\u001b[0m\u001b[0mdistplot\u001b[0m\u001b[0;34m(\u001b[0m\u001b[0mddg\u001b[0m\u001b[0;34m[\u001b[0m\u001b[0;34m'event_attendee'\u001b[0m\u001b[0;34m]\u001b[0m\u001b[0;34m)\u001b[0m\u001b[0;34m\u001b[0m\u001b[0;34m\u001b[0m\u001b[0m\n\u001b[0m",
      "\u001b[0;32m/opt/conda/lib/python3.7/site-packages/seaborn/distributions.py\u001b[0m in \u001b[0;36mdistplot\u001b[0;34m(a, bins, hist, kde, rug, fit, hist_kws, kde_kws, rug_kws, fit_kws, color, vertical, norm_hist, axlabel, label, ax)\u001b[0m\n\u001b[1;32m    231\u001b[0m     \u001b[0;32mif\u001b[0m \u001b[0mkde\u001b[0m\u001b[0;34m:\u001b[0m\u001b[0;34m\u001b[0m\u001b[0;34m\u001b[0m\u001b[0m\n\u001b[1;32m    232\u001b[0m         \u001b[0mkde_color\u001b[0m \u001b[0;34m=\u001b[0m \u001b[0mkde_kws\u001b[0m\u001b[0;34m.\u001b[0m\u001b[0mpop\u001b[0m\u001b[0;34m(\u001b[0m\u001b[0;34m\"color\"\u001b[0m\u001b[0;34m,\u001b[0m \u001b[0mcolor\u001b[0m\u001b[0;34m)\u001b[0m\u001b[0;34m\u001b[0m\u001b[0;34m\u001b[0m\u001b[0m\n\u001b[0;32m--> 233\u001b[0;31m         \u001b[0mkdeplot\u001b[0m\u001b[0;34m(\u001b[0m\u001b[0ma\u001b[0m\u001b[0;34m,\u001b[0m \u001b[0mvertical\u001b[0m\u001b[0;34m=\u001b[0m\u001b[0mvertical\u001b[0m\u001b[0;34m,\u001b[0m \u001b[0max\u001b[0m\u001b[0;34m=\u001b[0m\u001b[0max\u001b[0m\u001b[0;34m,\u001b[0m \u001b[0mcolor\u001b[0m\u001b[0;34m=\u001b[0m\u001b[0mkde_color\u001b[0m\u001b[0;34m,\u001b[0m \u001b[0;34m**\u001b[0m\u001b[0mkde_kws\u001b[0m\u001b[0;34m)\u001b[0m\u001b[0;34m\u001b[0m\u001b[0;34m\u001b[0m\u001b[0m\n\u001b[0m\u001b[1;32m    234\u001b[0m         \u001b[0;32mif\u001b[0m \u001b[0mkde_color\u001b[0m \u001b[0;34m!=\u001b[0m \u001b[0mcolor\u001b[0m\u001b[0;34m:\u001b[0m\u001b[0;34m\u001b[0m\u001b[0;34m\u001b[0m\u001b[0m\n\u001b[1;32m    235\u001b[0m             \u001b[0mkde_kws\u001b[0m\u001b[0;34m[\u001b[0m\u001b[0;34m\"color\"\u001b[0m\u001b[0;34m]\u001b[0m \u001b[0;34m=\u001b[0m \u001b[0mkde_color\u001b[0m\u001b[0;34m\u001b[0m\u001b[0;34m\u001b[0m\u001b[0m\n",
      "\u001b[0;32m/opt/conda/lib/python3.7/site-packages/seaborn/distributions.py\u001b[0m in \u001b[0;36mkdeplot\u001b[0;34m(data, data2, shade, vertical, kernel, bw, gridsize, cut, clip, legend, cumulative, shade_lowest, cbar, cbar_ax, cbar_kws, ax, **kwargs)\u001b[0m\n\u001b[1;32m    703\u001b[0m         ax = _univariate_kdeplot(data, shade, vertical, kernel, bw,\n\u001b[1;32m    704\u001b[0m                                  \u001b[0mgridsize\u001b[0m\u001b[0;34m,\u001b[0m \u001b[0mcut\u001b[0m\u001b[0;34m,\u001b[0m \u001b[0mclip\u001b[0m\u001b[0;34m,\u001b[0m \u001b[0mlegend\u001b[0m\u001b[0;34m,\u001b[0m \u001b[0max\u001b[0m\u001b[0;34m,\u001b[0m\u001b[0;34m\u001b[0m\u001b[0;34m\u001b[0m\u001b[0m\n\u001b[0;32m--> 705\u001b[0;31m                                  cumulative=cumulative, **kwargs)\n\u001b[0m\u001b[1;32m    706\u001b[0m \u001b[0;34m\u001b[0m\u001b[0m\n\u001b[1;32m    707\u001b[0m     \u001b[0;32mreturn\u001b[0m \u001b[0max\u001b[0m\u001b[0;34m\u001b[0m\u001b[0;34m\u001b[0m\u001b[0m\n",
      "\u001b[0;32m/opt/conda/lib/python3.7/site-packages/seaborn/distributions.py\u001b[0m in \u001b[0;36m_univariate_kdeplot\u001b[0;34m(data, shade, vertical, kernel, bw, gridsize, cut, clip, legend, ax, cumulative, **kwargs)\u001b[0m\n\u001b[1;32m    293\u001b[0m         x, y = _statsmodels_univariate_kde(data, kernel, bw,\n\u001b[1;32m    294\u001b[0m                                            \u001b[0mgridsize\u001b[0m\u001b[0;34m,\u001b[0m \u001b[0mcut\u001b[0m\u001b[0;34m,\u001b[0m \u001b[0mclip\u001b[0m\u001b[0;34m,\u001b[0m\u001b[0;34m\u001b[0m\u001b[0;34m\u001b[0m\u001b[0m\n\u001b[0;32m--> 295\u001b[0;31m                                            cumulative=cumulative)\n\u001b[0m\u001b[1;32m    296\u001b[0m     \u001b[0;32melse\u001b[0m\u001b[0;34m:\u001b[0m\u001b[0;34m\u001b[0m\u001b[0;34m\u001b[0m\u001b[0m\n\u001b[1;32m    297\u001b[0m         \u001b[0;31m# Fall back to scipy if missing statsmodels\u001b[0m\u001b[0;34m\u001b[0m\u001b[0;34m\u001b[0m\u001b[0;34m\u001b[0m\u001b[0m\n",
      "\u001b[0;32m/opt/conda/lib/python3.7/site-packages/seaborn/distributions.py\u001b[0m in \u001b[0;36m_statsmodels_univariate_kde\u001b[0;34m(data, kernel, bw, gridsize, cut, clip, cumulative)\u001b[0m\n\u001b[1;32m    365\u001b[0m     \u001b[0mfft\u001b[0m \u001b[0;34m=\u001b[0m \u001b[0mkernel\u001b[0m \u001b[0;34m==\u001b[0m \u001b[0;34m\"gau\"\u001b[0m\u001b[0;34m\u001b[0m\u001b[0;34m\u001b[0m\u001b[0m\n\u001b[1;32m    366\u001b[0m     \u001b[0mkde\u001b[0m \u001b[0;34m=\u001b[0m \u001b[0msmnp\u001b[0m\u001b[0;34m.\u001b[0m\u001b[0mKDEUnivariate\u001b[0m\u001b[0;34m(\u001b[0m\u001b[0mdata\u001b[0m\u001b[0;34m)\u001b[0m\u001b[0;34m\u001b[0m\u001b[0;34m\u001b[0m\u001b[0m\n\u001b[0;32m--> 367\u001b[0;31m     \u001b[0mkde\u001b[0m\u001b[0;34m.\u001b[0m\u001b[0mfit\u001b[0m\u001b[0;34m(\u001b[0m\u001b[0mkernel\u001b[0m\u001b[0;34m,\u001b[0m \u001b[0mbw\u001b[0m\u001b[0;34m,\u001b[0m \u001b[0mfft\u001b[0m\u001b[0;34m,\u001b[0m \u001b[0mgridsize\u001b[0m\u001b[0;34m=\u001b[0m\u001b[0mgridsize\u001b[0m\u001b[0;34m,\u001b[0m \u001b[0mcut\u001b[0m\u001b[0;34m=\u001b[0m\u001b[0mcut\u001b[0m\u001b[0;34m,\u001b[0m \u001b[0mclip\u001b[0m\u001b[0;34m=\u001b[0m\u001b[0mclip\u001b[0m\u001b[0;34m)\u001b[0m\u001b[0;34m\u001b[0m\u001b[0;34m\u001b[0m\u001b[0m\n\u001b[0m\u001b[1;32m    368\u001b[0m     \u001b[0;32mif\u001b[0m \u001b[0mcumulative\u001b[0m\u001b[0;34m:\u001b[0m\u001b[0;34m\u001b[0m\u001b[0;34m\u001b[0m\u001b[0m\n\u001b[1;32m    369\u001b[0m         \u001b[0mgrid\u001b[0m\u001b[0;34m,\u001b[0m \u001b[0my\u001b[0m \u001b[0;34m=\u001b[0m \u001b[0mkde\u001b[0m\u001b[0;34m.\u001b[0m\u001b[0msupport\u001b[0m\u001b[0;34m,\u001b[0m \u001b[0mkde\u001b[0m\u001b[0;34m.\u001b[0m\u001b[0mcdf\u001b[0m\u001b[0;34m\u001b[0m\u001b[0;34m\u001b[0m\u001b[0m\n",
      "\u001b[0;32m/opt/conda/lib/python3.7/site-packages/statsmodels/nonparametric/kde.py\u001b[0m in \u001b[0;36mfit\u001b[0;34m(self, kernel, bw, fft, weights, gridsize, adjust, cut, clip)\u001b[0m\n\u001b[1;32m    138\u001b[0m             density, grid, bw = kdensityfft(endog, kernel=kernel, bw=bw,\n\u001b[1;32m    139\u001b[0m                     \u001b[0madjust\u001b[0m\u001b[0;34m=\u001b[0m\u001b[0madjust\u001b[0m\u001b[0;34m,\u001b[0m \u001b[0mweights\u001b[0m\u001b[0;34m=\u001b[0m\u001b[0mweights\u001b[0m\u001b[0;34m,\u001b[0m \u001b[0mgridsize\u001b[0m\u001b[0;34m=\u001b[0m\u001b[0mgridsize\u001b[0m\u001b[0;34m,\u001b[0m\u001b[0;34m\u001b[0m\u001b[0;34m\u001b[0m\u001b[0m\n\u001b[0;32m--> 140\u001b[0;31m                     clip=clip, cut=cut)\n\u001b[0m\u001b[1;32m    141\u001b[0m         \u001b[0;32melse\u001b[0m\u001b[0;34m:\u001b[0m\u001b[0;34m\u001b[0m\u001b[0;34m\u001b[0m\u001b[0m\n\u001b[1;32m    142\u001b[0m             density, grid, bw = kdensity(endog, kernel=kernel, bw=bw,\n",
      "\u001b[0;32m/opt/conda/lib/python3.7/site-packages/statsmodels/nonparametric/kde.py\u001b[0m in \u001b[0;36mkdensityfft\u001b[0;34m(X, kernel, bw, weights, gridsize, adjust, clip, cut, retgrid)\u001b[0m\n\u001b[1;32m    451\u001b[0m         \u001b[0mbw\u001b[0m \u001b[0;34m=\u001b[0m \u001b[0mfloat\u001b[0m\u001b[0;34m(\u001b[0m\u001b[0mbw\u001b[0m\u001b[0;34m)\u001b[0m\u001b[0;34m\u001b[0m\u001b[0;34m\u001b[0m\u001b[0m\n\u001b[1;32m    452\u001b[0m     \u001b[0;32mexcept\u001b[0m\u001b[0;34m:\u001b[0m\u001b[0;34m\u001b[0m\u001b[0;34m\u001b[0m\u001b[0m\n\u001b[0;32m--> 453\u001b[0;31m         \u001b[0mbw\u001b[0m \u001b[0;34m=\u001b[0m \u001b[0mbandwidths\u001b[0m\u001b[0;34m.\u001b[0m\u001b[0mselect_bandwidth\u001b[0m\u001b[0;34m(\u001b[0m\u001b[0mX\u001b[0m\u001b[0;34m,\u001b[0m \u001b[0mbw\u001b[0m\u001b[0;34m,\u001b[0m \u001b[0mkern\u001b[0m\u001b[0;34m)\u001b[0m \u001b[0;31m# will cross-val fit this pattern?\u001b[0m\u001b[0;34m\u001b[0m\u001b[0;34m\u001b[0m\u001b[0m\n\u001b[0m\u001b[1;32m    454\u001b[0m     \u001b[0mbw\u001b[0m \u001b[0;34m*=\u001b[0m \u001b[0madjust\u001b[0m\u001b[0;34m\u001b[0m\u001b[0;34m\u001b[0m\u001b[0m\n\u001b[1;32m    455\u001b[0m \u001b[0;34m\u001b[0m\u001b[0m\n",
      "\u001b[0;32m/opt/conda/lib/python3.7/site-packages/statsmodels/nonparametric/bandwidths.py\u001b[0m in \u001b[0;36mselect_bandwidth\u001b[0;34m(x, bw, kernel)\u001b[0m\n\u001b[1;32m    172\u001b[0m         \u001b[0;31m# eventually this can fall back on another selection criterion.\u001b[0m\u001b[0;34m\u001b[0m\u001b[0;34m\u001b[0m\u001b[0;34m\u001b[0m\u001b[0m\n\u001b[1;32m    173\u001b[0m         \u001b[0merr\u001b[0m \u001b[0;34m=\u001b[0m \u001b[0;34m\"Selected KDE bandwidth is 0. Cannot estimate density.\"\u001b[0m\u001b[0;34m\u001b[0m\u001b[0;34m\u001b[0m\u001b[0m\n\u001b[0;32m--> 174\u001b[0;31m         \u001b[0;32mraise\u001b[0m \u001b[0mRuntimeError\u001b[0m\u001b[0;34m(\u001b[0m\u001b[0merr\u001b[0m\u001b[0;34m)\u001b[0m\u001b[0;34m\u001b[0m\u001b[0;34m\u001b[0m\u001b[0m\n\u001b[0m\u001b[1;32m    175\u001b[0m     \u001b[0;32melse\u001b[0m\u001b[0;34m:\u001b[0m\u001b[0;34m\u001b[0m\u001b[0;34m\u001b[0m\u001b[0m\n\u001b[1;32m    176\u001b[0m         \u001b[0;32mreturn\u001b[0m \u001b[0mbandwidth\u001b[0m\u001b[0;34m\u001b[0m\u001b[0;34m\u001b[0m\u001b[0m\n",
      "\u001b[0;31mRuntimeError\u001b[0m: Selected KDE bandwidth is 0. Cannot estimate density."
     ]
    },
    {
     "data": {
      "image/png": "[encoded data removed]",
      "text/plain": [
       "<Figure size 432x288 with 1 Axes>"
      ]
     },
     "metadata": {
      "needs_background": "light"
     },
     "output_type": "display_data"
    }
   ],
   "source": [
    "#histogram\n",
    "sns.distplot(ddg['event_attendee'])"
   ]
  },
  {
   "cell_type": "code",
   "execution_count": 25,
   "metadata": {},
   "outputs": [
    {
     "ename": "TypeError",
     "evalue": "scatter() missing 2 required positional arguments: 'x' and 'y'",
     "output_type": "error",
     "traceback": [
      "\u001b[0;31m---------------------------------------------------------------------------\u001b[0m",
      "\u001b[0;31mTypeError\u001b[0m                                 Traceback (most recent call last)",
      "\u001b[0;32m<ipython-input-25-6982a26c1d2c>\u001b[0m in \u001b[0;36m<module>\u001b[0;34m\u001b[0m\n\u001b[0;32m----> 1\u001b[0;31m \u001b[0mddg\u001b[0m\u001b[0;34m.\u001b[0m\u001b[0mplot\u001b[0m\u001b[0;34m.\u001b[0m\u001b[0mscatter\u001b[0m\u001b[0;34m(\u001b[0m\u001b[0;34m)\u001b[0m\u001b[0;34m\u001b[0m\u001b[0;34m\u001b[0m\u001b[0m\n\u001b[0m",
      "\u001b[0;31mTypeError\u001b[0m: scatter() missing 2 required positional arguments: 'x' and 'y'"
     ]
    }
   ],
   "source": [
    "ddg.plot.scatter()"
   ]
  },
  {
   "cell_type": "code",
   "execution_count": 28,
   "metadata": {},
   "outputs": [
    {
     "data": {
      "text/plain": [
       "<matplotlib.axes._subplots.AxesSubplot at 0x7f69d34dc610>"
      ]
     },
     "execution_count": 28,
     "metadata": {},
     "output_type": "execute_result"
    },
    {
     "data": {
      "image/png": "[encoded data removed]",
      "text/plain": [
       "<Figure size 864x648 with 2 Axes>"
      ]
     },
     "metadata": {
      "needs_background": "light"
     },
     "output_type": "display_data"
    }
   ],
   "source": [
    "import matplotlib.pyplot as plt\n",
    "\n",
    "corrmat = ddg.corr()\n",
    "f, ax = plt.subplots(figsize=(12, 9))\n",
    "sns.heatmap(corrmat, vmax=.8, square=True)"
   ]
  },
  {
   "cell_type": "code",
   "execution_count": 29,
   "metadata": {},
   "outputs": [
    {
     "name": "stdout",
     "output_type": "stream",
     "text": [
      "DEBUG:matplotlib.font_manager:findfont: Matching :family=sans-serif:style=normal:variant=normal:weight=normal:stretch=normal:size=13.75 to DejaVu Sans ('/opt/conda/lib/python3.7/site-packages/matplotlib/mpl-data/fonts/ttf/DejaVuSans.ttf') with score of 2.050000\n",
      "DEBUG:matplotlib.font_manager:findfont: Matching :family=sans-serif:style=normal:variant=normal:weight=normal:stretch=normal:size=10.0 to DejaVu Sans ('/opt/conda/lib/python3.7/site-packages/matplotlib/mpl-data/fonts/ttf/DejaVuSans.ttf') with score of 2.050000\n"
     ]
    },
    {
     "data": {
      "image/png": "[encoded data removed]",
      "text/plain": [
       "<Figure size 432x288 with 2 Axes>"
      ]
     },
     "metadata": {},
     "output_type": "display_data"
    }
   ],
   "source": [
    "\n",
    "\n",
    "k = 6 #number of variables for heatmap\n",
    "cols = corrmat.nlargest(k, 'opportunity')['opportunity'].index\n",
    "cm = np.corrcoef(ddg[cols].values.T)\n",
    "sns.set(font_scale=1.25)\n",
    "hm = sns.heatmap(cm, cbar=True, annot=True, square=True, fmt='.2f', annot_kws={'size': 10}, yticklabels=cols.values, xticklabels=cols.values)\n",
    "plt.show()"
   ]
  },
  {
   "cell_type": "code",
   "execution_count": 30,
   "metadata": {},
   "outputs": [
    {
     "data": {
      "text/plain": [
       "Index(['email_click', 'event_attendee', 'opportunity', 'sales_activity',\n",
       "       'web_file_download', 'web_tool'],\n",
       "      dtype='object', name='type')"
      ]
     },
     "execution_count": 30,
     "metadata": {},
     "output_type": "execute_result"
    }
   ],
   "source": [
    "ddg.columns"
   ]
  },
  {
   "cell_type": "code",
   "execution_count": 31,
   "metadata": {},
   "outputs": [
    {
     "name": "stderr",
     "output_type": "stream",
     "text": [
      "/opt/conda/lib/python3.7/site-packages/seaborn/axisgrid.py:2079: UserWarning: The `size` parameter has been renamed to `height`; please update your code.\n",
      "  warnings.warn(msg, UserWarning)\n"
     ]
    },
    {
     "name": "stdout",
     "output_type": "stream",
     "text": [
      "DEBUG:matplotlib.font_manager:findfont: Matching :family=sans-serif:style=normal:variant=normal:weight=normal:stretch=normal:size=11.0 to DejaVu Sans ('/opt/conda/lib/python3.7/site-packages/matplotlib/mpl-data/fonts/ttf/DejaVuSans.ttf') with score of 2.050000\n",
      "DEBUG:matplotlib.font_manager:findfont: Matching :family=sans-serif:style=normal:variant=normal:weight=normal:stretch=normal:size=12.0 to DejaVu Sans ('/opt/conda/lib/python3.7/site-packages/matplotlib/mpl-data/fonts/ttf/DejaVuSans.ttf') with score of 2.050000\n"
     ]
    },
    {
     "data": {
      "image/png": "[encoded data removed]",
      "text/plain": [
       "<Figure size 1080x1080 with 42 Axes>"
      ]
     },
     "metadata": {},
     "output_type": "display_data"
    }
   ],
   "source": [
    "sns.set()\n",
    "sns.pairplot(ddg, size = 2.5)\n",
    "plt.show();"
   ]
  },
  {
   "cell_type": "code",
   "execution_count": null,
   "metadata": {},
   "outputs": [],
   "source": [
    "### step metrix "
   ]
  },
  {
   "cell_type": "code",
   "execution_count": 32,
   "metadata": {},
   "outputs": [
    {
     "data": {
      "text/plain": [
       "0            0\n",
       "1            1\n",
       "2            2\n",
       "3            3\n",
       "4            4\n",
       "          ... \n",
       "1447026      6\n",
       "1447027     39\n",
       "1447028    217\n",
       "1447029      5\n",
       "1447030      6\n",
       "Length: 1447031, dtype: int64"
      ]
     },
     "execution_count": 32,
     "metadata": {},
     "output_type": "execute_result"
    }
   ],
   "source": [
    "dd.groupby(['contactid']).cumcount() "
   ]
  },
  {
   "cell_type": "code",
   "execution_count": 6,
   "metadata": {},
   "outputs": [
    {
     "data": {
      "text/html": [
       "<div>\n",
       "<style scoped>\n",
       "    .dataframe tbody tr th:only-of-type {\n",
       "        vertical-align: middle;\n",
       "    }\n",
       "\n",
       "    .dataframe tbody tr th {\n",
       "        vertical-align: top;\n",
       "    }\n",
       "\n",
       "    .dataframe thead th {\n",
       "        text-align: right;\n",
       "    }\n",
       "</style>\n",
       "<table border=\"1\" class=\"dataframe\">\n",
       "  <thead>\n",
       "    <tr style=\"text-align: right;\">\n",
       "      <th></th>\n",
       "      <th>contactid</th>\n",
       "      <th>Date</th>\n",
       "      <th>Job_number</th>\n",
       "      <th>type</th>\n",
       "    </tr>\n",
       "  </thead>\n",
       "  <tbody>\n",
       "    <tr>\n",
       "      <th>1137911</th>\n",
       "      <td>fffff06a-0f42-ea11-a812-000d3a1ab88b</td>\n",
       "      <td>2020-02-03 16:38:45</td>\n",
       "      <td>portfolio analytics</td>\n",
       "      <td>web_tool</td>\n",
       "    </tr>\n",
       "    <tr>\n",
       "      <th>1354997</th>\n",
       "      <td>fffff06a-0f42-ea11-a812-000d3a1ab88b</td>\n",
       "      <td>2020-02-03 16:39:25</td>\n",
       "      <td>pdf:morningstar_report:cs,pi:sr,bi,px,id</td>\n",
       "      <td>web_file_download</td>\n",
       "    </tr>\n",
       "    <tr>\n",
       "      <th>1135586</th>\n",
       "      <td>fffff06a-0f42-ea11-a812-000d3a1ab88b</td>\n",
       "      <td>2020-02-13 12:51:15</td>\n",
       "      <td>portfolio analytics</td>\n",
       "      <td>web_tool</td>\n",
       "    </tr>\n",
       "    <tr>\n",
       "      <th>1133882</th>\n",
       "      <td>fffff06a-0f42-ea11-a812-000d3a1ab88b</td>\n",
       "      <td>2020-02-21 13:54:36</td>\n",
       "      <td>portfolio analytics</td>\n",
       "      <td>web_tool</td>\n",
       "    </tr>\n",
       "    <tr>\n",
       "      <th>1133860</th>\n",
       "      <td>fffff06a-0f42-ea11-a812-000d3a1ab88b</td>\n",
       "      <td>2020-02-21 14:55:05</td>\n",
       "      <td>portfolio analytics</td>\n",
       "      <td>web_tool</td>\n",
       "    </tr>\n",
       "  </tbody>\n",
       "</table>\n",
       "</div>"
      ],
      "text/plain": [
       "                                    contactid                 Date  \\\n",
       "1137911  fffff06a-0f42-ea11-a812-000d3a1ab88b  2020-02-03 16:38:45   \n",
       "1354997  fffff06a-0f42-ea11-a812-000d3a1ab88b  2020-02-03 16:39:25   \n",
       "1135586  fffff06a-0f42-ea11-a812-000d3a1ab88b  2020-02-13 12:51:15   \n",
       "1133882  fffff06a-0f42-ea11-a812-000d3a1ab88b  2020-02-21 13:54:36   \n",
       "1133860  fffff06a-0f42-ea11-a812-000d3a1ab88b  2020-02-21 14:55:05   \n",
       "\n",
       "                                       Job_number               type  \n",
       "1137911                       portfolio analytics           web_tool  \n",
       "1354997  pdf:morningstar_report:cs,pi:sr,bi,px,id  web_file_download  \n",
       "1135586                       portfolio analytics           web_tool  \n",
       "1133882                       portfolio analytics           web_tool  \n",
       "1133860                       portfolio analytics           web_tool  "
      ]
     },
     "execution_count": 6,
     "metadata": {},
     "output_type": "execute_result"
    }
   ],
   "source": [
    "dds = dd.sort_values(['contactid', 'Date'],\n",
    "                    ascending=[False, True])\n",
    "\n",
    "dds.head(5)"
   ]
  },
  {
   "cell_type": "code",
   "execution_count": 7,
   "metadata": {},
   "outputs": [
    {
     "data": {
      "text/plain": [
       "<bound method NDFrame.last of                                     contactid                 Date  \\\n",
       "1137911  fffff06a-0f42-ea11-a812-000d3a1ab88b  2020-02-03 16:38:45   \n",
       "1354997  fffff06a-0f42-ea11-a812-000d3a1ab88b  2020-02-03 16:39:25   \n",
       "1135586  fffff06a-0f42-ea11-a812-000d3a1ab88b  2020-02-13 12:51:15   \n",
       "1133882  fffff06a-0f42-ea11-a812-000d3a1ab88b  2020-02-21 13:54:36   \n",
       "1133860  fffff06a-0f42-ea11-a812-000d3a1ab88b  2020-02-21 14:55:05   \n",
       "1133815  fffff06a-0f42-ea11-a812-000d3a1ab88b  2020-02-21 17:56:24   \n",
       "1349079  fffff06a-0f42-ea11-a812-000d3a1ab88b  2020-02-21 18:10:57   \n",
       "1131616  fffff06a-0f42-ea11-a812-000d3a1ab88b  2020-03-04 14:58:14   \n",
       "1345662  fffff06a-0f42-ea11-a812-000d3a1ab88b  2020-03-04 15:00:33   \n",
       "1124134  fffff06a-0f42-ea11-a812-000d3a1ab88b  2020-04-08 15:04:49   \n",
       "1334071  fffff06a-0f42-ea11-a812-000d3a1ab88b  2020-04-08 16:21:03   \n",
       "1124068  fffff06a-0f42-ea11-a812-000d3a1ab88b  2020-04-08 17:45:24   \n",
       "1120059  fffff06a-0f42-ea11-a812-000d3a1ab88b  2020-04-27 17:44:00   \n",
       "1112481  fffff06a-0f42-ea11-a812-000d3a1ab88b  2020-05-15 18:18:52   \n",
       "1112482  fffff06a-0f42-ea11-a812-000d3a1ab88b  2020-05-15 18:18:52   \n",
       "1322738  fffff06a-0f42-ea11-a812-000d3a1ab88b  2020-05-15 18:23:03   \n",
       "1322736  fffff06a-0f42-ea11-a812-000d3a1ab88b  2020-05-15 18:29:30   \n",
       "1111610  fffff06a-0f42-ea11-a812-000d3a1ab88b  2020-05-18 18:43:39   \n",
       "1111611  fffff06a-0f42-ea11-a812-000d3a1ab88b  2020-05-18 18:43:39   \n",
       "1106845  fffff06a-0f42-ea11-a812-000d3a1ab88b  2020-06-08 17:20:55   \n",
       "1318091  fffff06a-0f42-ea11-a812-000d3a1ab88b  2020-06-08 17:40:22   \n",
       "1101985  fffff06a-0f42-ea11-a812-000d3a1ab88b  2020-07-01 18:01:01   \n",
       "1101986  fffff06a-0f42-ea11-a812-000d3a1ab88b  2020-07-01 18:01:01   \n",
       "1101289  fffff06a-0f42-ea11-a812-000d3a1ab88b  2020-07-05 14:09:15   \n",
       "1101290  fffff06a-0f42-ea11-a812-000d3a1ab88b  2020-07-05 14:09:15   \n",
       "1311609  fffff06a-0f42-ea11-a812-000d3a1ab88b  2020-07-05 15:00:17   \n",
       "1100899  fffff06a-0f42-ea11-a812-000d3a1ab88b  2020-07-06 17:19:04   \n",
       "1100900  fffff06a-0f42-ea11-a812-000d3a1ab88b  2020-07-06 17:19:04   \n",
       "1311251  fffff06a-0f42-ea11-a812-000d3a1ab88b  2020-07-06 17:41:59   \n",
       "1099921  fffff06a-0f42-ea11-a812-000d3a1ab88b  2020-07-08 17:47:34   \n",
       "...                                       ...                  ...   \n",
       "713742   0003edc0-14b3-e811-a965-000d3a1c5f15  2020-04-21 06:00:00   \n",
       "738620   0003edc0-14b3-e811-a965-000d3a1c5f15  2020-06-08 06:00:00   \n",
       "787902   0003e4dd-508a-e911-a97b-000d3a1c5ec5  2020-09-22 16:00:00   \n",
       "790130   0003e4dd-508a-e911-a97b-000d3a1c5ec5  2020-09-25 19:00:00   \n",
       "838088   0003e4dd-508a-e911-a97b-000d3a1c5ec5  2021-01-27 17:30:00   \n",
       "839452   0003e4dd-508a-e911-a97b-000d3a1c5ec5  2021-01-29 23:38:24   \n",
       "845427   0003e4dd-508a-e911-a97b-000d3a1c5ec5  2021-02-10 17:30:00   \n",
       "851944   0003e4dd-508a-e911-a97b-000d3a1c5ec5  2021-02-24 16:30:00   \n",
       "858794   0003e4dd-508a-e911-a97b-000d3a1c5ec5  2021-03-10 17:00:00   \n",
       "990203   0003e4dd-508a-e911-a97b-000d3a1c5ec5  2021-09-15 07:00:00   \n",
       "562362   0003c255-ddb2-e811-a969-000d3a1c5ec5  2019-03-01 01:17:32   \n",
       "564426   0003c255-ddb2-e811-a969-000d3a1c5ec5  2019-03-07 00:57:49   \n",
       "989586   0003c255-ddb2-e811-a969-000d3a1c5ec5  2021-09-15 04:00:00   \n",
       "1198043  00026a35-e9b2-e811-a969-000d3a1c5716  2019-03-14 14:08:08   \n",
       "1198041  00026a35-e9b2-e811-a969-000d3a1c5716  2019-03-14 14:08:59   \n",
       "1198039  00026a35-e9b2-e811-a969-000d3a1c5716  2019-03-14 14:10:25   \n",
       "1400140  00026a35-e9b2-e811-a969-000d3a1c5716  2019-08-01 14:14:13   \n",
       "1400139  00026a35-e9b2-e811-a969-000d3a1c5716  2019-08-01 14:14:16   \n",
       "382909   00026a35-e9b2-e811-a969-000d3a1c5716  2020-03-17 09:45:02   \n",
       "132750   00026a35-e9b2-e811-a969-000d3a1c5716  2021-04-28 12:03:41   \n",
       "132740   00026a35-e9b2-e811-a969-000d3a1c5716  2021-04-28 12:04:49   \n",
       "981577   0001f60e-c2b2-e811-a96c-000d3a1c5cc0  2021-09-08 19:41:38   \n",
       "994839   0001f60e-c2b2-e811-a96c-000d3a1c5cc0  2021-09-16 17:58:44   \n",
       "1005422  0001f60e-c2b2-e811-a96c-000d3a1c5cc0  2021-09-23 15:22:12   \n",
       "847265   0000f4da-e16b-eb11-a812-000d3a9e0f51  2021-02-16 07:00:00   \n",
       "865221   0000f4da-e16b-eb11-a812-000d3a9e0f51  2021-03-24 06:00:00   \n",
       "931571   0000f4da-e16b-eb11-a812-000d3a9e0f51  2021-08-03 07:00:00   \n",
       "963708   0000f4da-e16b-eb11-a812-000d3a9e0f51  2021-08-27 07:00:00   \n",
       "990247   0000f4da-e16b-eb11-a812-000d3a9e0f51  2021-09-15 07:00:00   \n",
       "994144   0000f4da-e16b-eb11-a812-000d3a9e0f51  2021-09-16 07:00:00   \n",
       "\n",
       "                                                Job_number               type  \\\n",
       "1137911                                portfolio analytics           web_tool   \n",
       "1354997           pdf:morningstar_report:cs,pi:sr,bi,px,id  web_file_download   \n",
       "1135586                                portfolio analytics           web_tool   \n",
       "1133882                                portfolio analytics           web_tool   \n",
       "1133860                                portfolio analytics           web_tool   \n",
       "1133815                                portfolio analytics           web_tool   \n",
       "1349079              pdf:morningstar_report:cs,pi:sr,bi,px  web_file_download   \n",
       "1131616                                portfolio analytics           web_tool   \n",
       "1345662  pdf:morningstar_report:cs,pi:sr,bi,px,si,cm,rr...  web_file_download   \n",
       "1124134                                portfolio analytics           web_tool   \n",
       "1334071  pdf:morningstar_report:cs,pi:sr,bi,ps,px,si,cm...  web_file_download   \n",
       "1124068                                portfolio analytics           web_tool   \n",
       "1120059                                portfolio analytics           web_tool   \n",
       "1112481                                portfolio analytics           web_tool   \n",
       "1112482                                portfolio analytics           web_tool   \n",
       "1322738        pdf:morningstar_report:cs,aa,pi:sr,bi,ps,px  web_file_download   \n",
       "1322736        pdf:morningstar_report:cs,aa,pi:sr,bi,ps,px  web_file_download   \n",
       "1111610                                portfolio analytics           web_tool   \n",
       "1111611                                portfolio analytics           web_tool   \n",
       "1106845                                portfolio analytics           web_tool   \n",
       "1318091        pdf:morningstar_report:cs,pi:sr,bi,ps,px,pd  web_file_download   \n",
       "1101985                                portfolio analytics           web_tool   \n",
       "1101986                                portfolio analytics           web_tool   \n",
       "1101289                                portfolio analytics           web_tool   \n",
       "1101290                                portfolio analytics           web_tool   \n",
       "1311609  pdf:morningstar_report:cs,ab,pi:sr,bi,ps,px,si...  web_file_download   \n",
       "1100899                                portfolio analytics           web_tool   \n",
       "1100900                                portfolio analytics           web_tool   \n",
       "1311251  pdf:morningstar_report:cs,pi:sr,bi,ps,px,si,cm...  web_file_download   \n",
       "1099921                                portfolio analytics           web_tool   \n",
       "...                                                    ...                ...   \n",
       "713742                fa70be73-0e84-ea11-a812-000d3a1ab78a     sales_activity   \n",
       "738620                c2a7be58-b5a9-ea11-a812-000d3a1ab3c7     sales_activity   \n",
       "787902                0d7f5d48-f4fc-ea11-a815-000d3a1b9df5     sales_activity   \n",
       "790130                1566237b-f4fc-ea11-a815-000d3a1ab78a     sales_activity   \n",
       "838088                95dee21c-e260-eb11-a812-000d3a8e971f     sales_activity   \n",
       "839452                c5a51caf-8a62-eb11-a812-000d3a8e9e76     sales_activity   \n",
       "845427                886d7aa9-f96b-eb11-a813-000d3a9e0ac2     sales_activity   \n",
       "851944                f4941c36-f376-eb11-a812-002248204424     sales_activity   \n",
       "858794                ba1938e5-cd81-eb11-a812-0022481f4004     sales_activity   \n",
       "990203                1de9fdd1-5d16-ec11-b6e6-000d3a1c26b2     sales_activity   \n",
       "562362                d8c8fd60-df3b-e911-a970-000d3a1c53e4     sales_activity   \n",
       "564426                d72414bc-7540-e911-a972-000d3a1c5f15     sales_activity   \n",
       "989586                a5f0cbbb-3216-ec11-b6e6-000d3a1cc499     sales_activity   \n",
       "1198043                              Create Custom Reports           web_tool   \n",
       "1198041                                    Screen Products           web_tool   \n",
       "1198039                                   Compare Products           web_tool   \n",
       "1400140                                             FS928R  web_file_download   \n",
       "1400139                                              sp928  web_file_download   \n",
       "382909                                             1329192        email_click   \n",
       "132750                                             1710594        email_click   \n",
       "132740                                             1710594        email_click   \n",
       "981577                a11bb4c2-dc10-ec11-b6e5-000d3a171ee4     sales_activity   \n",
       "994839                d5f177b5-1717-ec11-b6e5-000d3a1a2f44     sales_activity   \n",
       "1005422               e69952fe-811c-ec11-b6e5-000d3a9a0404     sales_activity   \n",
       "847265                8063e9d5-8970-eb11-a812-0022481f78d8     sales_activity   \n",
       "865221                da55fbe0-bb8c-eb11-a812-002248220e59     sales_activity   \n",
       "931571                1cc6180f-cafb-eb11-94ee-002248259532     sales_activity   \n",
       "963708                4b37c408-8b07-ec11-94ee-002248241dee     sales_activity   \n",
       "990247                6c1a252d-691a-ec11-b6e5-000d3a9a0a73     sales_activity   \n",
       "994144                b490a51d-6a1a-ec11-b6e5-000d3a9a0a73     sales_activity   \n",
       "\n",
       "         visit_order  \n",
       "1137911            1  \n",
       "1354997            2  \n",
       "1135586            3  \n",
       "1133882            4  \n",
       "1133860            5  \n",
       "1133815            6  \n",
       "1349079            7  \n",
       "1131616            8  \n",
       "1345662            9  \n",
       "1124134           10  \n",
       "1334071           11  \n",
       "1124068           12  \n",
       "1120059           13  \n",
       "1112481           14  \n",
       "1112482           15  \n",
       "1322738           16  \n",
       "1322736           17  \n",
       "1111610           18  \n",
       "1111611           19  \n",
       "1106845           20  \n",
       "1318091           21  \n",
       "1101985           22  \n",
       "1101986           23  \n",
       "1101289           24  \n",
       "1101290           25  \n",
       "1311609           26  \n",
       "1100899           27  \n",
       "1100900           28  \n",
       "1311251           29  \n",
       "1099921           30  \n",
       "...              ...  \n",
       "713742             1  \n",
       "738620             2  \n",
       "787902             1  \n",
       "790130             2  \n",
       "838088             3  \n",
       "839452             4  \n",
       "845427             5  \n",
       "851944             6  \n",
       "858794             7  \n",
       "990203             8  \n",
       "562362             1  \n",
       "564426             2  \n",
       "989586             3  \n",
       "1198043            1  \n",
       "1198041            2  \n",
       "1198039            3  \n",
       "1400140            4  \n",
       "1400139            5  \n",
       "382909             6  \n",
       "132750             7  \n",
       "132740             8  \n",
       "981577             1  \n",
       "994839             2  \n",
       "1005422            3  \n",
       "847265             1  \n",
       "865221             2  \n",
       "931571             3  \n",
       "963708             4  \n",
       "990247             5  \n",
       "994144             6  \n",
       "\n",
       "[1447031 rows x 5 columns]>"
      ]
     },
     "execution_count": 7,
     "metadata": {},
     "output_type": "execute_result"
    }
   ],
   "source": [
    "dds['visit_order'] = dds.groupby('contactid').cumcount() + 1\n",
    "dds.last"
   ]
  },
  {
   "cell_type": "code",
   "execution_count": 8,
   "metadata": {},
   "outputs": [
    {
     "data": {
      "text/plain": [
       "<bound method NDFrame.last of                                     contactid                 Date  \\\n",
       "0        fffff06a-0f42-ea11-a812-000d3a1ab88b  2020-02-03 16:38:45   \n",
       "1        fffff06a-0f42-ea11-a812-000d3a1ab88b  2020-02-03 16:39:25   \n",
       "2        fffff06a-0f42-ea11-a812-000d3a1ab88b  2020-02-13 12:51:15   \n",
       "3        fffff06a-0f42-ea11-a812-000d3a1ab88b  2020-02-21 13:54:36   \n",
       "4        fffff06a-0f42-ea11-a812-000d3a1ab88b  2020-02-21 14:55:05   \n",
       "5        fffff06a-0f42-ea11-a812-000d3a1ab88b  2020-02-21 17:56:24   \n",
       "6        fffff06a-0f42-ea11-a812-000d3a1ab88b  2020-02-21 18:10:57   \n",
       "7        fffff06a-0f42-ea11-a812-000d3a1ab88b  2020-03-04 14:58:14   \n",
       "8        fffff06a-0f42-ea11-a812-000d3a1ab88b  2020-03-04 15:00:33   \n",
       "9        fffff06a-0f42-ea11-a812-000d3a1ab88b  2020-04-08 15:04:49   \n",
       "10       fffff06a-0f42-ea11-a812-000d3a1ab88b  2020-04-08 16:21:03   \n",
       "11       fffff06a-0f42-ea11-a812-000d3a1ab88b  2020-04-08 17:45:24   \n",
       "12       fffff06a-0f42-ea11-a812-000d3a1ab88b  2020-04-27 17:44:00   \n",
       "13       fffff06a-0f42-ea11-a812-000d3a1ab88b  2020-05-15 18:18:52   \n",
       "14       fffff06a-0f42-ea11-a812-000d3a1ab88b  2020-05-15 18:18:52   \n",
       "15       fffff06a-0f42-ea11-a812-000d3a1ab88b  2020-05-15 18:23:03   \n",
       "16       fffff06a-0f42-ea11-a812-000d3a1ab88b  2020-05-15 18:29:30   \n",
       "17       fffff06a-0f42-ea11-a812-000d3a1ab88b  2020-05-18 18:43:39   \n",
       "18       fffff06a-0f42-ea11-a812-000d3a1ab88b  2020-05-18 18:43:39   \n",
       "19       fffff06a-0f42-ea11-a812-000d3a1ab88b  2020-06-08 17:20:55   \n",
       "20       fffff06a-0f42-ea11-a812-000d3a1ab88b  2020-06-08 17:40:22   \n",
       "21       fffff06a-0f42-ea11-a812-000d3a1ab88b  2020-07-01 18:01:01   \n",
       "22       fffff06a-0f42-ea11-a812-000d3a1ab88b  2020-07-01 18:01:01   \n",
       "23       fffff06a-0f42-ea11-a812-000d3a1ab88b  2020-07-05 14:09:15   \n",
       "24       fffff06a-0f42-ea11-a812-000d3a1ab88b  2020-07-05 14:09:15   \n",
       "25       fffff06a-0f42-ea11-a812-000d3a1ab88b  2020-07-05 15:00:17   \n",
       "26       fffff06a-0f42-ea11-a812-000d3a1ab88b  2020-07-06 17:19:04   \n",
       "27       fffff06a-0f42-ea11-a812-000d3a1ab88b  2020-07-06 17:19:04   \n",
       "28       fffff06a-0f42-ea11-a812-000d3a1ab88b  2020-07-06 17:41:59   \n",
       "29       fffff06a-0f42-ea11-a812-000d3a1ab88b  2020-07-08 17:47:34   \n",
       "...                                       ...                  ...   \n",
       "1447001  0003edc0-14b3-e811-a965-000d3a1c5f15  2020-04-21 06:00:00   \n",
       "1447002  0003edc0-14b3-e811-a965-000d3a1c5f15  2020-06-08 06:00:00   \n",
       "1447003  0003e4dd-508a-e911-a97b-000d3a1c5ec5  2020-09-22 16:00:00   \n",
       "1447004  0003e4dd-508a-e911-a97b-000d3a1c5ec5  2020-09-25 19:00:00   \n",
       "1447005  0003e4dd-508a-e911-a97b-000d3a1c5ec5  2021-01-27 17:30:00   \n",
       "1447006  0003e4dd-508a-e911-a97b-000d3a1c5ec5  2021-01-29 23:38:24   \n",
       "1447007  0003e4dd-508a-e911-a97b-000d3a1c5ec5  2021-02-10 17:30:00   \n",
       "1447008  0003e4dd-508a-e911-a97b-000d3a1c5ec5  2021-02-24 16:30:00   \n",
       "1447009  0003e4dd-508a-e911-a97b-000d3a1c5ec5  2021-03-10 17:00:00   \n",
       "1447010  0003e4dd-508a-e911-a97b-000d3a1c5ec5  2021-09-15 07:00:00   \n",
       "1447011  0003c255-ddb2-e811-a969-000d3a1c5ec5  2019-03-01 01:17:32   \n",
       "1447012  0003c255-ddb2-e811-a969-000d3a1c5ec5  2019-03-07 00:57:49   \n",
       "1447013  0003c255-ddb2-e811-a969-000d3a1c5ec5  2021-09-15 04:00:00   \n",
       "1447014  00026a35-e9b2-e811-a969-000d3a1c5716  2019-03-14 14:08:08   \n",
       "1447015  00026a35-e9b2-e811-a969-000d3a1c5716  2019-03-14 14:08:59   \n",
       "1447016  00026a35-e9b2-e811-a969-000d3a1c5716  2019-03-14 14:10:25   \n",
       "1447017  00026a35-e9b2-e811-a969-000d3a1c5716  2019-08-01 14:14:13   \n",
       "1447018  00026a35-e9b2-e811-a969-000d3a1c5716  2019-08-01 14:14:16   \n",
       "1447019  00026a35-e9b2-e811-a969-000d3a1c5716  2020-03-17 09:45:02   \n",
       "1447020  00026a35-e9b2-e811-a969-000d3a1c5716  2021-04-28 12:03:41   \n",
       "1447021  00026a35-e9b2-e811-a969-000d3a1c5716  2021-04-28 12:04:49   \n",
       "1447022  0001f60e-c2b2-e811-a96c-000d3a1c5cc0  2021-09-08 19:41:38   \n",
       "1447023  0001f60e-c2b2-e811-a96c-000d3a1c5cc0  2021-09-16 17:58:44   \n",
       "1447024  0001f60e-c2b2-e811-a96c-000d3a1c5cc0  2021-09-23 15:22:12   \n",
       "1447025  0000f4da-e16b-eb11-a812-000d3a9e0f51  2021-02-16 07:00:00   \n",
       "1447026  0000f4da-e16b-eb11-a812-000d3a9e0f51  2021-03-24 06:00:00   \n",
       "1447027  0000f4da-e16b-eb11-a812-000d3a9e0f51  2021-08-03 07:00:00   \n",
       "1447028  0000f4da-e16b-eb11-a812-000d3a9e0f51  2021-08-27 07:00:00   \n",
       "1447029  0000f4da-e16b-eb11-a812-000d3a9e0f51  2021-09-15 07:00:00   \n",
       "1447030  0000f4da-e16b-eb11-a812-000d3a9e0f51  2021-09-16 07:00:00   \n",
       "\n",
       "                                                Job_number               type  \\\n",
       "0                                      portfolio analytics           web_tool   \n",
       "1                 pdf:morningstar_report:cs,pi:sr,bi,px,id  web_file_download   \n",
       "2                                      portfolio analytics           web_tool   \n",
       "3                                      portfolio analytics           web_tool   \n",
       "4                                      portfolio analytics           web_tool   \n",
       "5                                      portfolio analytics           web_tool   \n",
       "6                    pdf:morningstar_report:cs,pi:sr,bi,px  web_file_download   \n",
       "7                                      portfolio analytics           web_tool   \n",
       "8        pdf:morningstar_report:cs,pi:sr,bi,px,si,cm,rr...  web_file_download   \n",
       "9                                      portfolio analytics           web_tool   \n",
       "10       pdf:morningstar_report:cs,pi:sr,bi,ps,px,si,cm...  web_file_download   \n",
       "11                                     portfolio analytics           web_tool   \n",
       "12                                     portfolio analytics           web_tool   \n",
       "13                                     portfolio analytics           web_tool   \n",
       "14                                     portfolio analytics           web_tool   \n",
       "15             pdf:morningstar_report:cs,aa,pi:sr,bi,ps,px  web_file_download   \n",
       "16             pdf:morningstar_report:cs,aa,pi:sr,bi,ps,px  web_file_download   \n",
       "17                                     portfolio analytics           web_tool   \n",
       "18                                     portfolio analytics           web_tool   \n",
       "19                                     portfolio analytics           web_tool   \n",
       "20             pdf:morningstar_report:cs,pi:sr,bi,ps,px,pd  web_file_download   \n",
       "21                                     portfolio analytics           web_tool   \n",
       "22                                     portfolio analytics           web_tool   \n",
       "23                                     portfolio analytics           web_tool   \n",
       "24                                     portfolio analytics           web_tool   \n",
       "25       pdf:morningstar_report:cs,ab,pi:sr,bi,ps,px,si...  web_file_download   \n",
       "26                                     portfolio analytics           web_tool   \n",
       "27                                     portfolio analytics           web_tool   \n",
       "28       pdf:morningstar_report:cs,pi:sr,bi,ps,px,si,cm...  web_file_download   \n",
       "29                                     portfolio analytics           web_tool   \n",
       "...                                                    ...                ...   \n",
       "1447001               fa70be73-0e84-ea11-a812-000d3a1ab78a     sales_activity   \n",
       "1447002               c2a7be58-b5a9-ea11-a812-000d3a1ab3c7     sales_activity   \n",
       "1447003               0d7f5d48-f4fc-ea11-a815-000d3a1b9df5     sales_activity   \n",
       "1447004               1566237b-f4fc-ea11-a815-000d3a1ab78a     sales_activity   \n",
       "1447005               95dee21c-e260-eb11-a812-000d3a8e971f     sales_activity   \n",
       "1447006               c5a51caf-8a62-eb11-a812-000d3a8e9e76     sales_activity   \n",
       "1447007               886d7aa9-f96b-eb11-a813-000d3a9e0ac2     sales_activity   \n",
       "1447008               f4941c36-f376-eb11-a812-002248204424     sales_activity   \n",
       "1447009               ba1938e5-cd81-eb11-a812-0022481f4004     sales_activity   \n",
       "1447010               1de9fdd1-5d16-ec11-b6e6-000d3a1c26b2     sales_activity   \n",
       "1447011               d8c8fd60-df3b-e911-a970-000d3a1c53e4     sales_activity   \n",
       "1447012               d72414bc-7540-e911-a972-000d3a1c5f15     sales_activity   \n",
       "1447013               a5f0cbbb-3216-ec11-b6e6-000d3a1cc499     sales_activity   \n",
       "1447014                              Create Custom Reports           web_tool   \n",
       "1447015                                    Screen Products           web_tool   \n",
       "1447016                                   Compare Products           web_tool   \n",
       "1447017                                             FS928R  web_file_download   \n",
       "1447018                                              sp928  web_file_download   \n",
       "1447019                                            1329192        email_click   \n",
       "1447020                                            1710594        email_click   \n",
       "1447021                                            1710594        email_click   \n",
       "1447022               a11bb4c2-dc10-ec11-b6e5-000d3a171ee4     sales_activity   \n",
       "1447023               d5f177b5-1717-ec11-b6e5-000d3a1a2f44     sales_activity   \n",
       "1447024               e69952fe-811c-ec11-b6e5-000d3a9a0404     sales_activity   \n",
       "1447025               8063e9d5-8970-eb11-a812-0022481f78d8     sales_activity   \n",
       "1447026               da55fbe0-bb8c-eb11-a812-002248220e59     sales_activity   \n",
       "1447027               1cc6180f-cafb-eb11-94ee-002248259532     sales_activity   \n",
       "1447028               4b37c408-8b07-ec11-94ee-002248241dee     sales_activity   \n",
       "1447029               6c1a252d-691a-ec11-b6e5-000d3a9a0a73     sales_activity   \n",
       "1447030               b490a51d-6a1a-ec11-b6e5-000d3a9a0a73     sales_activity   \n",
       "\n",
       "         visit_order  \n",
       "0                  1  \n",
       "1                  2  \n",
       "2                  3  \n",
       "3                  4  \n",
       "4                  5  \n",
       "5                  6  \n",
       "6                  7  \n",
       "7                  8  \n",
       "8                  9  \n",
       "9                 10  \n",
       "10                11  \n",
       "11                12  \n",
       "12                13  \n",
       "13                14  \n",
       "14                15  \n",
       "15                16  \n",
       "16                17  \n",
       "17                18  \n",
       "18                19  \n",
       "19                20  \n",
       "20                21  \n",
       "21                22  \n",
       "22                23  \n",
       "23                24  \n",
       "24                25  \n",
       "25                26  \n",
       "26                27  \n",
       "27                28  \n",
       "28                29  \n",
       "29                30  \n",
       "...              ...  \n",
       "1447001            1  \n",
       "1447002            2  \n",
       "1447003            1  \n",
       "1447004            2  \n",
       "1447005            3  \n",
       "1447006            4  \n",
       "1447007            5  \n",
       "1447008            6  \n",
       "1447009            7  \n",
       "1447010            8  \n",
       "1447011            1  \n",
       "1447012            2  \n",
       "1447013            3  \n",
       "1447014            1  \n",
       "1447015            2  \n",
       "1447016            3  \n",
       "1447017            4  \n",
       "1447018            5  \n",
       "1447019            6  \n",
       "1447020            7  \n",
       "1447021            8  \n",
       "1447022            1  \n",
       "1447023            2  \n",
       "1447024            3  \n",
       "1447025            1  \n",
       "1447026            2  \n",
       "1447027            3  \n",
       "1447028            4  \n",
       "1447029            5  \n",
       "1447030            6  \n",
       "\n",
       "[1447031 rows x 5 columns]>"
      ]
     },
     "execution_count": 8,
     "metadata": {},
     "output_type": "execute_result"
    }
   ],
   "source": [
    "dds.reset_index(drop=True, inplace = True)\n",
    "dds.last"
   ]
  },
  {
   "cell_type": "code",
   "execution_count": 9,
   "metadata": {},
   "outputs": [
    {
     "data": {
      "text/plain": [
       "6577"
      ]
     },
     "execution_count": 9,
     "metadata": {},
     "output_type": "execute_result"
    }
   ],
   "source": [
    "c1 = dds['type'] =='opportunity'\n",
    "c1.sum()"
   ]
  },
  {
   "cell_type": "code",
   "execution_count": 11,
   "metadata": {},
   "outputs": [
    {
     "data": {
      "text/plain": [
       "0                   web_tool\n",
       "1          web_file_download\n",
       "2                   web_tool\n",
       "3                   web_tool\n",
       "4                   web_tool\n",
       "5                   web_tool\n",
       "6          web_file_download\n",
       "7                   web_tool\n",
       "8          web_file_download\n",
       "9                   web_tool\n",
       "10         web_file_download\n",
       "11                  web_tool\n",
       "12                  web_tool\n",
       "13                  web_tool\n",
       "14                  web_tool\n",
       "15         web_file_download\n",
       "16         web_file_download\n",
       "17                  web_tool\n",
       "18                  web_tool\n",
       "19                  web_tool\n",
       "20         web_file_download\n",
       "21                  web_tool\n",
       "22                  web_tool\n",
       "23                  web_tool\n",
       "24                  web_tool\n",
       "25         web_file_download\n",
       "26                  web_tool\n",
       "27                  web_tool\n",
       "28         web_file_download\n",
       "29                  web_tool\n",
       "                 ...        \n",
       "1447001       sales_activity\n",
       "1447002       sales_activity\n",
       "1447003       sales_activity\n",
       "1447004       sales_activity\n",
       "1447005       sales_activity\n",
       "1447006       sales_activity\n",
       "1447007       sales_activity\n",
       "1447008       sales_activity\n",
       "1447009       sales_activity\n",
       "1447010       sales_activity\n",
       "1447011       sales_activity\n",
       "1447012       sales_activity\n",
       "1447013       sales_activity\n",
       "1447014             web_tool\n",
       "1447015             web_tool\n",
       "1447016             web_tool\n",
       "1447017    web_file_download\n",
       "1447018    web_file_download\n",
       "1447019          email_click\n",
       "1447020          email_click\n",
       "1447021          email_click\n",
       "1447022       sales_activity\n",
       "1447023       sales_activity\n",
       "1447024       sales_activity\n",
       "1447025       sales_activity\n",
       "1447026       sales_activity\n",
       "1447027       sales_activity\n",
       "1447028       sales_activity\n",
       "1447029       sales_activity\n",
       "1447030       sales_activity\n",
       "Name: type, Length: 1447031, dtype: object"
      ]
     },
     "execution_count": 11,
     "metadata": {},
     "output_type": "execute_result"
    }
   ],
   "source": [
    "dds['type']"
   ]
  },
  {
   "cell_type": "code",
   "execution_count": 24,
   "metadata": {
    "scrolled": true
   },
   "outputs": [
    {
     "data": {
      "text/plain": [
       "6577"
      ]
     },
     "execution_count": 24,
     "metadata": {},
     "output_type": "execute_result"
    }
   ],
   "source": [
    "ddsk = dds.shift(periods = -1)\n",
    "c1 = ddsk['type'] =='opportunity'\n",
    "c1.sum()"
   ]
  },
  {
   "cell_type": "code",
   "execution_count": 25,
   "metadata": {},
   "outputs": [
    {
     "data": {
      "text/plain": [
       "1312027"
      ]
     },
     "execution_count": 25,
     "metadata": {},
     "output_type": "execute_result"
    }
   ],
   "source": [
    "c2 = ddsk['contactid'] == dds['contactid']\n",
    "c2.sum()"
   ]
  },
  {
   "cell_type": "code",
   "execution_count": 30,
   "metadata": {},
   "outputs": [
    {
     "data": {
      "text/plain": [
       "sales_activity       0.857305\n",
       "opportunity          0.059510\n",
       "email_click          0.050105\n",
       "web_file_download    0.014594\n",
       "web_tool             0.009891\n",
       "event_attendee       0.008594\n",
       "Name: type, dtype: float64"
      ]
     },
     "execution_count": 30,
     "metadata": {},
     "output_type": "execute_result"
    }
   ],
   "source": [
    "xy = dds[c1 & c2 ]['type'].value_counts() / dds[c1 & c2 ]['type'].value_counts().sum()\n",
    "xy"
   ]
  },
  {
   "cell_type": "code",
   "execution_count": 59,
   "metadata": {
    "scrolled": false
   },
   "outputs": [
    {
     "name": "stderr",
     "output_type": "stream",
     "text": [
      "/usr/local/anaconda/lib/python3.6/site-packages/ipykernel_launcher.py:10: UserWarning: You have used the `textcoords` kwarg, but not the `xytext` kwarg.  This can lead to surprising results.\n",
      "  # Remove the CWD from sys.path while we load stuff.\n"
     ]
    },
    {
     "data": {
      "image/png": "[encoded data removed]",
      "text/plain": [
       "<Figure size 1080x576 with 1 Axes>"
      ]
     },
     "metadata": {
      "needs_background": "light"
     },
     "output_type": "display_data"
    }
   ],
   "source": [
    "import seaborn as sns\n",
    "import matplotlib.pyplot as plt\n",
    "\n",
    "plt.figure(figsize=(15,8))\n",
    "\n",
    "ax = sns.barplot(xy.index, xy)\n",
    "for p in ax.patches:\n",
    "    ax.annotate(format(p.get_height(), '.3f'), \n",
    "                   (p.get_x() + p.get_width() / 2., p.get_height()), \n",
    "                   ha = 'center', va = 'center',  size = 10,  textcoords = 'offset points')\n",
    "\n"
   ]
  },
  {
   "cell_type": "code",
   "execution_count": 60,
   "metadata": {},
   "outputs": [
    {
     "data": {
      "text/plain": [
       "6577"
      ]
     },
     "execution_count": 60,
     "metadata": {},
     "output_type": "execute_result"
    }
   ],
   "source": [
    "ddsk = dds.shift()\n",
    "c1 = ddsk['type'] =='opportunity'\n",
    "c1.sum()"
   ]
  },
  {
   "cell_type": "code",
   "execution_count": 61,
   "metadata": {},
   "outputs": [
    {
     "data": {
      "text/plain": [
       "1312027"
      ]
     },
     "execution_count": 61,
     "metadata": {},
     "output_type": "execute_result"
    }
   ],
   "source": [
    "c2 = ddsk['contactid'] == dds['contactid']\n",
    "c2.sum()"
   ]
  },
  {
   "cell_type": "code",
   "execution_count": 63,
   "metadata": {},
   "outputs": [
    {
     "data": {
      "text/plain": [
       "5180"
      ]
     },
     "execution_count": 63,
     "metadata": {},
     "output_type": "execute_result"
    }
   ],
   "source": [
    "c4 = ddg['opportunity'] != 0 \n",
    "c4.sum()"
   ]
  },
  {
   "cell_type": "code",
   "execution_count": 64,
   "metadata": {},
   "outputs": [
    {
     "data": {
      "text/plain": [
       "5180"
      ]
     },
     "execution_count": 64,
     "metadata": {},
     "output_type": "execute_result"
    }
   ],
   "source": [
    "oyl = ddg[c4].index\n",
    "len(oyl)"
   ]
  },
  {
   "cell_type": "code",
   "execution_count": 65,
   "metadata": {},
   "outputs": [
    {
     "data": {
      "text/plain": [
       "170962"
      ]
     },
     "execution_count": 65,
     "metadata": {},
     "output_type": "execute_result"
    }
   ],
   "source": [
    "c3 = dds['contactid'].isin(oyl)\n",
    "c3.sum()"
   ]
  },
  {
   "cell_type": "code",
   "execution_count": 69,
   "metadata": {},
   "outputs": [
    {
     "data": {
      "text/plain": [
       "sales_activity       0.775458\n",
       "email_click          0.114838\n",
       "opportunity          0.062810\n",
       "web_tool             0.024645\n",
       "web_file_download    0.011980\n",
       "event_attendee       0.010269\n",
       "Name: type, dtype: float64"
      ]
     },
     "execution_count": 69,
     "metadata": {},
     "output_type": "execute_result"
    }
   ],
   "source": [
    "xyz = dds[c1 & c2 & c3]['type'].value_counts() /dds[c1 & c2 & c3]['type'].value_counts().sum()\n",
    "xyz"
   ]
  },
  {
   "cell_type": "code",
   "execution_count": 70,
   "metadata": {},
   "outputs": [
    {
     "name": "stderr",
     "output_type": "stream",
     "text": [
      "/usr/local/anaconda/lib/python3.6/site-packages/ipykernel_launcher.py:7: UserWarning: You have used the `textcoords` kwarg, but not the `xytext` kwarg.  This can lead to surprising results.\n",
      "  import sys\n"
     ]
    },
    {
     "data": {
      "image/png": "[encoded data removed]",
      "text/plain": [
       "<Figure size 1080x576 with 1 Axes>"
      ]
     },
     "metadata": {
      "needs_background": "light"
     },
     "output_type": "display_data"
    }
   ],
   "source": [
    "plt.figure(figsize=(15,8))\n",
    "\n",
    "ax = sns.barplot(xyz.index, xyz)\n",
    "for p in ax.patches:\n",
    "    ax.annotate(format(p.get_height(), '.3f'), \n",
    "                   (p.get_x() + p.get_width() / 2., p.get_height()), \n",
    "                   ha = 'center', va = 'center',  size = 10,  textcoords = 'offset points')\n"
   ]
  },
  {
   "cell_type": "code",
   "execution_count": 74,
   "metadata": {},
   "outputs": [
    {
     "name": "stdout",
     "output_type": "stream",
     "text": [
      "5180\n"
     ]
    },
    {
     "data": {
      "text/html": [
       "<div>\n",
       "<style scoped>\n",
       "    .dataframe tbody tr th:only-of-type {\n",
       "        vertical-align: middle;\n",
       "    }\n",
       "\n",
       "    .dataframe tbody tr th {\n",
       "        vertical-align: top;\n",
       "    }\n",
       "\n",
       "    .dataframe thead th {\n",
       "        text-align: right;\n",
       "    }\n",
       "</style>\n",
       "<table border=\"1\" class=\"dataframe\">\n",
       "  <thead>\n",
       "    <tr style=\"text-align: right;\">\n",
       "      <th>type</th>\n",
       "      <th>email_click</th>\n",
       "      <th>event_attendee</th>\n",
       "      <th>opportunity</th>\n",
       "      <th>sales_activity</th>\n",
       "      <th>web_file_download</th>\n",
       "      <th>web_tool</th>\n",
       "    </tr>\n",
       "  </thead>\n",
       "  <tbody>\n",
       "    <tr>\n",
       "      <th>count</th>\n",
       "      <td>5180.000000</td>\n",
       "      <td>5180.000000</td>\n",
       "      <td>5180.000000</td>\n",
       "      <td>5180.000000</td>\n",
       "      <td>5180.000000</td>\n",
       "      <td>5180.000000</td>\n",
       "    </tr>\n",
       "    <tr>\n",
       "      <th>mean</th>\n",
       "      <td>8.316023</td>\n",
       "      <td>0.849035</td>\n",
       "      <td>1.269691</td>\n",
       "      <td>13.993822</td>\n",
       "      <td>4.256178</td>\n",
       "      <td>4.319498</td>\n",
       "    </tr>\n",
       "    <tr>\n",
       "      <th>std</th>\n",
       "      <td>25.376743</td>\n",
       "      <td>3.212676</td>\n",
       "      <td>0.670488</td>\n",
       "      <td>15.065140</td>\n",
       "      <td>23.520090</td>\n",
       "      <td>38.353269</td>\n",
       "    </tr>\n",
       "    <tr>\n",
       "      <th>min</th>\n",
       "      <td>0.000000</td>\n",
       "      <td>0.000000</td>\n",
       "      <td>1.000000</td>\n",
       "      <td>0.000000</td>\n",
       "      <td>0.000000</td>\n",
       "      <td>0.000000</td>\n",
       "    </tr>\n",
       "    <tr>\n",
       "      <th>25%</th>\n",
       "      <td>0.000000</td>\n",
       "      <td>0.000000</td>\n",
       "      <td>1.000000</td>\n",
       "      <td>6.000000</td>\n",
       "      <td>0.000000</td>\n",
       "      <td>0.000000</td>\n",
       "    </tr>\n",
       "    <tr>\n",
       "      <th>50%</th>\n",
       "      <td>0.000000</td>\n",
       "      <td>0.000000</td>\n",
       "      <td>1.000000</td>\n",
       "      <td>11.000000</td>\n",
       "      <td>0.000000</td>\n",
       "      <td>0.000000</td>\n",
       "    </tr>\n",
       "    <tr>\n",
       "      <th>75%</th>\n",
       "      <td>5.000000</td>\n",
       "      <td>0.000000</td>\n",
       "      <td>1.000000</td>\n",
       "      <td>18.000000</td>\n",
       "      <td>0.000000</td>\n",
       "      <td>0.000000</td>\n",
       "    </tr>\n",
       "    <tr>\n",
       "      <th>max</th>\n",
       "      <td>497.000000</td>\n",
       "      <td>69.000000</td>\n",
       "      <td>11.000000</td>\n",
       "      <td>498.000000</td>\n",
       "      <td>587.000000</td>\n",
       "      <td>1484.000000</td>\n",
       "    </tr>\n",
       "  </tbody>\n",
       "</table>\n",
       "</div>"
      ],
      "text/plain": [
       "type   email_click  event_attendee  opportunity  sales_activity  \\\n",
       "count  5180.000000     5180.000000  5180.000000     5180.000000   \n",
       "mean      8.316023        0.849035     1.269691       13.993822   \n",
       "std      25.376743        3.212676     0.670488       15.065140   \n",
       "min       0.000000        0.000000     1.000000        0.000000   \n",
       "25%       0.000000        0.000000     1.000000        6.000000   \n",
       "50%       0.000000        0.000000     1.000000       11.000000   \n",
       "75%       5.000000        0.000000     1.000000       18.000000   \n",
       "max     497.000000       69.000000    11.000000      498.000000   \n",
       "\n",
       "type   web_file_download     web_tool  \n",
       "count        5180.000000  5180.000000  \n",
       "mean            4.256178     4.319498  \n",
       "std            23.520090    38.353269  \n",
       "min             0.000000     0.000000  \n",
       "25%             0.000000     0.000000  \n",
       "50%             0.000000     0.000000  \n",
       "75%             0.000000     0.000000  \n",
       "max           587.000000  1484.000000  "
      ]
     },
     "execution_count": 74,
     "metadata": {},
     "output_type": "execute_result"
    }
   ],
   "source": [
    "c4 = ddg['opportunity'] != 0 \n",
    "print(c4.sum())\n",
    "\n",
    "ddg[c4].describe()"
   ]
  },
  {
   "cell_type": "code",
   "execution_count": 75,
   "metadata": {},
   "outputs": [
    {
     "name": "stdout",
     "output_type": "stream",
     "text": [
      "106055\n"
     ]
    },
    {
     "data": {
      "text/html": [
       "<div>\n",
       "<style scoped>\n",
       "    .dataframe tbody tr th:only-of-type {\n",
       "        vertical-align: middle;\n",
       "    }\n",
       "\n",
       "    .dataframe tbody tr th {\n",
       "        vertical-align: top;\n",
       "    }\n",
       "\n",
       "    .dataframe thead th {\n",
       "        text-align: right;\n",
       "    }\n",
       "</style>\n",
       "<table border=\"1\" class=\"dataframe\">\n",
       "  <thead>\n",
       "    <tr style=\"text-align: right;\">\n",
       "      <th>type</th>\n",
       "      <th>email_click</th>\n",
       "      <th>event_attendee</th>\n",
       "      <th>opportunity</th>\n",
       "      <th>sales_activity</th>\n",
       "      <th>web_file_download</th>\n",
       "      <th>web_tool</th>\n",
       "    </tr>\n",
       "  </thead>\n",
       "  <tbody>\n",
       "    <tr>\n",
       "      <th>count</th>\n",
       "      <td>106055.000000</td>\n",
       "      <td>106055.000000</td>\n",
       "      <td>106055.000000</td>\n",
       "      <td>106055.000000</td>\n",
       "      <td>106055.000000</td>\n",
       "      <td>106055.000000</td>\n",
       "    </tr>\n",
       "    <tr>\n",
       "      <th>mean</th>\n",
       "      <td>2.991938</td>\n",
       "      <td>0.237132</td>\n",
       "      <td>0.059479</td>\n",
       "      <td>4.488897</td>\n",
       "      <td>1.516392</td>\n",
       "      <td>1.217642</td>\n",
       "    </tr>\n",
       "    <tr>\n",
       "      <th>std</th>\n",
       "      <td>12.983134</td>\n",
       "      <td>1.432713</td>\n",
       "      <td>0.307542</td>\n",
       "      <td>6.146593</td>\n",
       "      <td>18.728006</td>\n",
       "      <td>14.887265</td>\n",
       "    </tr>\n",
       "    <tr>\n",
       "      <th>min</th>\n",
       "      <td>0.000000</td>\n",
       "      <td>0.000000</td>\n",
       "      <td>0.000000</td>\n",
       "      <td>1.000000</td>\n",
       "      <td>0.000000</td>\n",
       "      <td>0.000000</td>\n",
       "    </tr>\n",
       "    <tr>\n",
       "      <th>25%</th>\n",
       "      <td>0.000000</td>\n",
       "      <td>0.000000</td>\n",
       "      <td>0.000000</td>\n",
       "      <td>1.000000</td>\n",
       "      <td>0.000000</td>\n",
       "      <td>0.000000</td>\n",
       "    </tr>\n",
       "    <tr>\n",
       "      <th>50%</th>\n",
       "      <td>0.000000</td>\n",
       "      <td>0.000000</td>\n",
       "      <td>0.000000</td>\n",
       "      <td>3.000000</td>\n",
       "      <td>0.000000</td>\n",
       "      <td>0.000000</td>\n",
       "    </tr>\n",
       "    <tr>\n",
       "      <th>75%</th>\n",
       "      <td>1.000000</td>\n",
       "      <td>0.000000</td>\n",
       "      <td>0.000000</td>\n",
       "      <td>5.000000</td>\n",
       "      <td>0.000000</td>\n",
       "      <td>0.000000</td>\n",
       "    </tr>\n",
       "    <tr>\n",
       "      <th>max</th>\n",
       "      <td>734.000000</td>\n",
       "      <td>69.000000</td>\n",
       "      <td>11.000000</td>\n",
       "      <td>498.000000</td>\n",
       "      <td>2699.000000</td>\n",
       "      <td>1484.000000</td>\n",
       "    </tr>\n",
       "  </tbody>\n",
       "</table>\n",
       "</div>"
      ],
      "text/plain": [
       "type     email_click  event_attendee    opportunity  sales_activity  \\\n",
       "count  106055.000000   106055.000000  106055.000000   106055.000000   \n",
       "mean        2.991938        0.237132       0.059479        4.488897   \n",
       "std        12.983134        1.432713       0.307542        6.146593   \n",
       "min         0.000000        0.000000       0.000000        1.000000   \n",
       "25%         0.000000        0.000000       0.000000        1.000000   \n",
       "50%         0.000000        0.000000       0.000000        3.000000   \n",
       "75%         1.000000        0.000000       0.000000        5.000000   \n",
       "max       734.000000       69.000000      11.000000      498.000000   \n",
       "\n",
       "type   web_file_download       web_tool  \n",
       "count      106055.000000  106055.000000  \n",
       "mean            1.516392       1.217642  \n",
       "std            18.728006      14.887265  \n",
       "min             0.000000       0.000000  \n",
       "25%             0.000000       0.000000  \n",
       "50%             0.000000       0.000000  \n",
       "75%             0.000000       0.000000  \n",
       "max          2699.000000    1484.000000  "
      ]
     },
     "execution_count": 75,
     "metadata": {},
     "output_type": "execute_result"
    }
   ],
   "source": [
    "c5 = ddg['sales_activity'] != 0 \n",
    "print(c5.sum())\n",
    "\n",
    "ddg[c5].describe()"
   ]
  },
  {
   "cell_type": "code",
   "execution_count": 76,
   "metadata": {},
   "outputs": [
    {
     "data": {
      "text/html": [
       "<div>\n",
       "<style scoped>\n",
       "    .dataframe tbody tr th:only-of-type {\n",
       "        vertical-align: middle;\n",
       "    }\n",
       "\n",
       "    .dataframe tbody tr th {\n",
       "        vertical-align: top;\n",
       "    }\n",
       "\n",
       "    .dataframe thead th {\n",
       "        text-align: right;\n",
       "    }\n",
       "</style>\n",
       "<table border=\"1\" class=\"dataframe\">\n",
       "  <thead>\n",
       "    <tr style=\"text-align: right;\">\n",
       "      <th>type</th>\n",
       "      <th>email_click</th>\n",
       "      <th>event_attendee</th>\n",
       "      <th>opportunity</th>\n",
       "      <th>sales_activity</th>\n",
       "      <th>web_file_download</th>\n",
       "      <th>web_tool</th>\n",
       "    </tr>\n",
       "  </thead>\n",
       "  <tbody>\n",
       "    <tr>\n",
       "      <th>count</th>\n",
       "      <td>101142.000000</td>\n",
       "      <td>101142.000000</td>\n",
       "      <td>101142.0</td>\n",
       "      <td>101142.000000</td>\n",
       "      <td>101142.000000</td>\n",
       "      <td>101142.000000</td>\n",
       "    </tr>\n",
       "    <tr>\n",
       "      <th>mean</th>\n",
       "      <td>2.712147</td>\n",
       "      <td>0.205325</td>\n",
       "      <td>0.0</td>\n",
       "      <td>3.990251</td>\n",
       "      <td>1.372190</td>\n",
       "      <td>1.055565</td>\n",
       "    </tr>\n",
       "    <tr>\n",
       "      <th>std</th>\n",
       "      <td>11.928144</td>\n",
       "      <td>1.266744</td>\n",
       "      <td>0.0</td>\n",
       "      <td>4.813709</td>\n",
       "      <td>18.413324</td>\n",
       "      <td>12.512359</td>\n",
       "    </tr>\n",
       "    <tr>\n",
       "      <th>min</th>\n",
       "      <td>0.000000</td>\n",
       "      <td>0.000000</td>\n",
       "      <td>0.0</td>\n",
       "      <td>1.000000</td>\n",
       "      <td>0.000000</td>\n",
       "      <td>0.000000</td>\n",
       "    </tr>\n",
       "    <tr>\n",
       "      <th>25%</th>\n",
       "      <td>0.000000</td>\n",
       "      <td>0.000000</td>\n",
       "      <td>0.0</td>\n",
       "      <td>1.000000</td>\n",
       "      <td>0.000000</td>\n",
       "      <td>0.000000</td>\n",
       "    </tr>\n",
       "    <tr>\n",
       "      <th>50%</th>\n",
       "      <td>0.000000</td>\n",
       "      <td>0.000000</td>\n",
       "      <td>0.0</td>\n",
       "      <td>2.000000</td>\n",
       "      <td>0.000000</td>\n",
       "      <td>0.000000</td>\n",
       "    </tr>\n",
       "    <tr>\n",
       "      <th>75%</th>\n",
       "      <td>1.000000</td>\n",
       "      <td>0.000000</td>\n",
       "      <td>0.0</td>\n",
       "      <td>5.000000</td>\n",
       "      <td>0.000000</td>\n",
       "      <td>0.000000</td>\n",
       "    </tr>\n",
       "    <tr>\n",
       "      <th>max</th>\n",
       "      <td>734.000000</td>\n",
       "      <td>57.000000</td>\n",
       "      <td>0.0</td>\n",
       "      <td>157.000000</td>\n",
       "      <td>2699.000000</td>\n",
       "      <td>842.000000</td>\n",
       "    </tr>\n",
       "  </tbody>\n",
       "</table>\n",
       "</div>"
      ],
      "text/plain": [
       "type     email_click  event_attendee  opportunity  sales_activity  \\\n",
       "count  101142.000000   101142.000000     101142.0   101142.000000   \n",
       "mean        2.712147        0.205325          0.0        3.990251   \n",
       "std        11.928144        1.266744          0.0        4.813709   \n",
       "min         0.000000        0.000000          0.0        1.000000   \n",
       "25%         0.000000        0.000000          0.0        1.000000   \n",
       "50%         0.000000        0.000000          0.0        2.000000   \n",
       "75%         1.000000        0.000000          0.0        5.000000   \n",
       "max       734.000000       57.000000          0.0      157.000000   \n",
       "\n",
       "type   web_file_download       web_tool  \n",
       "count      101142.000000  101142.000000  \n",
       "mean            1.372190       1.055565  \n",
       "std            18.413324      12.512359  \n",
       "min             0.000000       0.000000  \n",
       "25%             0.000000       0.000000  \n",
       "50%             0.000000       0.000000  \n",
       "75%             0.000000       0.000000  \n",
       "max          2699.000000     842.000000  "
      ]
     },
     "execution_count": 76,
     "metadata": {},
     "output_type": "execute_result"
    }
   ],
   "source": [
    "ddg[c5 & ~c4].describe()"
   ]
  },
  {
   "cell_type": "code",
   "execution_count": 78,
   "metadata": {},
   "outputs": [
    {
     "name": "stdout",
     "output_type": "stream",
     "text": [
      "11138\n"
     ]
    },
    {
     "data": {
      "text/html": [
       "<div>\n",
       "<style scoped>\n",
       "    .dataframe tbody tr th:only-of-type {\n",
       "        vertical-align: middle;\n",
       "    }\n",
       "\n",
       "    .dataframe tbody tr th {\n",
       "        vertical-align: top;\n",
       "    }\n",
       "\n",
       "    .dataframe thead th {\n",
       "        text-align: right;\n",
       "    }\n",
       "</style>\n",
       "<table border=\"1\" class=\"dataframe\">\n",
       "  <thead>\n",
       "    <tr style=\"text-align: right;\">\n",
       "      <th>type</th>\n",
       "      <th>email_click</th>\n",
       "      <th>event_attendee</th>\n",
       "      <th>opportunity</th>\n",
       "      <th>sales_activity</th>\n",
       "      <th>web_file_download</th>\n",
       "      <th>web_tool</th>\n",
       "    </tr>\n",
       "  </thead>\n",
       "  <tbody>\n",
       "    <tr>\n",
       "      <th>count</th>\n",
       "      <td>11138.000000</td>\n",
       "      <td>11138.000000</td>\n",
       "      <td>11138.000000</td>\n",
       "      <td>11138.00000</td>\n",
       "      <td>11138.000000</td>\n",
       "      <td>11138.000000</td>\n",
       "    </tr>\n",
       "    <tr>\n",
       "      <th>mean</th>\n",
       "      <td>19.526935</td>\n",
       "      <td>3.061860</td>\n",
       "      <td>0.128389</td>\n",
       "      <td>6.13629</td>\n",
       "      <td>6.641228</td>\n",
       "      <td>5.294577</td>\n",
       "    </tr>\n",
       "    <tr>\n",
       "      <th>std</th>\n",
       "      <td>32.769679</td>\n",
       "      <td>3.935851</td>\n",
       "      <td>0.489671</td>\n",
       "      <td>10.01402</td>\n",
       "      <td>32.615570</td>\n",
       "      <td>32.282963</td>\n",
       "    </tr>\n",
       "    <tr>\n",
       "      <th>min</th>\n",
       "      <td>0.000000</td>\n",
       "      <td>1.000000</td>\n",
       "      <td>0.000000</td>\n",
       "      <td>0.00000</td>\n",
       "      <td>0.000000</td>\n",
       "      <td>0.000000</td>\n",
       "    </tr>\n",
       "    <tr>\n",
       "      <th>25%</th>\n",
       "      <td>2.000000</td>\n",
       "      <td>1.000000</td>\n",
       "      <td>0.000000</td>\n",
       "      <td>0.00000</td>\n",
       "      <td>0.000000</td>\n",
       "      <td>0.000000</td>\n",
       "    </tr>\n",
       "    <tr>\n",
       "      <th>50%</th>\n",
       "      <td>8.000000</td>\n",
       "      <td>2.000000</td>\n",
       "      <td>0.000000</td>\n",
       "      <td>2.00000</td>\n",
       "      <td>0.000000</td>\n",
       "      <td>0.000000</td>\n",
       "    </tr>\n",
       "    <tr>\n",
       "      <th>75%</th>\n",
       "      <td>23.000000</td>\n",
       "      <td>3.000000</td>\n",
       "      <td>0.000000</td>\n",
       "      <td>8.00000</td>\n",
       "      <td>1.000000</td>\n",
       "      <td>0.000000</td>\n",
       "    </tr>\n",
       "    <tr>\n",
       "      <th>max</th>\n",
       "      <td>650.000000</td>\n",
       "      <td>69.000000</td>\n",
       "      <td>11.000000</td>\n",
       "      <td>157.00000</td>\n",
       "      <td>1667.000000</td>\n",
       "      <td>1348.000000</td>\n",
       "    </tr>\n",
       "  </tbody>\n",
       "</table>\n",
       "</div>"
      ],
      "text/plain": [
       "type    email_click  event_attendee   opportunity  sales_activity  \\\n",
       "count  11138.000000    11138.000000  11138.000000     11138.00000   \n",
       "mean      19.526935        3.061860      0.128389         6.13629   \n",
       "std       32.769679        3.935851      0.489671        10.01402   \n",
       "min        0.000000        1.000000      0.000000         0.00000   \n",
       "25%        2.000000        1.000000      0.000000         0.00000   \n",
       "50%        8.000000        2.000000      0.000000         2.00000   \n",
       "75%       23.000000        3.000000      0.000000         8.00000   \n",
       "max      650.000000       69.000000     11.000000       157.00000   \n",
       "\n",
       "type   web_file_download      web_tool  \n",
       "count       11138.000000  11138.000000  \n",
       "mean            6.641228      5.294577  \n",
       "std            32.615570     32.282963  \n",
       "min             0.000000      0.000000  \n",
       "25%             0.000000      0.000000  \n",
       "50%             0.000000      0.000000  \n",
       "75%             1.000000      0.000000  \n",
       "max          1667.000000   1348.000000  "
      ]
     },
     "execution_count": 78,
     "metadata": {},
     "output_type": "execute_result"
    }
   ],
   "source": [
    "c6 = ddg['event_attendee'] != 0 \n",
    "print(c6.sum())\n",
    "\n",
    "ddg[c6].describe()"
   ]
  },
  {
   "cell_type": "code",
   "execution_count": 79,
   "metadata": {},
   "outputs": [
    {
     "name": "stdout",
     "output_type": "stream",
     "text": [
      "14802\n"
     ]
    },
    {
     "data": {
      "text/html": [
       "<div>\n",
       "<style scoped>\n",
       "    .dataframe tbody tr th:only-of-type {\n",
       "        vertical-align: middle;\n",
       "    }\n",
       "\n",
       "    .dataframe tbody tr th {\n",
       "        vertical-align: top;\n",
       "    }\n",
       "\n",
       "    .dataframe thead th {\n",
       "        text-align: right;\n",
       "    }\n",
       "</style>\n",
       "<table border=\"1\" class=\"dataframe\">\n",
       "  <thead>\n",
       "    <tr style=\"text-align: right;\">\n",
       "      <th>type</th>\n",
       "      <th>email_click</th>\n",
       "      <th>event_attendee</th>\n",
       "      <th>opportunity</th>\n",
       "      <th>sales_activity</th>\n",
       "      <th>web_file_download</th>\n",
       "      <th>web_tool</th>\n",
       "    </tr>\n",
       "  </thead>\n",
       "  <tbody>\n",
       "    <tr>\n",
       "      <th>count</th>\n",
       "      <td>14802.000000</td>\n",
       "      <td>14802.000000</td>\n",
       "      <td>14802.000000</td>\n",
       "      <td>14802.000000</td>\n",
       "      <td>14802.000000</td>\n",
       "      <td>14802.000000</td>\n",
       "    </tr>\n",
       "    <tr>\n",
       "      <th>mean</th>\n",
       "      <td>16.192069</td>\n",
       "      <td>1.058776</td>\n",
       "      <td>0.088299</td>\n",
       "      <td>5.077557</td>\n",
       "      <td>15.875422</td>\n",
       "      <td>12.727942</td>\n",
       "    </tr>\n",
       "    <tr>\n",
       "      <th>std</th>\n",
       "      <td>30.894914</td>\n",
       "      <td>3.258463</td>\n",
       "      <td>0.398090</td>\n",
       "      <td>9.225251</td>\n",
       "      <td>54.769674</td>\n",
       "      <td>44.838454</td>\n",
       "    </tr>\n",
       "    <tr>\n",
       "      <th>min</th>\n",
       "      <td>0.000000</td>\n",
       "      <td>0.000000</td>\n",
       "      <td>0.000000</td>\n",
       "      <td>0.000000</td>\n",
       "      <td>0.000000</td>\n",
       "      <td>0.000000</td>\n",
       "    </tr>\n",
       "    <tr>\n",
       "      <th>25%</th>\n",
       "      <td>0.000000</td>\n",
       "      <td>0.000000</td>\n",
       "      <td>0.000000</td>\n",
       "      <td>0.000000</td>\n",
       "      <td>1.000000</td>\n",
       "      <td>0.000000</td>\n",
       "    </tr>\n",
       "    <tr>\n",
       "      <th>50%</th>\n",
       "      <td>5.000000</td>\n",
       "      <td>0.000000</td>\n",
       "      <td>0.000000</td>\n",
       "      <td>1.000000</td>\n",
       "      <td>3.000000</td>\n",
       "      <td>1.000000</td>\n",
       "    </tr>\n",
       "    <tr>\n",
       "      <th>75%</th>\n",
       "      <td>19.000000</td>\n",
       "      <td>0.000000</td>\n",
       "      <td>0.000000</td>\n",
       "      <td>6.000000</td>\n",
       "      <td>12.000000</td>\n",
       "      <td>6.000000</td>\n",
       "    </tr>\n",
       "    <tr>\n",
       "      <th>max</th>\n",
       "      <td>650.000000</td>\n",
       "      <td>69.000000</td>\n",
       "      <td>11.000000</td>\n",
       "      <td>200.000000</td>\n",
       "      <td>2699.000000</td>\n",
       "      <td>1484.000000</td>\n",
       "    </tr>\n",
       "  </tbody>\n",
       "</table>\n",
       "</div>"
      ],
      "text/plain": [
       "type    email_click  event_attendee   opportunity  sales_activity  \\\n",
       "count  14802.000000    14802.000000  14802.000000    14802.000000   \n",
       "mean      16.192069        1.058776      0.088299        5.077557   \n",
       "std       30.894914        3.258463      0.398090        9.225251   \n",
       "min        0.000000        0.000000      0.000000        0.000000   \n",
       "25%        0.000000        0.000000      0.000000        0.000000   \n",
       "50%        5.000000        0.000000      0.000000        1.000000   \n",
       "75%       19.000000        0.000000      0.000000        6.000000   \n",
       "max      650.000000       69.000000     11.000000      200.000000   \n",
       "\n",
       "type   web_file_download      web_tool  \n",
       "count       14802.000000  14802.000000  \n",
       "mean           15.875422     12.727942  \n",
       "std            54.769674     44.838454  \n",
       "min             0.000000      0.000000  \n",
       "25%             1.000000      0.000000  \n",
       "50%             3.000000      1.000000  \n",
       "75%            12.000000      6.000000  \n",
       "max          2699.000000   1484.000000  "
      ]
     },
     "execution_count": 79,
     "metadata": {},
     "output_type": "execute_result"
    }
   ],
   "source": [
    "c7 = ddg['web_tool'] != 0 \n",
    "c8 = ddg['web_file_download'] != 0 \n",
    "print((c7 | c8) .sum())\n",
    "\n",
    "ddg[(c7 | c8)].describe()"
   ]
  },
  {
   "cell_type": "code",
   "execution_count": 80,
   "metadata": {},
   "outputs": [
    {
     "data": {
      "text/html": [
       "<div>\n",
       "<style scoped>\n",
       "    .dataframe tbody tr th:only-of-type {\n",
       "        vertical-align: middle;\n",
       "    }\n",
       "\n",
       "    .dataframe tbody tr th {\n",
       "        vertical-align: top;\n",
       "    }\n",
       "\n",
       "    .dataframe thead th {\n",
       "        text-align: right;\n",
       "    }\n",
       "</style>\n",
       "<table border=\"1\" class=\"dataframe\">\n",
       "  <thead>\n",
       "    <tr style=\"text-align: right;\">\n",
       "      <th>type</th>\n",
       "      <th>email_click</th>\n",
       "      <th>event_attendee</th>\n",
       "      <th>opportunity</th>\n",
       "      <th>sales_activity</th>\n",
       "      <th>web_file_download</th>\n",
       "      <th>web_tool</th>\n",
       "    </tr>\n",
       "  </thead>\n",
       "  <tbody>\n",
       "    <tr>\n",
       "      <th>count</th>\n",
       "      <td>13862.000000</td>\n",
       "      <td>13862.000000</td>\n",
       "      <td>13862.0</td>\n",
       "      <td>13862.000000</td>\n",
       "      <td>13862.000000</td>\n",
       "      <td>13862.000000</td>\n",
       "    </tr>\n",
       "    <tr>\n",
       "      <th>mean</th>\n",
       "      <td>15.269081</td>\n",
       "      <td>0.944092</td>\n",
       "      <td>0.0</td>\n",
       "      <td>4.004978</td>\n",
       "      <td>15.361492</td>\n",
       "      <td>11.976915</td>\n",
       "    </tr>\n",
       "    <tr>\n",
       "      <th>std</th>\n",
       "      <td>28.986500</td>\n",
       "      <td>2.926309</td>\n",
       "      <td>0.0</td>\n",
       "      <td>7.246695</td>\n",
       "      <td>54.980255</td>\n",
       "      <td>40.246584</td>\n",
       "    </tr>\n",
       "    <tr>\n",
       "      <th>min</th>\n",
       "      <td>0.000000</td>\n",
       "      <td>0.000000</td>\n",
       "      <td>0.0</td>\n",
       "      <td>0.000000</td>\n",
       "      <td>0.000000</td>\n",
       "      <td>0.000000</td>\n",
       "    </tr>\n",
       "    <tr>\n",
       "      <th>25%</th>\n",
       "      <td>0.000000</td>\n",
       "      <td>0.000000</td>\n",
       "      <td>0.0</td>\n",
       "      <td>0.000000</td>\n",
       "      <td>1.000000</td>\n",
       "      <td>0.000000</td>\n",
       "    </tr>\n",
       "    <tr>\n",
       "      <th>50%</th>\n",
       "      <td>5.000000</td>\n",
       "      <td>0.000000</td>\n",
       "      <td>0.0</td>\n",
       "      <td>1.000000</td>\n",
       "      <td>3.000000</td>\n",
       "      <td>1.000000</td>\n",
       "    </tr>\n",
       "    <tr>\n",
       "      <th>75%</th>\n",
       "      <td>17.000000</td>\n",
       "      <td>0.000000</td>\n",
       "      <td>0.0</td>\n",
       "      <td>5.000000</td>\n",
       "      <td>11.000000</td>\n",
       "      <td>6.000000</td>\n",
       "    </tr>\n",
       "    <tr>\n",
       "      <th>max</th>\n",
       "      <td>650.000000</td>\n",
       "      <td>57.000000</td>\n",
       "      <td>0.0</td>\n",
       "      <td>136.000000</td>\n",
       "      <td>2699.000000</td>\n",
       "      <td>1052.000000</td>\n",
       "    </tr>\n",
       "  </tbody>\n",
       "</table>\n",
       "</div>"
      ],
      "text/plain": [
       "type    email_click  event_attendee  opportunity  sales_activity  \\\n",
       "count  13862.000000    13862.000000      13862.0    13862.000000   \n",
       "mean      15.269081        0.944092          0.0        4.004978   \n",
       "std       28.986500        2.926309          0.0        7.246695   \n",
       "min        0.000000        0.000000          0.0        0.000000   \n",
       "25%        0.000000        0.000000          0.0        0.000000   \n",
       "50%        5.000000        0.000000          0.0        1.000000   \n",
       "75%       17.000000        0.000000          0.0        5.000000   \n",
       "max      650.000000       57.000000          0.0      136.000000   \n",
       "\n",
       "type   web_file_download      web_tool  \n",
       "count       13862.000000  13862.000000  \n",
       "mean           15.361492     11.976915  \n",
       "std            54.980255     40.246584  \n",
       "min             0.000000      0.000000  \n",
       "25%             1.000000      0.000000  \n",
       "50%             3.000000      1.000000  \n",
       "75%            11.000000      6.000000  \n",
       "max          2699.000000   1052.000000  "
      ]
     },
     "execution_count": 80,
     "metadata": {},
     "output_type": "execute_result"
    }
   ],
   "source": [
    "ddg[(c7 | c8)& ~c4].describe()"
   ]
  },
  {
   "cell_type": "code",
   "execution_count": 81,
   "metadata": {},
   "outputs": [
    {
     "data": {
      "text/html": [
       "<div>\n",
       "<style scoped>\n",
       "    .dataframe tbody tr th:only-of-type {\n",
       "        vertical-align: middle;\n",
       "    }\n",
       "\n",
       "    .dataframe tbody tr th {\n",
       "        vertical-align: top;\n",
       "    }\n",
       "\n",
       "    .dataframe thead th {\n",
       "        text-align: right;\n",
       "    }\n",
       "</style>\n",
       "<table border=\"1\" class=\"dataframe\">\n",
       "  <thead>\n",
       "    <tr style=\"text-align: right;\">\n",
       "      <th>type</th>\n",
       "      <th>email_click</th>\n",
       "      <th>event_attendee</th>\n",
       "      <th>opportunity</th>\n",
       "      <th>sales_activity</th>\n",
       "      <th>web_file_download</th>\n",
       "      <th>web_tool</th>\n",
       "    </tr>\n",
       "  </thead>\n",
       "  <tbody>\n",
       "    <tr>\n",
       "      <th>count</th>\n",
       "      <td>5180.000000</td>\n",
       "      <td>5180.000000</td>\n",
       "      <td>5180.000000</td>\n",
       "      <td>5180.000000</td>\n",
       "      <td>5180.000000</td>\n",
       "      <td>5180.000000</td>\n",
       "    </tr>\n",
       "    <tr>\n",
       "      <th>mean</th>\n",
       "      <td>8.316023</td>\n",
       "      <td>0.849035</td>\n",
       "      <td>1.269691</td>\n",
       "      <td>13.993822</td>\n",
       "      <td>4.256178</td>\n",
       "      <td>4.319498</td>\n",
       "    </tr>\n",
       "    <tr>\n",
       "      <th>std</th>\n",
       "      <td>25.376743</td>\n",
       "      <td>3.212676</td>\n",
       "      <td>0.670488</td>\n",
       "      <td>15.065140</td>\n",
       "      <td>23.520090</td>\n",
       "      <td>38.353269</td>\n",
       "    </tr>\n",
       "    <tr>\n",
       "      <th>min</th>\n",
       "      <td>0.000000</td>\n",
       "      <td>0.000000</td>\n",
       "      <td>1.000000</td>\n",
       "      <td>0.000000</td>\n",
       "      <td>0.000000</td>\n",
       "      <td>0.000000</td>\n",
       "    </tr>\n",
       "    <tr>\n",
       "      <th>25%</th>\n",
       "      <td>0.000000</td>\n",
       "      <td>0.000000</td>\n",
       "      <td>1.000000</td>\n",
       "      <td>6.000000</td>\n",
       "      <td>0.000000</td>\n",
       "      <td>0.000000</td>\n",
       "    </tr>\n",
       "    <tr>\n",
       "      <th>50%</th>\n",
       "      <td>0.000000</td>\n",
       "      <td>0.000000</td>\n",
       "      <td>1.000000</td>\n",
       "      <td>11.000000</td>\n",
       "      <td>0.000000</td>\n",
       "      <td>0.000000</td>\n",
       "    </tr>\n",
       "    <tr>\n",
       "      <th>75%</th>\n",
       "      <td>5.000000</td>\n",
       "      <td>0.000000</td>\n",
       "      <td>1.000000</td>\n",
       "      <td>18.000000</td>\n",
       "      <td>0.000000</td>\n",
       "      <td>0.000000</td>\n",
       "    </tr>\n",
       "    <tr>\n",
       "      <th>max</th>\n",
       "      <td>497.000000</td>\n",
       "      <td>69.000000</td>\n",
       "      <td>11.000000</td>\n",
       "      <td>498.000000</td>\n",
       "      <td>587.000000</td>\n",
       "      <td>1484.000000</td>\n",
       "    </tr>\n",
       "  </tbody>\n",
       "</table>\n",
       "</div>"
      ],
      "text/plain": [
       "type   email_click  event_attendee  opportunity  sales_activity  \\\n",
       "count  5180.000000     5180.000000  5180.000000     5180.000000   \n",
       "mean      8.316023        0.849035     1.269691       13.993822   \n",
       "std      25.376743        3.212676     0.670488       15.065140   \n",
       "min       0.000000        0.000000     1.000000        0.000000   \n",
       "25%       0.000000        0.000000     1.000000        6.000000   \n",
       "50%       0.000000        0.000000     1.000000       11.000000   \n",
       "75%       5.000000        0.000000     1.000000       18.000000   \n",
       "max     497.000000       69.000000    11.000000      498.000000   \n",
       "\n",
       "type   web_file_download     web_tool  \n",
       "count        5180.000000  5180.000000  \n",
       "mean            4.256178     4.319498  \n",
       "std            23.520090    38.353269  \n",
       "min             0.000000     0.000000  \n",
       "25%             0.000000     0.000000  \n",
       "50%             0.000000     0.000000  \n",
       "75%             0.000000     0.000000  \n",
       "max           587.000000  1484.000000  "
      ]
     },
     "execution_count": 81,
     "metadata": {},
     "output_type": "execute_result"
    }
   ],
   "source": [
    "ddg[c4].describe()"
   ]
  },
  {
   "cell_type": "code",
   "execution_count": 82,
   "metadata": {},
   "outputs": [
    {
     "name": "stdout",
     "output_type": "stream",
     "text": [
      "53732\n"
     ]
    },
    {
     "data": {
      "text/html": [
       "<div>\n",
       "<style scoped>\n",
       "    .dataframe tbody tr th:only-of-type {\n",
       "        vertical-align: middle;\n",
       "    }\n",
       "\n",
       "    .dataframe tbody tr th {\n",
       "        vertical-align: top;\n",
       "    }\n",
       "\n",
       "    .dataframe thead th {\n",
       "        text-align: right;\n",
       "    }\n",
       "</style>\n",
       "<table border=\"1\" class=\"dataframe\">\n",
       "  <thead>\n",
       "    <tr style=\"text-align: right;\">\n",
       "      <th>type</th>\n",
       "      <th>email_click</th>\n",
       "      <th>event_attendee</th>\n",
       "      <th>opportunity</th>\n",
       "      <th>sales_activity</th>\n",
       "      <th>web_file_download</th>\n",
       "      <th>web_tool</th>\n",
       "    </tr>\n",
       "  </thead>\n",
       "  <tbody>\n",
       "    <tr>\n",
       "      <th>count</th>\n",
       "      <td>53732.000000</td>\n",
       "      <td>53732.000000</td>\n",
       "      <td>53732.000000</td>\n",
       "      <td>53732.000000</td>\n",
       "      <td>53732.000000</td>\n",
       "      <td>53732.000000</td>\n",
       "    </tr>\n",
       "    <tr>\n",
       "      <th>mean</th>\n",
       "      <td>9.433745</td>\n",
       "      <td>0.599475</td>\n",
       "      <td>0.059406</td>\n",
       "      <td>3.436965</td>\n",
       "      <td>3.139228</td>\n",
       "      <td>2.493114</td>\n",
       "    </tr>\n",
       "    <tr>\n",
       "      <th>std</th>\n",
       "      <td>20.836080</td>\n",
       "      <td>2.160491</td>\n",
       "      <td>0.318727</td>\n",
       "      <td>6.994051</td>\n",
       "      <td>25.178054</td>\n",
       "      <td>21.449075</td>\n",
       "    </tr>\n",
       "    <tr>\n",
       "      <th>min</th>\n",
       "      <td>1.000000</td>\n",
       "      <td>0.000000</td>\n",
       "      <td>0.000000</td>\n",
       "      <td>0.000000</td>\n",
       "      <td>0.000000</td>\n",
       "      <td>0.000000</td>\n",
       "    </tr>\n",
       "    <tr>\n",
       "      <th>25%</th>\n",
       "      <td>1.000000</td>\n",
       "      <td>0.000000</td>\n",
       "      <td>0.000000</td>\n",
       "      <td>0.000000</td>\n",
       "      <td>0.000000</td>\n",
       "      <td>0.000000</td>\n",
       "    </tr>\n",
       "    <tr>\n",
       "      <th>50%</th>\n",
       "      <td>3.000000</td>\n",
       "      <td>0.000000</td>\n",
       "      <td>0.000000</td>\n",
       "      <td>1.000000</td>\n",
       "      <td>0.000000</td>\n",
       "      <td>0.000000</td>\n",
       "    </tr>\n",
       "    <tr>\n",
       "      <th>75%</th>\n",
       "      <td>9.000000</td>\n",
       "      <td>0.000000</td>\n",
       "      <td>0.000000</td>\n",
       "      <td>4.000000</td>\n",
       "      <td>0.000000</td>\n",
       "      <td>0.000000</td>\n",
       "    </tr>\n",
       "    <tr>\n",
       "      <th>max</th>\n",
       "      <td>1307.000000</td>\n",
       "      <td>69.000000</td>\n",
       "      <td>11.000000</td>\n",
       "      <td>226.000000</td>\n",
       "      <td>2699.000000</td>\n",
       "      <td>1484.000000</td>\n",
       "    </tr>\n",
       "  </tbody>\n",
       "</table>\n",
       "</div>"
      ],
      "text/plain": [
       "type    email_click  event_attendee   opportunity  sales_activity  \\\n",
       "count  53732.000000    53732.000000  53732.000000    53732.000000   \n",
       "mean       9.433745        0.599475      0.059406        3.436965   \n",
       "std       20.836080        2.160491      0.318727        6.994051   \n",
       "min        1.000000        0.000000      0.000000        0.000000   \n",
       "25%        1.000000        0.000000      0.000000        0.000000   \n",
       "50%        3.000000        0.000000      0.000000        1.000000   \n",
       "75%        9.000000        0.000000      0.000000        4.000000   \n",
       "max     1307.000000       69.000000     11.000000      226.000000   \n",
       "\n",
       "type   web_file_download      web_tool  \n",
       "count       53732.000000  53732.000000  \n",
       "mean            3.139228      2.493114  \n",
       "std            25.178054     21.449075  \n",
       "min             0.000000      0.000000  \n",
       "25%             0.000000      0.000000  \n",
       "50%             0.000000      0.000000  \n",
       "75%             0.000000      0.000000  \n",
       "max          2699.000000   1484.000000  "
      ]
     },
     "execution_count": 82,
     "metadata": {},
     "output_type": "execute_result"
    }
   ],
   "source": [
    "c9 = ddg['email_click'] != 0 \n",
    "print(c9.sum())\n",
    "\n",
    "ddg[c9].describe()"
   ]
  },
  {
   "cell_type": "code",
   "execution_count": 83,
   "metadata": {},
   "outputs": [
    {
     "data": {
      "text/html": [
       "<div>\n",
       "<style scoped>\n",
       "    .dataframe tbody tr th:only-of-type {\n",
       "        vertical-align: middle;\n",
       "    }\n",
       "\n",
       "    .dataframe tbody tr th {\n",
       "        vertical-align: top;\n",
       "    }\n",
       "\n",
       "    .dataframe thead th {\n",
       "        text-align: right;\n",
       "    }\n",
       "</style>\n",
       "<table border=\"1\" class=\"dataframe\">\n",
       "  <thead>\n",
       "    <tr style=\"text-align: right;\">\n",
       "      <th>type</th>\n",
       "      <th>email_click</th>\n",
       "      <th>event_attendee</th>\n",
       "      <th>opportunity</th>\n",
       "      <th>sales_activity</th>\n",
       "      <th>web_file_download</th>\n",
       "      <th>web_tool</th>\n",
       "    </tr>\n",
       "  </thead>\n",
       "  <tbody>\n",
       "    <tr>\n",
       "      <th>count</th>\n",
       "      <td>51348.000000</td>\n",
       "      <td>51348.000000</td>\n",
       "      <td>51348.0</td>\n",
       "      <td>51348.000000</td>\n",
       "      <td>51348.000000</td>\n",
       "      <td>51348.000000</td>\n",
       "    </tr>\n",
       "    <tr>\n",
       "      <th>mean</th>\n",
       "      <td>9.032815</td>\n",
       "      <td>0.545922</td>\n",
       "      <td>0.0</td>\n",
       "      <td>2.777440</td>\n",
       "      <td>2.914369</td>\n",
       "      <td>2.230895</td>\n",
       "    </tr>\n",
       "    <tr>\n",
       "      <th>std</th>\n",
       "      <td>19.847037</td>\n",
       "      <td>1.965567</td>\n",
       "      <td>0.0</td>\n",
       "      <td>5.479783</td>\n",
       "      <td>24.798293</td>\n",
       "      <td>18.429665</td>\n",
       "    </tr>\n",
       "    <tr>\n",
       "      <th>min</th>\n",
       "      <td>1.000000</td>\n",
       "      <td>0.000000</td>\n",
       "      <td>0.0</td>\n",
       "      <td>0.000000</td>\n",
       "      <td>0.000000</td>\n",
       "      <td>0.000000</td>\n",
       "    </tr>\n",
       "    <tr>\n",
       "      <th>25%</th>\n",
       "      <td>1.000000</td>\n",
       "      <td>0.000000</td>\n",
       "      <td>0.0</td>\n",
       "      <td>0.000000</td>\n",
       "      <td>0.000000</td>\n",
       "      <td>0.000000</td>\n",
       "    </tr>\n",
       "    <tr>\n",
       "      <th>50%</th>\n",
       "      <td>3.000000</td>\n",
       "      <td>0.000000</td>\n",
       "      <td>0.0</td>\n",
       "      <td>0.000000</td>\n",
       "      <td>0.000000</td>\n",
       "      <td>0.000000</td>\n",
       "    </tr>\n",
       "    <tr>\n",
       "      <th>75%</th>\n",
       "      <td>8.000000</td>\n",
       "      <td>0.000000</td>\n",
       "      <td>0.0</td>\n",
       "      <td>3.000000</td>\n",
       "      <td>0.000000</td>\n",
       "      <td>0.000000</td>\n",
       "    </tr>\n",
       "    <tr>\n",
       "      <th>max</th>\n",
       "      <td>1307.000000</td>\n",
       "      <td>57.000000</td>\n",
       "      <td>0.0</td>\n",
       "      <td>136.000000</td>\n",
       "      <td>2699.000000</td>\n",
       "      <td>1052.000000</td>\n",
       "    </tr>\n",
       "  </tbody>\n",
       "</table>\n",
       "</div>"
      ],
      "text/plain": [
       "type    email_click  event_attendee  opportunity  sales_activity  \\\n",
       "count  51348.000000    51348.000000      51348.0    51348.000000   \n",
       "mean       9.032815        0.545922          0.0        2.777440   \n",
       "std       19.847037        1.965567          0.0        5.479783   \n",
       "min        1.000000        0.000000          0.0        0.000000   \n",
       "25%        1.000000        0.000000          0.0        0.000000   \n",
       "50%        3.000000        0.000000          0.0        0.000000   \n",
       "75%        8.000000        0.000000          0.0        3.000000   \n",
       "max     1307.000000       57.000000          0.0      136.000000   \n",
       "\n",
       "type   web_file_download      web_tool  \n",
       "count       51348.000000  51348.000000  \n",
       "mean            2.914369      2.230895  \n",
       "std            24.798293     18.429665  \n",
       "min             0.000000      0.000000  \n",
       "25%             0.000000      0.000000  \n",
       "50%             0.000000      0.000000  \n",
       "75%             0.000000      0.000000  \n",
       "max          2699.000000   1052.000000  "
      ]
     },
     "execution_count": 83,
     "metadata": {},
     "output_type": "execute_result"
    }
   ],
   "source": [
    "ddg[c9 & ~c4].describe()"
   ]
  },
  {
   "cell_type": "code",
   "execution_count": null,
   "metadata": {},
   "outputs": [],
   "source": []
  },
  {
   "cell_type": "code",
   "execution_count": 88,
   "metadata": {
    "scrolled": true
   },
   "outputs": [
    {
     "data": {
      "text/plain": [
       "476069"
      ]
     },
     "execution_count": 88,
     "metadata": {},
     "output_type": "execute_result"
    }
   ],
   "source": [
    "ddsk = dds.shift()\n",
    "c1 = ddsk['type'] =='sales_activity'\n",
    "c1.sum()"
   ]
  },
  {
   "cell_type": "code",
   "execution_count": 89,
   "metadata": {},
   "outputs": [
    {
     "data": {
      "text/plain": [
       "1312027"
      ]
     },
     "execution_count": 89,
     "metadata": {},
     "output_type": "execute_result"
    }
   ],
   "source": [
    "c2 = ddsk['contactid'] == dds['contactid']\n",
    "c2.sum()"
   ]
  },
  {
   "cell_type": "code",
   "execution_count": 90,
   "metadata": {},
   "outputs": [
    {
     "data": {
      "text/plain": [
       "sales_activity       0.833251\n",
       "email_click          0.112411\n",
       "web_tool             0.021082\n",
       "opportunity          0.013788\n",
       "web_file_download    0.012852\n",
       "event_attendee       0.006616\n",
       "Name: type, dtype: float64"
      ]
     },
     "execution_count": 90,
     "metadata": {},
     "output_type": "execute_result"
    }
   ],
   "source": [
    "xy = dds[c1 & c2 ]['type'].value_counts() / dds[c1 & c2 ]['type'].value_counts().sum()\n",
    "xy"
   ]
  },
  {
   "cell_type": "code",
   "execution_count": 91,
   "metadata": {
    "scrolled": false
   },
   "outputs": [
    {
     "name": "stderr",
     "output_type": "stream",
     "text": [
      "/usr/local/anaconda/lib/python3.6/site-packages/ipykernel_launcher.py:10: UserWarning: You have used the `textcoords` kwarg, but not the `xytext` kwarg.  This can lead to surprising results.\n",
      "  # Remove the CWD from sys.path while we load stuff.\n"
     ]
    },
    {
     "data": {
      "image/png": "[encoded data removed]",
      "text/plain": [
       "<Figure size 1080x576 with 1 Axes>"
      ]
     },
     "metadata": {
      "needs_background": "light"
     },
     "output_type": "display_data"
    }
   ],
   "source": [
    "import seaborn as sns\n",
    "import matplotlib.pyplot as plt\n",
    "\n",
    "plt.figure(figsize=(15,8))\n",
    "\n",
    "ax = sns.barplot(xy.index, xy)\n",
    "for p in ax.patches:\n",
    "    ax.annotate(format(p.get_height(), '.3f'), \n",
    "                   (p.get_x() + p.get_width() / 2., p.get_height()), \n",
    "                   ha = 'center', va = 'center',  size = 10,  textcoords = 'offset points')\n",
    "\n"
   ]
  },
  {
   "cell_type": "code",
   "execution_count": 93,
   "metadata": {},
   "outputs": [
    {
     "data": {
      "text/plain": [
       "<bound method NDFrame.last of                                    contactid  \\\n",
       "0       0000f4da-e16b-eb11-a812-000d3a9e0f51   \n",
       "1       0001f60e-c2b2-e811-a96c-000d3a1c5cc0   \n",
       "2       00026a35-e9b2-e811-a969-000d3a1c5716   \n",
       "3       0003c255-ddb2-e811-a969-000d3a1c5ec5   \n",
       "4       0003e4dd-508a-e911-a97b-000d3a1c5ec5   \n",
       "5       0003edc0-14b3-e811-a965-000d3a1c5f15   \n",
       "6       000403ea-b3b2-e811-a965-000d3a1c5f15   \n",
       "7       00046395-36b3-e811-a965-000d3a1c53e4   \n",
       "8       0004e4df-f476-eb11-b1ab-000d3a1aba43   \n",
       "9       00068517-e8b2-e811-a969-000d3a1c5ec5   \n",
       "10      00072391-60b3-e811-a969-000d3a1c5ec5   \n",
       "11      000723f3-63b3-e811-a965-000d3a1c5f15   \n",
       "12      0008a9de-ceb2-e811-a969-000d3a1c5716   \n",
       "13      00098b0b-72b3-e811-a965-000d3a1c53e4   \n",
       "14      0009c1e9-d3b2-e811-a969-000d3a1c5716   \n",
       "15      000ac532-c4b2-e811-a965-000d3a1c53e4   \n",
       "16      000af16b-6fb3-e811-a96e-000d3a1c5096   \n",
       "17      000b622e-d8b2-e811-a969-000d3a1c5ec5   \n",
       "18      000c4a8d-c9b2-e811-a96c-000d3a1c5cc0   \n",
       "19      000ce02a-efb2-e811-a969-000d3a1c5716   \n",
       "20      000d309c-100b-e911-a96d-000d3a1c5ec5   \n",
       "21      000d3c01-b5b2-e811-a969-000d3a1c5ec5   \n",
       "22      000f3c01-b5b2-e811-a969-000d3a1c5ec5   \n",
       "23      000f5520-e5b2-e811-a965-000d3a1c53e4   \n",
       "24      000f7a06-23b3-e811-a965-000d3a1c53e4   \n",
       "25      0010060e-ddb2-e811-a969-000d3a1c5ec5   \n",
       "26      00103b81-31b3-e811-a965-000d3a1c5f15   \n",
       "27      0010a071-603c-ea11-a812-000d3a1abe26   \n",
       "28      00111d90-30b3-e811-a965-000d3a1c5f15   \n",
       "29      00119730-84a8-e911-a97e-000d3a1c5ec5   \n",
       "...                                      ...   \n",
       "134974  fff26ea5-e0b2-e811-a96e-000d3a1c5096   \n",
       "134975  fff2c12e-37d2-e811-a967-000d3a1c53e4   \n",
       "134976  fff34e67-d1b2-e811-a96c-000d3a1c5cc0   \n",
       "134977  fff3be8f-14b3-e811-a965-000d3a1c53e4   \n",
       "134978  fff3ddbc-c26b-eb11-b0b0-000d3a1aba43   \n",
       "134979  fff4b571-84a8-e911-a980-000d3a1c5096   \n",
       "134980  fff4e8f2-39b3-e811-a965-000d3a1c53e4   \n",
       "134981  fff54fb2-2f1f-e911-a973-000d3a1c5cc0   \n",
       "134982  fff5e8f2-39b3-e811-a965-000d3a1c53e4   \n",
       "134983  fff6514d-e3b2-e811-a969-000d3a1c5716   \n",
       "134984  fff691b9-8f65-eb11-a812-0022481c31cc   \n",
       "134985  fff7caae-eeb2-e811-a96c-000d3a1c5cc0   \n",
       "134986  fff7d9a1-7a5d-e911-a97a-000d3a1c5096   \n",
       "134987  fff8ad1e-deb2-e811-a96e-000d3a1c5096   \n",
       "134988  fff942a0-2db3-e811-a96e-000d3a1c5096   \n",
       "134989  fff9b9e6-5841-eb11-bf68-000d3a1ab5a9   \n",
       "134990  fffa2b7d-f1b2-e811-a969-000d3a1c5716   \n",
       "134991  fffa499a-18b3-e811-a965-000d3a1c5f15   \n",
       "134992  fffa50dc-e0b2-e811-a96c-000d3a1c5cc0   \n",
       "134993  fffb4190-5bb3-e811-a965-000d3a1c53e4   \n",
       "134994  fffb69fc-6891-eb11-b1ac-0022482034e7   \n",
       "134995  fffb72ab-55b3-e811-a96c-000d3a1c5cc0   \n",
       "134996  fffbb483-b4b2-e811-a969-000d3a1c5ec5   \n",
       "134997  fffc5907-d9b2-e811-a969-000d3a1c5716   \n",
       "134998  fffc8d99-d9b2-e811-a96c-000d3a1c5cc0   \n",
       "134999  fffc9285-0eb3-e811-a969-000d3a1c5716   \n",
       "135000  fffcf44b-12b3-e811-a965-000d3a1c5f15   \n",
       "135001  fffd81b0-11b3-e811-a969-000d3a1c5716   \n",
       "135002  fffd95ea-f5b2-e811-a969-000d3a1c5716   \n",
       "135003  fffff06a-0f42-ea11-a812-000d3a1ab88b   \n",
       "\n",
       "                                                     type  \n",
       "0       [sales_activity, sales_activity, sales_activit...  \n",
       "1        [sales_activity, sales_activity, sales_activity]  \n",
       "2       [web_tool, web_tool, web_tool, web_file_downlo...  \n",
       "3        [sales_activity, sales_activity, sales_activity]  \n",
       "4       [sales_activity, sales_activity, sales_activit...  \n",
       "5                        [sales_activity, sales_activity]  \n",
       "6       [sales_activity, sales_activity, sales_activit...  \n",
       "7       [web_tool, web_tool, web_file_download, web_fi...  \n",
       "8                                        [sales_activity]  \n",
       "9       [sales_activity, sales_activity, sales_activit...  \n",
       "10                                          [email_click]  \n",
       "11      [email_click, email_click, web_file_download, ...  \n",
       "12      [sales_activity, web_tool, web_tool, sales_act...  \n",
       "13                                          [email_click]  \n",
       "14      [sales_activity, sales_activity, sales_activit...  \n",
       "15      [email_click, email_click, sales_activity, ema...  \n",
       "16      [sales_activity, sales_activity, sales_activit...  \n",
       "17      [sales_activity, sales_activity, sales_activit...  \n",
       "18      [sales_activity, sales_activity, sales_activit...  \n",
       "19                       [sales_activity, sales_activity]  \n",
       "20      [email_click, sales_activity, sales_activity, ...  \n",
       "21       [sales_activity, sales_activity, sales_activity]  \n",
       "22      [sales_activity, sales_activity, sales_activit...  \n",
       "23      [email_click, email_click, email_click, email_...  \n",
       "24      [sales_activity, sales_activity, sales_activit...  \n",
       "25                       [sales_activity, sales_activity]  \n",
       "26      [sales_activity, sales_activity, sales_activit...  \n",
       "27      [sales_activity, sales_activity, sales_activit...  \n",
       "28                                       [sales_activity]  \n",
       "29      [sales_activity, sales_activity, sales_activit...  \n",
       "...                                                   ...  \n",
       "134974  [sales_activity, sales_activity, sales_activit...  \n",
       "134975  [sales_activity, sales_activity, sales_activit...  \n",
       "134976  [sales_activity, sales_activity, sales_activit...  \n",
       "134977  [email_click, email_click, email_click, email_...  \n",
       "134978                                   [sales_activity]  \n",
       "134979                                      [email_click]  \n",
       "134980  [sales_activity, email_click, email_click, ema...  \n",
       "134981   [sales_activity, sales_activity, sales_activity]  \n",
       "134982  [sales_activity, sales_activity, sales_activit...  \n",
       "134983                   [sales_activity, sales_activity]  \n",
       "134984  [sales_activity, sales_activity, sales_activit...  \n",
       "134985                      [sales_activity, email_click]  \n",
       "134986  [sales_activity, sales_activity, sales_activit...  \n",
       "134987                                   [sales_activity]  \n",
       "134988  [email_click, web_tool, web_tool, sales_activi...  \n",
       "134989                                   [sales_activity]  \n",
       "134990                                   [sales_activity]  \n",
       "134991  [email_click, email_click, email_click, email_...  \n",
       "134992  [sales_activity, sales_activity, sales_activit...  \n",
       "134993                   [sales_activity, sales_activity]  \n",
       "134994                                   [sales_activity]  \n",
       "134995  [email_click, email_click, email_click, email_...  \n",
       "134996                                   [sales_activity]  \n",
       "134997  [sales_activity, sales_activity, sales_activit...  \n",
       "134998                         [email_click, email_click]  \n",
       "134999                                      [email_click]  \n",
       "135000  [email_click, email_click, sales_activity, ema...  \n",
       "135001  [email_click, email_click, email_click, email_...  \n",
       "135002  [sales_activity, sales_activity, sales_activit...  \n",
       "135003  [web_tool, web_file_download, web_tool, web_to...  \n",
       "\n",
       "[135004 rows x 2 columns]>"
      ]
     },
     "execution_count": 93,
     "metadata": {},
     "output_type": "execute_result"
    }
   ],
   "source": [
    "### find most frequent channel combination \n",
    "\n",
    "ddsl = dds.groupby('contactid')['type'].aggregate(lambda x: x.tolist()).reset_index()\n",
    "ddsl.last"
   ]
  },
  {
   "cell_type": "code",
   "execution_count": 96,
   "metadata": {},
   "outputs": [
    {
     "data": {
      "text/plain": [
       "(135004, 2)"
      ]
     },
     "execution_count": 96,
     "metadata": {},
     "output_type": "execute_result"
    }
   ],
   "source": [
    "ddsl.shape"
   ]
  },
  {
   "cell_type": "code",
   "execution_count": 103,
   "metadata": {},
   "outputs": [
    {
     "data": {
      "text/plain": [
       "5180"
      ]
     },
     "execution_count": 103,
     "metadata": {},
     "output_type": "execute_result"
    }
   ],
   "source": [
    "cc1 = ddsl['contactid'].isin(set(ddg[c4].index))\n",
    "cc1.sum()"
   ]
  },
  {
   "cell_type": "code",
   "execution_count": 104,
   "metadata": {},
   "outputs": [
    {
     "data": {
      "text/html": [
       "<div>\n",
       "<style scoped>\n",
       "    .dataframe tbody tr th:only-of-type {\n",
       "        vertical-align: middle;\n",
       "    }\n",
       "\n",
       "    .dataframe tbody tr th {\n",
       "        vertical-align: top;\n",
       "    }\n",
       "\n",
       "    .dataframe thead th {\n",
       "        text-align: right;\n",
       "    }\n",
       "</style>\n",
       "<table border=\"1\" class=\"dataframe\">\n",
       "  <thead>\n",
       "    <tr style=\"text-align: right;\">\n",
       "      <th></th>\n",
       "      <th>contactid</th>\n",
       "      <th>type</th>\n",
       "    </tr>\n",
       "  </thead>\n",
       "  <tbody>\n",
       "    <tr>\n",
       "      <th>6</th>\n",
       "      <td>000403ea-b3b2-e811-a965-000d3a1c5f15</td>\n",
       "      <td>[sales_activity, sales_activity, sales_activit...</td>\n",
       "    </tr>\n",
       "    <tr>\n",
       "      <th>17</th>\n",
       "      <td>000b622e-d8b2-e811-a969-000d3a1c5ec5</td>\n",
       "      <td>[sales_activity, sales_activity, sales_activit...</td>\n",
       "    </tr>\n",
       "    <tr>\n",
       "      <th>82</th>\n",
       "      <td>003345b2-c6b2-e811-a969-000d3a1c5716</td>\n",
       "      <td>[sales_activity, sales_activity, sales_activit...</td>\n",
       "    </tr>\n",
       "    <tr>\n",
       "      <th>185</th>\n",
       "      <td>00732084-b3b2-e811-a965-000d3a1c53e4</td>\n",
       "      <td>[sales_activity, email_click, email_click, sal...</td>\n",
       "    </tr>\n",
       "    <tr>\n",
       "      <th>200</th>\n",
       "      <td>007d00bc-cfb2-e811-a969-000d3a1c5716</td>\n",
       "      <td>[sales_activity, sales_activity, opportunity, ...</td>\n",
       "    </tr>\n",
       "    <tr>\n",
       "      <th>259</th>\n",
       "      <td>0095d079-add5-ea11-a813-000d3a56bca1</td>\n",
       "      <td>[sales_activity, sales_activity, sales_activit...</td>\n",
       "    </tr>\n",
       "    <tr>\n",
       "      <th>281</th>\n",
       "      <td>009dcbd2-70b3-e811-a969-000d3a1c5ec5</td>\n",
       "      <td>[opportunity]</td>\n",
       "    </tr>\n",
       "    <tr>\n",
       "      <th>286</th>\n",
       "      <td>009ed792-cfb2-e811-a96c-000d3a1c5cc0</td>\n",
       "      <td>[opportunity, sales_activity, sales_activity]</td>\n",
       "    </tr>\n",
       "    <tr>\n",
       "      <th>294</th>\n",
       "      <td>00a53a25-eeb2-e811-a965-000d3a1c53e4</td>\n",
       "      <td>[sales_activity, sales_activity, sales_activit...</td>\n",
       "    </tr>\n",
       "    <tr>\n",
       "      <th>308</th>\n",
       "      <td>00ae72bb-c7b2-e811-a969-000d3a1c5ec5</td>\n",
       "      <td>[sales_activity, sales_activity, sales_activit...</td>\n",
       "    </tr>\n",
       "    <tr>\n",
       "      <th>311</th>\n",
       "      <td>00af3a06-dcb2-e811-a965-000d3a1c5f15</td>\n",
       "      <td>[sales_activity, sales_activity, sales_activit...</td>\n",
       "    </tr>\n",
       "    <tr>\n",
       "      <th>322</th>\n",
       "      <td>00bb4b09-0813-eb11-a813-000d3a1abe5c</td>\n",
       "      <td>[sales_activity, opportunity, sales_activity, ...</td>\n",
       "    </tr>\n",
       "    <tr>\n",
       "      <th>339</th>\n",
       "      <td>00c5f60e-c7b2-e811-a96c-000d3a1c5cc0</td>\n",
       "      <td>[sales_activity, sales_activity, sales_activit...</td>\n",
       "    </tr>\n",
       "    <tr>\n",
       "      <th>378</th>\n",
       "      <td>00d35b34-c9b2-e811-a965-000d3a1c53e4</td>\n",
       "      <td>[sales_activity, sales_activity, opportunity, ...</td>\n",
       "    </tr>\n",
       "    <tr>\n",
       "      <th>381</th>\n",
       "      <td>00d49403-46b3-e811-a96c-000d3a1c5cc0</td>\n",
       "      <td>[email_click, sales_activity, sales_activity, ...</td>\n",
       "    </tr>\n",
       "    <tr>\n",
       "      <th>491</th>\n",
       "      <td>010f1a0c-cdb2-e811-a965-000d3a1c5f15</td>\n",
       "      <td>[web_tool, web_file_download, web_file_downloa...</td>\n",
       "    </tr>\n",
       "    <tr>\n",
       "      <th>506</th>\n",
       "      <td>01140b4b-e7b2-e811-a965-000d3a1c5f15</td>\n",
       "      <td>[sales_activity, sales_activity, sales_activit...</td>\n",
       "    </tr>\n",
       "    <tr>\n",
       "      <th>513</th>\n",
       "      <td>01161ca0-dfb2-e811-a96c-000d3a1c5cc0</td>\n",
       "      <td>[email_click, sales_activity, sales_activity, ...</td>\n",
       "    </tr>\n",
       "    <tr>\n",
       "      <th>545</th>\n",
       "      <td>01224c0d-c7b2-e811-a965-000d3a1c53e4</td>\n",
       "      <td>[sales_activity, sales_activity, sales_activit...</td>\n",
       "    </tr>\n",
       "    <tr>\n",
       "      <th>609</th>\n",
       "      <td>014454a4-d7b2-e811-a969-000d3a1c5ec5</td>\n",
       "      <td>[sales_activity, sales_activity, sales_activit...</td>\n",
       "    </tr>\n",
       "    <tr>\n",
       "      <th>615</th>\n",
       "      <td>014542bb-cfb2-e811-a96e-000d3a1c5096</td>\n",
       "      <td>[sales_activity, sales_activity, sales_activit...</td>\n",
       "    </tr>\n",
       "    <tr>\n",
       "      <th>631</th>\n",
       "      <td>014c1594-30b3-e811-a965-000d3a1c53e4</td>\n",
       "      <td>[email_click, email_click, email_click, email_...</td>\n",
       "    </tr>\n",
       "    <tr>\n",
       "      <th>634</th>\n",
       "      <td>014d3f1a-70b3-e811-a965-000d3a1c5f15</td>\n",
       "      <td>[sales_activity, sales_activity, sales_activit...</td>\n",
       "    </tr>\n",
       "    <tr>\n",
       "      <th>709</th>\n",
       "      <td>0175c545-b6b2-e811-a969-000d3a1c5ec5</td>\n",
       "      <td>[sales_activity, sales_activity, sales_activit...</td>\n",
       "    </tr>\n",
       "    <tr>\n",
       "      <th>774</th>\n",
       "      <td>01929e7e-2ab3-e811-a96e-000d3a1c5096</td>\n",
       "      <td>[sales_activity, sales_activity, sales_activit...</td>\n",
       "    </tr>\n",
       "    <tr>\n",
       "      <th>783</th>\n",
       "      <td>0197d642-37b3-e811-a965-000d3a1c53e4</td>\n",
       "      <td>[email_click, email_click, email_click, email_...</td>\n",
       "    </tr>\n",
       "    <tr>\n",
       "      <th>804</th>\n",
       "      <td>01a5f4fb-b6b2-e811-a96c-000d3a1c5cc0</td>\n",
       "      <td>[sales_activity, sales_activity, sales_activit...</td>\n",
       "    </tr>\n",
       "    <tr>\n",
       "      <th>824</th>\n",
       "      <td>01aff449-e1b2-e811-a96e-000d3a1c5096</td>\n",
       "      <td>[web_tool, web_tool, web_tool, sales_activity,...</td>\n",
       "    </tr>\n",
       "    <tr>\n",
       "      <th>834</th>\n",
       "      <td>01b30c1f-e4b2-e811-a965-000d3a1c5f15</td>\n",
       "      <td>[sales_activity, sales_activity, sales_activit...</td>\n",
       "    </tr>\n",
       "    <tr>\n",
       "      <th>852</th>\n",
       "      <td>01bad1cc-dfb2-e811-a965-000d3a1c53e4</td>\n",
       "      <td>[sales_activity, sales_activity, email_click, ...</td>\n",
       "    </tr>\n",
       "    <tr>\n",
       "      <th>...</th>\n",
       "      <td>...</td>\n",
       "      <td>...</td>\n",
       "    </tr>\n",
       "    <tr>\n",
       "      <th>134204</th>\n",
       "      <td>fe6b408a-47b3-e811-a969-000d3a1c5716</td>\n",
       "      <td>[sales_activity, sales_activity, sales_activit...</td>\n",
       "    </tr>\n",
       "    <tr>\n",
       "      <th>134205</th>\n",
       "      <td>fe6cf40c-50b3-e811-a969-000d3a1c5ec5</td>\n",
       "      <td>[opportunity, sales_activity, sales_activity, ...</td>\n",
       "    </tr>\n",
       "    <tr>\n",
       "      <th>134270</th>\n",
       "      <td>fe941da0-14b3-e811-a969-000d3a1c5716</td>\n",
       "      <td>[opportunity, sales_activity, email_click, ema...</td>\n",
       "    </tr>\n",
       "    <tr>\n",
       "      <th>134282</th>\n",
       "      <td>fe9b55a2-64b3-e811-a965-000d3a1c5f15</td>\n",
       "      <td>[email_click, email_click, email_click, sales_...</td>\n",
       "    </tr>\n",
       "    <tr>\n",
       "      <th>134314</th>\n",
       "      <td>fea8a5a7-e8b2-e811-a965-000d3a1c53e4</td>\n",
       "      <td>[sales_activity, sales_activity, sales_activit...</td>\n",
       "    </tr>\n",
       "    <tr>\n",
       "      <th>134355</th>\n",
       "      <td>febab9e1-c8b2-e811-a96e-000d3a1c5096</td>\n",
       "      <td>[sales_activity, sales_activity, sales_activit...</td>\n",
       "    </tr>\n",
       "    <tr>\n",
       "      <th>134380</th>\n",
       "      <td>fec3df9c-d68b-e911-a97c-000d3a1c5716</td>\n",
       "      <td>[sales_activity, sales_activity, sales_activit...</td>\n",
       "    </tr>\n",
       "    <tr>\n",
       "      <th>134384</th>\n",
       "      <td>fec5c805-916c-e911-a978-000d3a1c5cc0</td>\n",
       "      <td>[sales_activity, sales_activity, email_click, ...</td>\n",
       "    </tr>\n",
       "    <tr>\n",
       "      <th>134418</th>\n",
       "      <td>fed748d1-fcc0-e811-a96b-000d3a1c5716</td>\n",
       "      <td>[sales_activity, email_click, sales_activity, ...</td>\n",
       "    </tr>\n",
       "    <tr>\n",
       "      <th>134422</th>\n",
       "      <td>fed802b1-a655-eb11-a812-000d3a102477</td>\n",
       "      <td>[sales_activity, sales_activity, sales_activit...</td>\n",
       "    </tr>\n",
       "    <tr>\n",
       "      <th>134455</th>\n",
       "      <td>fee74be7-d6b2-e811-a96e-000d3a1c5096</td>\n",
       "      <td>[sales_activity, web_file_download, sales_acti...</td>\n",
       "    </tr>\n",
       "    <tr>\n",
       "      <th>134464</th>\n",
       "      <td>feea669d-cab2-e811-a969-000d3a1c5ec5</td>\n",
       "      <td>[sales_activity, sales_activity, sales_activit...</td>\n",
       "    </tr>\n",
       "    <tr>\n",
       "      <th>134476</th>\n",
       "      <td>fef283a2-6db3-e811-a969-000d3a1c5ec5</td>\n",
       "      <td>[sales_activity, sales_activity, sales_activit...</td>\n",
       "    </tr>\n",
       "    <tr>\n",
       "      <th>134546</th>\n",
       "      <td>ff17e3bd-b3b2-e811-a969-000d3a1c5716</td>\n",
       "      <td>[sales_activity, sales_activity, sales_activit...</td>\n",
       "    </tr>\n",
       "    <tr>\n",
       "      <th>134578</th>\n",
       "      <td>ff2aa102-d6b2-e811-a965-000d3a1c5f15</td>\n",
       "      <td>[opportunity, sales_activity, sales_activity, ...</td>\n",
       "    </tr>\n",
       "    <tr>\n",
       "      <th>134641</th>\n",
       "      <td>ff4e58f5-eab2-e811-a965-000d3a1c5f15</td>\n",
       "      <td>[sales_activity, email_click, sales_activity, ...</td>\n",
       "    </tr>\n",
       "    <tr>\n",
       "      <th>134642</th>\n",
       "      <td>ff4f7b4d-5bb3-e811-a965-000d3a1c5f15</td>\n",
       "      <td>[sales_activity, sales_activity, sales_activit...</td>\n",
       "    </tr>\n",
       "    <tr>\n",
       "      <th>134656</th>\n",
       "      <td>ff54026e-e4b2-e811-a965-000d3a1c5f15</td>\n",
       "      <td>[sales_activity, sales_activity, sales_activit...</td>\n",
       "    </tr>\n",
       "    <tr>\n",
       "      <th>134666</th>\n",
       "      <td>ff58e2e7-be55-e911-a977-000d3a1c5cc0</td>\n",
       "      <td>[sales_activity, sales_activity, sales_activit...</td>\n",
       "    </tr>\n",
       "    <tr>\n",
       "      <th>134711</th>\n",
       "      <td>ff7114c2-10b3-e811-a969-000d3a1c5ec5</td>\n",
       "      <td>[email_click, email_click, sales_activity, sal...</td>\n",
       "    </tr>\n",
       "    <tr>\n",
       "      <th>134726</th>\n",
       "      <td>ff7862cf-b6b2-e811-a969-000d3a1c5ec5</td>\n",
       "      <td>[sales_activity, sales_activity, sales_activit...</td>\n",
       "    </tr>\n",
       "    <tr>\n",
       "      <th>134727</th>\n",
       "      <td>ff7870ed-e7b2-e811-a969-000d3a1c5ec5</td>\n",
       "      <td>[sales_activity, sales_activity, sales_activit...</td>\n",
       "    </tr>\n",
       "    <tr>\n",
       "      <th>134789</th>\n",
       "      <td>ff93ed68-cfb2-e811-a96c-000d3a1c5cc0</td>\n",
       "      <td>[sales_activity, sales_activity, sales_activit...</td>\n",
       "    </tr>\n",
       "    <tr>\n",
       "      <th>134813</th>\n",
       "      <td>ff9aec40-3bb3-e811-a96e-000d3a1c5096</td>\n",
       "      <td>[sales_activity, sales_activity, sales_activit...</td>\n",
       "    </tr>\n",
       "    <tr>\n",
       "      <th>134870</th>\n",
       "      <td>ffb71f6a-6fb3-e811-a965-000d3a1c53e4</td>\n",
       "      <td>[sales_activity, sales_activity, opportunity, ...</td>\n",
       "    </tr>\n",
       "    <tr>\n",
       "      <th>134893</th>\n",
       "      <td>ffc12cb7-c2b2-e811-a96c-000d3a1c5cc0</td>\n",
       "      <td>[sales_activity, sales_activity, sales_activit...</td>\n",
       "    </tr>\n",
       "    <tr>\n",
       "      <th>134917</th>\n",
       "      <td>ffcc95c1-d1b2-e811-a96c-000d3a1c5cc0</td>\n",
       "      <td>[sales_activity, sales_activity, opportunity, ...</td>\n",
       "    </tr>\n",
       "    <tr>\n",
       "      <th>134926</th>\n",
       "      <td>ffd107bd-66b3-e811-a969-000d3a1c5716</td>\n",
       "      <td>[email_click, email_click, email_click, email_...</td>\n",
       "    </tr>\n",
       "    <tr>\n",
       "      <th>134939</th>\n",
       "      <td>ffdb248f-c4b2-e811-a969-000d3a1c5716</td>\n",
       "      <td>[email_click, email_click, sales_activity, ema...</td>\n",
       "    </tr>\n",
       "    <tr>\n",
       "      <th>134988</th>\n",
       "      <td>fff942a0-2db3-e811-a96e-000d3a1c5096</td>\n",
       "      <td>[email_click, web_tool, web_tool, sales_activi...</td>\n",
       "    </tr>\n",
       "  </tbody>\n",
       "</table>\n",
       "<p>5180 rows × 2 columns</p>\n",
       "</div>"
      ],
      "text/plain": [
       "                                   contactid  \\\n",
       "6       000403ea-b3b2-e811-a965-000d3a1c5f15   \n",
       "17      000b622e-d8b2-e811-a969-000d3a1c5ec5   \n",
       "82      003345b2-c6b2-e811-a969-000d3a1c5716   \n",
       "185     00732084-b3b2-e811-a965-000d3a1c53e4   \n",
       "200     007d00bc-cfb2-e811-a969-000d3a1c5716   \n",
       "259     0095d079-add5-ea11-a813-000d3a56bca1   \n",
       "281     009dcbd2-70b3-e811-a969-000d3a1c5ec5   \n",
       "286     009ed792-cfb2-e811-a96c-000d3a1c5cc0   \n",
       "294     00a53a25-eeb2-e811-a965-000d3a1c53e4   \n",
       "308     00ae72bb-c7b2-e811-a969-000d3a1c5ec5   \n",
       "311     00af3a06-dcb2-e811-a965-000d3a1c5f15   \n",
       "322     00bb4b09-0813-eb11-a813-000d3a1abe5c   \n",
       "339     00c5f60e-c7b2-e811-a96c-000d3a1c5cc0   \n",
       "378     00d35b34-c9b2-e811-a965-000d3a1c53e4   \n",
       "381     00d49403-46b3-e811-a96c-000d3a1c5cc0   \n",
       "491     010f1a0c-cdb2-e811-a965-000d3a1c5f15   \n",
       "506     01140b4b-e7b2-e811-a965-000d3a1c5f15   \n",
       "513     01161ca0-dfb2-e811-a96c-000d3a1c5cc0   \n",
       "545     01224c0d-c7b2-e811-a965-000d3a1c53e4   \n",
       "609     014454a4-d7b2-e811-a969-000d3a1c5ec5   \n",
       "615     014542bb-cfb2-e811-a96e-000d3a1c5096   \n",
       "631     014c1594-30b3-e811-a965-000d3a1c53e4   \n",
       "634     014d3f1a-70b3-e811-a965-000d3a1c5f15   \n",
       "709     0175c545-b6b2-e811-a969-000d3a1c5ec5   \n",
       "774     01929e7e-2ab3-e811-a96e-000d3a1c5096   \n",
       "783     0197d642-37b3-e811-a965-000d3a1c53e4   \n",
       "804     01a5f4fb-b6b2-e811-a96c-000d3a1c5cc0   \n",
       "824     01aff449-e1b2-e811-a96e-000d3a1c5096   \n",
       "834     01b30c1f-e4b2-e811-a965-000d3a1c5f15   \n",
       "852     01bad1cc-dfb2-e811-a965-000d3a1c53e4   \n",
       "...                                      ...   \n",
       "134204  fe6b408a-47b3-e811-a969-000d3a1c5716   \n",
       "134205  fe6cf40c-50b3-e811-a969-000d3a1c5ec5   \n",
       "134270  fe941da0-14b3-e811-a969-000d3a1c5716   \n",
       "134282  fe9b55a2-64b3-e811-a965-000d3a1c5f15   \n",
       "134314  fea8a5a7-e8b2-e811-a965-000d3a1c53e4   \n",
       "134355  febab9e1-c8b2-e811-a96e-000d3a1c5096   \n",
       "134380  fec3df9c-d68b-e911-a97c-000d3a1c5716   \n",
       "134384  fec5c805-916c-e911-a978-000d3a1c5cc0   \n",
       "134418  fed748d1-fcc0-e811-a96b-000d3a1c5716   \n",
       "134422  fed802b1-a655-eb11-a812-000d3a102477   \n",
       "134455  fee74be7-d6b2-e811-a96e-000d3a1c5096   \n",
       "134464  feea669d-cab2-e811-a969-000d3a1c5ec5   \n",
       "134476  fef283a2-6db3-e811-a969-000d3a1c5ec5   \n",
       "134546  ff17e3bd-b3b2-e811-a969-000d3a1c5716   \n",
       "134578  ff2aa102-d6b2-e811-a965-000d3a1c5f15   \n",
       "134641  ff4e58f5-eab2-e811-a965-000d3a1c5f15   \n",
       "134642  ff4f7b4d-5bb3-e811-a965-000d3a1c5f15   \n",
       "134656  ff54026e-e4b2-e811-a965-000d3a1c5f15   \n",
       "134666  ff58e2e7-be55-e911-a977-000d3a1c5cc0   \n",
       "134711  ff7114c2-10b3-e811-a969-000d3a1c5ec5   \n",
       "134726  ff7862cf-b6b2-e811-a969-000d3a1c5ec5   \n",
       "134727  ff7870ed-e7b2-e811-a969-000d3a1c5ec5   \n",
       "134789  ff93ed68-cfb2-e811-a96c-000d3a1c5cc0   \n",
       "134813  ff9aec40-3bb3-e811-a96e-000d3a1c5096   \n",
       "134870  ffb71f6a-6fb3-e811-a965-000d3a1c53e4   \n",
       "134893  ffc12cb7-c2b2-e811-a96c-000d3a1c5cc0   \n",
       "134917  ffcc95c1-d1b2-e811-a96c-000d3a1c5cc0   \n",
       "134926  ffd107bd-66b3-e811-a969-000d3a1c5716   \n",
       "134939  ffdb248f-c4b2-e811-a969-000d3a1c5716   \n",
       "134988  fff942a0-2db3-e811-a96e-000d3a1c5096   \n",
       "\n",
       "                                                     type  \n",
       "6       [sales_activity, sales_activity, sales_activit...  \n",
       "17      [sales_activity, sales_activity, sales_activit...  \n",
       "82      [sales_activity, sales_activity, sales_activit...  \n",
       "185     [sales_activity, email_click, email_click, sal...  \n",
       "200     [sales_activity, sales_activity, opportunity, ...  \n",
       "259     [sales_activity, sales_activity, sales_activit...  \n",
       "281                                         [opportunity]  \n",
       "286         [opportunity, sales_activity, sales_activity]  \n",
       "294     [sales_activity, sales_activity, sales_activit...  \n",
       "308     [sales_activity, sales_activity, sales_activit...  \n",
       "311     [sales_activity, sales_activity, sales_activit...  \n",
       "322     [sales_activity, opportunity, sales_activity, ...  \n",
       "339     [sales_activity, sales_activity, sales_activit...  \n",
       "378     [sales_activity, sales_activity, opportunity, ...  \n",
       "381     [email_click, sales_activity, sales_activity, ...  \n",
       "491     [web_tool, web_file_download, web_file_downloa...  \n",
       "506     [sales_activity, sales_activity, sales_activit...  \n",
       "513     [email_click, sales_activity, sales_activity, ...  \n",
       "545     [sales_activity, sales_activity, sales_activit...  \n",
       "609     [sales_activity, sales_activity, sales_activit...  \n",
       "615     [sales_activity, sales_activity, sales_activit...  \n",
       "631     [email_click, email_click, email_click, email_...  \n",
       "634     [sales_activity, sales_activity, sales_activit...  \n",
       "709     [sales_activity, sales_activity, sales_activit...  \n",
       "774     [sales_activity, sales_activity, sales_activit...  \n",
       "783     [email_click, email_click, email_click, email_...  \n",
       "804     [sales_activity, sales_activity, sales_activit...  \n",
       "824     [web_tool, web_tool, web_tool, sales_activity,...  \n",
       "834     [sales_activity, sales_activity, sales_activit...  \n",
       "852     [sales_activity, sales_activity, email_click, ...  \n",
       "...                                                   ...  \n",
       "134204  [sales_activity, sales_activity, sales_activit...  \n",
       "134205  [opportunity, sales_activity, sales_activity, ...  \n",
       "134270  [opportunity, sales_activity, email_click, ema...  \n",
       "134282  [email_click, email_click, email_click, sales_...  \n",
       "134314  [sales_activity, sales_activity, sales_activit...  \n",
       "134355  [sales_activity, sales_activity, sales_activit...  \n",
       "134380  [sales_activity, sales_activity, sales_activit...  \n",
       "134384  [sales_activity, sales_activity, email_click, ...  \n",
       "134418  [sales_activity, email_click, sales_activity, ...  \n",
       "134422  [sales_activity, sales_activity, sales_activit...  \n",
       "134455  [sales_activity, web_file_download, sales_acti...  \n",
       "134464  [sales_activity, sales_activity, sales_activit...  \n",
       "134476  [sales_activity, sales_activity, sales_activit...  \n",
       "134546  [sales_activity, sales_activity, sales_activit...  \n",
       "134578  [opportunity, sales_activity, sales_activity, ...  \n",
       "134641  [sales_activity, email_click, sales_activity, ...  \n",
       "134642  [sales_activity, sales_activity, sales_activit...  \n",
       "134656  [sales_activity, sales_activity, sales_activit...  \n",
       "134666  [sales_activity, sales_activity, sales_activit...  \n",
       "134711  [email_click, email_click, sales_activity, sal...  \n",
       "134726  [sales_activity, sales_activity, sales_activit...  \n",
       "134727  [sales_activity, sales_activity, sales_activit...  \n",
       "134789  [sales_activity, sales_activity, sales_activit...  \n",
       "134813  [sales_activity, sales_activity, sales_activit...  \n",
       "134870  [sales_activity, sales_activity, opportunity, ...  \n",
       "134893  [sales_activity, sales_activity, sales_activit...  \n",
       "134917  [sales_activity, sales_activity, opportunity, ...  \n",
       "134926  [email_click, email_click, email_click, email_...  \n",
       "134939  [email_click, email_click, sales_activity, ema...  \n",
       "134988  [email_click, web_tool, web_tool, sales_activi...  \n",
       "\n",
       "[5180 rows x 2 columns]"
      ]
     },
     "execution_count": 104,
     "metadata": {},
     "output_type": "execute_result"
    }
   ],
   "source": [
    "ddsl1 = ddsl[cc1]\n",
    "ddsl1"
   ]
  },
  {
   "cell_type": "code",
   "execution_count": null,
   "metadata": {},
   "outputs": [],
   "source": []
  }
 ],
 "metadata": {
  "kernelspec": {
   "display_name": "Python 3",
   "language": "python",
   "name": "python3"
  },
  "language_info": {
   "codemirror_mode": {
    "name": "ipython",
    "version": 3
   },
   "file_extension": ".py",
   "mimetype": "text/x-python",
   "name": "python",
   "nbconvert_exporter": "python",
   "pygments_lexer": "ipython3",
   "version": "3.6.8"
  }
 },
 "nbformat": 4,
 "nbformat_minor": 2
}
